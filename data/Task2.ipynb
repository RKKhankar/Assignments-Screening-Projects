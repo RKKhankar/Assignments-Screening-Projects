{
 "cells": [
  {
   "cell_type": "markdown",
   "id": "5d6121e3-403b-45c0-89d8-91fca80f137d",
   "metadata": {},
   "source": [
    "#### **TASK-2**\n",
    "\n",
    "**Develop the ML model(s) to predict the credit risk(low or high) for a given applicant.** \n",
    "\n",
    "**Business Constraint:** Note that it is worse to state an applicant as a low credit risk when they are actually a high risk(Type2) - False Negative , than it is to state an applicant to be a high credit risk when they aren’t(Type1) - False Positive. "
   ]
  },
  {
   "cell_type": "code",
   "execution_count": 1,
   "id": "0e3d3feb-2157-4dac-89ac-64926fd8ff02",
   "metadata": {},
   "outputs": [],
   "source": [
    "import pandas as pd\n",
    "import matplotlib.pyplot as plt\n",
    "%matplotlib inline\n",
    "import seaborn as sns\n",
    "import warnings\n",
    "warnings.filterwarnings('ignore')"
   ]
  },
  {
   "cell_type": "code",
   "execution_count": 2,
   "id": "a612e652-8761-4cb3-b593-cbcc5ff6f1f1",
   "metadata": {},
   "outputs": [],
   "source": [
    "data = pd.read_csv('data2')"
   ]
  },
  {
   "cell_type": "code",
   "execution_count": 3,
   "id": "02d9f916-f637-4951-8687-1dc1ff031e59",
   "metadata": {},
   "outputs": [
    {
     "data": {
      "text/html": [
       "<div>\n",
       "<style scoped>\n",
       "    .dataframe tbody tr th:only-of-type {\n",
       "        vertical-align: middle;\n",
       "    }\n",
       "\n",
       "    .dataframe tbody tr th {\n",
       "        vertical-align: top;\n",
       "    }\n",
       "\n",
       "    .dataframe thead th {\n",
       "        text-align: right;\n",
       "    }\n",
       "</style>\n",
       "<table border=\"1\" class=\"dataframe\">\n",
       "  <thead>\n",
       "    <tr style=\"text-align: right;\">\n",
       "      <th></th>\n",
       "      <th>Unnamed: 0</th>\n",
       "      <th>applicant_id</th>\n",
       "      <th>Primary_applicant_age_in_years</th>\n",
       "      <th>Gender</th>\n",
       "      <th>Marital_status</th>\n",
       "      <th>Number_of_dependents</th>\n",
       "      <th>Housing</th>\n",
       "      <th>Years_at_current_residence</th>\n",
       "      <th>Employment_status</th>\n",
       "      <th>Foreign_worker</th>\n",
       "      <th>loan_application_id</th>\n",
       "      <th>Months_loan_taken_for</th>\n",
       "      <th>Principal_loan_amount</th>\n",
       "      <th>EMI_rate_in_percentage_of_disposable_income</th>\n",
       "      <th>Has_coapplicant</th>\n",
       "      <th>Has_guarantor</th>\n",
       "      <th>Number_of_existing_loans_at_this_bank</th>\n",
       "      <th>Loan_history</th>\n",
       "      <th>high_risk_applicant</th>\n",
       "    </tr>\n",
       "  </thead>\n",
       "  <tbody>\n",
       "    <tr>\n",
       "      <th>0</th>\n",
       "      <td>0</td>\n",
       "      <td>436</td>\n",
       "      <td>67</td>\n",
       "      <td>1</td>\n",
       "      <td>3</td>\n",
       "      <td>1</td>\n",
       "      <td>1</td>\n",
       "      <td>4</td>\n",
       "      <td>1</td>\n",
       "      <td>1</td>\n",
       "      <td>0</td>\n",
       "      <td>6</td>\n",
       "      <td>1169000</td>\n",
       "      <td>4</td>\n",
       "      <td>0</td>\n",
       "      <td>0</td>\n",
       "      <td>2</td>\n",
       "      <td>1</td>\n",
       "      <td>0</td>\n",
       "    </tr>\n",
       "    <tr>\n",
       "      <th>1</th>\n",
       "      <td>1</td>\n",
       "      <td>115</td>\n",
       "      <td>22</td>\n",
       "      <td>0</td>\n",
       "      <td>1</td>\n",
       "      <td>1</td>\n",
       "      <td>1</td>\n",
       "      <td>2</td>\n",
       "      <td>1</td>\n",
       "      <td>1</td>\n",
       "      <td>1</td>\n",
       "      <td>48</td>\n",
       "      <td>5951000</td>\n",
       "      <td>2</td>\n",
       "      <td>0</td>\n",
       "      <td>0</td>\n",
       "      <td>1</td>\n",
       "      <td>3</td>\n",
       "      <td>1</td>\n",
       "    </tr>\n",
       "    <tr>\n",
       "      <th>2</th>\n",
       "      <td>2</td>\n",
       "      <td>380</td>\n",
       "      <td>49</td>\n",
       "      <td>1</td>\n",
       "      <td>3</td>\n",
       "      <td>2</td>\n",
       "      <td>1</td>\n",
       "      <td>3</td>\n",
       "      <td>3</td>\n",
       "      <td>1</td>\n",
       "      <td>2</td>\n",
       "      <td>12</td>\n",
       "      <td>2096000</td>\n",
       "      <td>2</td>\n",
       "      <td>0</td>\n",
       "      <td>0</td>\n",
       "      <td>1</td>\n",
       "      <td>1</td>\n",
       "      <td>0</td>\n",
       "    </tr>\n",
       "    <tr>\n",
       "      <th>3</th>\n",
       "      <td>3</td>\n",
       "      <td>117</td>\n",
       "      <td>45</td>\n",
       "      <td>1</td>\n",
       "      <td>3</td>\n",
       "      <td>2</td>\n",
       "      <td>0</td>\n",
       "      <td>4</td>\n",
       "      <td>1</td>\n",
       "      <td>1</td>\n",
       "      <td>3</td>\n",
       "      <td>42</td>\n",
       "      <td>7882000</td>\n",
       "      <td>2</td>\n",
       "      <td>0</td>\n",
       "      <td>1</td>\n",
       "      <td>1</td>\n",
       "      <td>3</td>\n",
       "      <td>0</td>\n",
       "    </tr>\n",
       "    <tr>\n",
       "      <th>4</th>\n",
       "      <td>4</td>\n",
       "      <td>713</td>\n",
       "      <td>53</td>\n",
       "      <td>1</td>\n",
       "      <td>3</td>\n",
       "      <td>2</td>\n",
       "      <td>0</td>\n",
       "      <td>4</td>\n",
       "      <td>1</td>\n",
       "      <td>1</td>\n",
       "      <td>4</td>\n",
       "      <td>24</td>\n",
       "      <td>4870000</td>\n",
       "      <td>3</td>\n",
       "      <td>0</td>\n",
       "      <td>0</td>\n",
       "      <td>2</td>\n",
       "      <td>2</td>\n",
       "      <td>1</td>\n",
       "    </tr>\n",
       "  </tbody>\n",
       "</table>\n",
       "</div>"
      ],
      "text/plain": [
       "   Unnamed: 0  applicant_id  Primary_applicant_age_in_years  Gender  \\\n",
       "0           0           436                              67       1   \n",
       "1           1           115                              22       0   \n",
       "2           2           380                              49       1   \n",
       "3           3           117                              45       1   \n",
       "4           4           713                              53       1   \n",
       "\n",
       "   Marital_status  Number_of_dependents  Housing  Years_at_current_residence  \\\n",
       "0               3                     1        1                           4   \n",
       "1               1                     1        1                           2   \n",
       "2               3                     2        1                           3   \n",
       "3               3                     2        0                           4   \n",
       "4               3                     2        0                           4   \n",
       "\n",
       "   Employment_status  Foreign_worker  loan_application_id  \\\n",
       "0                  1               1                    0   \n",
       "1                  1               1                    1   \n",
       "2                  3               1                    2   \n",
       "3                  1               1                    3   \n",
       "4                  1               1                    4   \n",
       "\n",
       "   Months_loan_taken_for  Principal_loan_amount  \\\n",
       "0                      6                1169000   \n",
       "1                     48                5951000   \n",
       "2                     12                2096000   \n",
       "3                     42                7882000   \n",
       "4                     24                4870000   \n",
       "\n",
       "   EMI_rate_in_percentage_of_disposable_income  Has_coapplicant  \\\n",
       "0                                            4                0   \n",
       "1                                            2                0   \n",
       "2                                            2                0   \n",
       "3                                            2                0   \n",
       "4                                            3                0   \n",
       "\n",
       "   Has_guarantor  Number_of_existing_loans_at_this_bank  Loan_history  \\\n",
       "0              0                                      2             1   \n",
       "1              0                                      1             3   \n",
       "2              0                                      1             1   \n",
       "3              1                                      1             3   \n",
       "4              0                                      2             2   \n",
       "\n",
       "   high_risk_applicant  \n",
       "0                    0  \n",
       "1                    1  \n",
       "2                    0  \n",
       "3                    0  \n",
       "4                    1  "
      ]
     },
     "execution_count": 3,
     "metadata": {},
     "output_type": "execute_result"
    }
   ],
   "source": [
    "data.head()"
   ]
  },
  {
   "cell_type": "code",
   "execution_count": 4,
   "id": "e16ebb57-a6d4-484f-9892-b3d72f751ccc",
   "metadata": {},
   "outputs": [],
   "source": [
    "data.drop(['Unnamed: 0','loan_application_id','applicant_id','Principal_loan_amount','Gender'], axis=1, inplace=True)"
   ]
  },
  {
   "cell_type": "code",
   "execution_count": 5,
   "id": "b4bab999-5f7c-4671-8e02-fac716c69bfe",
   "metadata": {},
   "outputs": [
    {
     "data": {
      "text/html": [
       "<div>\n",
       "<style scoped>\n",
       "    .dataframe tbody tr th:only-of-type {\n",
       "        vertical-align: middle;\n",
       "    }\n",
       "\n",
       "    .dataframe tbody tr th {\n",
       "        vertical-align: top;\n",
       "    }\n",
       "\n",
       "    .dataframe thead th {\n",
       "        text-align: right;\n",
       "    }\n",
       "</style>\n",
       "<table border=\"1\" class=\"dataframe\">\n",
       "  <thead>\n",
       "    <tr style=\"text-align: right;\">\n",
       "      <th></th>\n",
       "      <th>Primary_applicant_age_in_years</th>\n",
       "      <th>Marital_status</th>\n",
       "      <th>Number_of_dependents</th>\n",
       "      <th>Housing</th>\n",
       "      <th>Years_at_current_residence</th>\n",
       "      <th>Employment_status</th>\n",
       "      <th>Foreign_worker</th>\n",
       "      <th>Months_loan_taken_for</th>\n",
       "      <th>EMI_rate_in_percentage_of_disposable_income</th>\n",
       "      <th>Has_coapplicant</th>\n",
       "      <th>Has_guarantor</th>\n",
       "      <th>Number_of_existing_loans_at_this_bank</th>\n",
       "      <th>Loan_history</th>\n",
       "      <th>high_risk_applicant</th>\n",
       "    </tr>\n",
       "  </thead>\n",
       "  <tbody>\n",
       "    <tr>\n",
       "      <th>0</th>\n",
       "      <td>67</td>\n",
       "      <td>3</td>\n",
       "      <td>1</td>\n",
       "      <td>1</td>\n",
       "      <td>4</td>\n",
       "      <td>1</td>\n",
       "      <td>1</td>\n",
       "      <td>6</td>\n",
       "      <td>4</td>\n",
       "      <td>0</td>\n",
       "      <td>0</td>\n",
       "      <td>2</td>\n",
       "      <td>1</td>\n",
       "      <td>0</td>\n",
       "    </tr>\n",
       "    <tr>\n",
       "      <th>1</th>\n",
       "      <td>22</td>\n",
       "      <td>1</td>\n",
       "      <td>1</td>\n",
       "      <td>1</td>\n",
       "      <td>2</td>\n",
       "      <td>1</td>\n",
       "      <td>1</td>\n",
       "      <td>48</td>\n",
       "      <td>2</td>\n",
       "      <td>0</td>\n",
       "      <td>0</td>\n",
       "      <td>1</td>\n",
       "      <td>3</td>\n",
       "      <td>1</td>\n",
       "    </tr>\n",
       "  </tbody>\n",
       "</table>\n",
       "</div>"
      ],
      "text/plain": [
       "   Primary_applicant_age_in_years  Marital_status  Number_of_dependents  \\\n",
       "0                              67               3                     1   \n",
       "1                              22               1                     1   \n",
       "\n",
       "   Housing  Years_at_current_residence  Employment_status  Foreign_worker  \\\n",
       "0        1                           4                  1               1   \n",
       "1        1                           2                  1               1   \n",
       "\n",
       "   Months_loan_taken_for  EMI_rate_in_percentage_of_disposable_income  \\\n",
       "0                      6                                            4   \n",
       "1                     48                                            2   \n",
       "\n",
       "   Has_coapplicant  Has_guarantor  Number_of_existing_loans_at_this_bank  \\\n",
       "0                0              0                                      2   \n",
       "1                0              0                                      1   \n",
       "\n",
       "   Loan_history  high_risk_applicant  \n",
       "0             1                    0  \n",
       "1             3                    1  "
      ]
     },
     "execution_count": 5,
     "metadata": {},
     "output_type": "execute_result"
    }
   ],
   "source": [
    "data.head(2)"
   ]
  },
  {
   "cell_type": "code",
   "execution_count": 6,
   "id": "448bcef7-34c0-4b0e-a27c-dec7b82dc105",
   "metadata": {},
   "outputs": [],
   "source": [
    "X = data.loc[:, data.columns != 'high_risk_applicant' ] # independent variable\n",
    "\n",
    "y = data.loc[:, data.columns == 'high_risk_applicant'] #target variable"
   ]
  },
  {
   "cell_type": "code",
   "execution_count": 7,
   "id": "a84c8b6e-6eee-43a7-aa27-06d64f54f909",
   "metadata": {},
   "outputs": [],
   "source": [
    "X = pd.get_dummies(X, drop_first=True)"
   ]
  },
  {
   "cell_type": "code",
   "execution_count": 8,
   "id": "7b829dee-3c50-4417-ae4b-6fac2b90fe91",
   "metadata": {},
   "outputs": [
    {
     "data": {
      "text/html": [
       "<div>\n",
       "<style scoped>\n",
       "    .dataframe tbody tr th:only-of-type {\n",
       "        vertical-align: middle;\n",
       "    }\n",
       "\n",
       "    .dataframe tbody tr th {\n",
       "        vertical-align: top;\n",
       "    }\n",
       "\n",
       "    .dataframe thead th {\n",
       "        text-align: right;\n",
       "    }\n",
       "</style>\n",
       "<table border=\"1\" class=\"dataframe\">\n",
       "  <thead>\n",
       "    <tr style=\"text-align: right;\">\n",
       "      <th></th>\n",
       "      <th>Primary_applicant_age_in_years</th>\n",
       "      <th>Marital_status</th>\n",
       "      <th>Number_of_dependents</th>\n",
       "      <th>Housing</th>\n",
       "      <th>Years_at_current_residence</th>\n",
       "      <th>Employment_status</th>\n",
       "      <th>Foreign_worker</th>\n",
       "      <th>Months_loan_taken_for</th>\n",
       "      <th>EMI_rate_in_percentage_of_disposable_income</th>\n",
       "      <th>Has_coapplicant</th>\n",
       "      <th>Has_guarantor</th>\n",
       "      <th>Number_of_existing_loans_at_this_bank</th>\n",
       "      <th>Loan_history</th>\n",
       "    </tr>\n",
       "  </thead>\n",
       "  <tbody>\n",
       "    <tr>\n",
       "      <th>0</th>\n",
       "      <td>67</td>\n",
       "      <td>3</td>\n",
       "      <td>1</td>\n",
       "      <td>1</td>\n",
       "      <td>4</td>\n",
       "      <td>1</td>\n",
       "      <td>1</td>\n",
       "      <td>6</td>\n",
       "      <td>4</td>\n",
       "      <td>0</td>\n",
       "      <td>0</td>\n",
       "      <td>2</td>\n",
       "      <td>1</td>\n",
       "    </tr>\n",
       "    <tr>\n",
       "      <th>1</th>\n",
       "      <td>22</td>\n",
       "      <td>1</td>\n",
       "      <td>1</td>\n",
       "      <td>1</td>\n",
       "      <td>2</td>\n",
       "      <td>1</td>\n",
       "      <td>1</td>\n",
       "      <td>48</td>\n",
       "      <td>2</td>\n",
       "      <td>0</td>\n",
       "      <td>0</td>\n",
       "      <td>1</td>\n",
       "      <td>3</td>\n",
       "    </tr>\n",
       "    <tr>\n",
       "      <th>2</th>\n",
       "      <td>49</td>\n",
       "      <td>3</td>\n",
       "      <td>2</td>\n",
       "      <td>1</td>\n",
       "      <td>3</td>\n",
       "      <td>3</td>\n",
       "      <td>1</td>\n",
       "      <td>12</td>\n",
       "      <td>2</td>\n",
       "      <td>0</td>\n",
       "      <td>0</td>\n",
       "      <td>1</td>\n",
       "      <td>1</td>\n",
       "    </tr>\n",
       "    <tr>\n",
       "      <th>3</th>\n",
       "      <td>45</td>\n",
       "      <td>3</td>\n",
       "      <td>2</td>\n",
       "      <td>0</td>\n",
       "      <td>4</td>\n",
       "      <td>1</td>\n",
       "      <td>1</td>\n",
       "      <td>42</td>\n",
       "      <td>2</td>\n",
       "      <td>0</td>\n",
       "      <td>1</td>\n",
       "      <td>1</td>\n",
       "      <td>3</td>\n",
       "    </tr>\n",
       "    <tr>\n",
       "      <th>4</th>\n",
       "      <td>53</td>\n",
       "      <td>3</td>\n",
       "      <td>2</td>\n",
       "      <td>0</td>\n",
       "      <td>4</td>\n",
       "      <td>1</td>\n",
       "      <td>1</td>\n",
       "      <td>24</td>\n",
       "      <td>3</td>\n",
       "      <td>0</td>\n",
       "      <td>0</td>\n",
       "      <td>2</td>\n",
       "      <td>2</td>\n",
       "    </tr>\n",
       "  </tbody>\n",
       "</table>\n",
       "</div>"
      ],
      "text/plain": [
       "   Primary_applicant_age_in_years  Marital_status  Number_of_dependents  \\\n",
       "0                              67               3                     1   \n",
       "1                              22               1                     1   \n",
       "2                              49               3                     2   \n",
       "3                              45               3                     2   \n",
       "4                              53               3                     2   \n",
       "\n",
       "   Housing  Years_at_current_residence  Employment_status  Foreign_worker  \\\n",
       "0        1                           4                  1               1   \n",
       "1        1                           2                  1               1   \n",
       "2        1                           3                  3               1   \n",
       "3        0                           4                  1               1   \n",
       "4        0                           4                  1               1   \n",
       "\n",
       "   Months_loan_taken_for  EMI_rate_in_percentage_of_disposable_income  \\\n",
       "0                      6                                            4   \n",
       "1                     48                                            2   \n",
       "2                     12                                            2   \n",
       "3                     42                                            2   \n",
       "4                     24                                            3   \n",
       "\n",
       "   Has_coapplicant  Has_guarantor  Number_of_existing_loans_at_this_bank  \\\n",
       "0                0              0                                      2   \n",
       "1                0              0                                      1   \n",
       "2                0              0                                      1   \n",
       "3                0              1                                      1   \n",
       "4                0              0                                      2   \n",
       "\n",
       "   Loan_history  \n",
       "0             1  \n",
       "1             3  \n",
       "2             1  \n",
       "3             3  \n",
       "4             2  "
      ]
     },
     "execution_count": 8,
     "metadata": {},
     "output_type": "execute_result"
    }
   ],
   "source": [
    "X.head()"
   ]
  },
  {
   "cell_type": "code",
   "execution_count": 9,
   "id": "e3325a60-9d7e-4868-9646-219866a706fe",
   "metadata": {},
   "outputs": [
    {
     "data": {
      "text/html": [
       "<div>\n",
       "<style scoped>\n",
       "    .dataframe tbody tr th:only-of-type {\n",
       "        vertical-align: middle;\n",
       "    }\n",
       "\n",
       "    .dataframe tbody tr th {\n",
       "        vertical-align: top;\n",
       "    }\n",
       "\n",
       "    .dataframe thead th {\n",
       "        text-align: right;\n",
       "    }\n",
       "</style>\n",
       "<table border=\"1\" class=\"dataframe\">\n",
       "  <thead>\n",
       "    <tr style=\"text-align: right;\">\n",
       "      <th></th>\n",
       "      <th>high_risk_applicant</th>\n",
       "    </tr>\n",
       "  </thead>\n",
       "  <tbody>\n",
       "    <tr>\n",
       "      <th>0</th>\n",
       "      <td>0</td>\n",
       "    </tr>\n",
       "    <tr>\n",
       "      <th>1</th>\n",
       "      <td>1</td>\n",
       "    </tr>\n",
       "    <tr>\n",
       "      <th>2</th>\n",
       "      <td>0</td>\n",
       "    </tr>\n",
       "    <tr>\n",
       "      <th>3</th>\n",
       "      <td>0</td>\n",
       "    </tr>\n",
       "    <tr>\n",
       "      <th>4</th>\n",
       "      <td>1</td>\n",
       "    </tr>\n",
       "  </tbody>\n",
       "</table>\n",
       "</div>"
      ],
      "text/plain": [
       "   high_risk_applicant\n",
       "0                    0\n",
       "1                    1\n",
       "2                    0\n",
       "3                    0\n",
       "4                    1"
      ]
     },
     "execution_count": 9,
     "metadata": {},
     "output_type": "execute_result"
    }
   ],
   "source": [
    "y.head()"
   ]
  },
  {
   "cell_type": "code",
   "execution_count": 10,
   "id": "0baac20c-2e5e-446d-85f7-7224dbdbc3d1",
   "metadata": {},
   "outputs": [],
   "source": [
    "from sklearn.model_selection import train_test_split\n",
    "from sklearn.metrics import confusion_matrix\n",
    "from sklearn.linear_model import LogisticRegression"
   ]
  },
  {
   "cell_type": "code",
   "execution_count": 11,
   "id": "fef455eb-1bce-412b-9fff-1d94dc52c7d4",
   "metadata": {},
   "outputs": [],
   "source": [
    "X_train,X_test,y_train,y_test = train_test_split(X,y,test_size=0.3,random_state=12)"
   ]
  },
  {
   "cell_type": "code",
   "execution_count": 12,
   "id": "0ddf1c0c-0d60-4cfb-890f-b4fdfa7163b2",
   "metadata": {},
   "outputs": [
    {
     "data": {
      "text/html": [
       "<div>\n",
       "<style scoped>\n",
       "    .dataframe tbody tr th:only-of-type {\n",
       "        vertical-align: middle;\n",
       "    }\n",
       "\n",
       "    .dataframe tbody tr th {\n",
       "        vertical-align: top;\n",
       "    }\n",
       "\n",
       "    .dataframe thead th {\n",
       "        text-align: right;\n",
       "    }\n",
       "</style>\n",
       "<table border=\"1\" class=\"dataframe\">\n",
       "  <thead>\n",
       "    <tr style=\"text-align: right;\">\n",
       "      <th></th>\n",
       "      <th>Primary_applicant_age_in_years</th>\n",
       "      <th>Marital_status</th>\n",
       "      <th>Number_of_dependents</th>\n",
       "      <th>Housing</th>\n",
       "      <th>Years_at_current_residence</th>\n",
       "      <th>Employment_status</th>\n",
       "      <th>Foreign_worker</th>\n",
       "      <th>Months_loan_taken_for</th>\n",
       "      <th>EMI_rate_in_percentage_of_disposable_income</th>\n",
       "      <th>Has_coapplicant</th>\n",
       "      <th>Has_guarantor</th>\n",
       "      <th>Number_of_existing_loans_at_this_bank</th>\n",
       "      <th>Loan_history</th>\n",
       "    </tr>\n",
       "  </thead>\n",
       "  <tbody>\n",
       "    <tr>\n",
       "      <th>834</th>\n",
       "      <td>25</td>\n",
       "      <td>1</td>\n",
       "      <td>1</td>\n",
       "      <td>1</td>\n",
       "      <td>3</td>\n",
       "      <td>3</td>\n",
       "      <td>1</td>\n",
       "      <td>15</td>\n",
       "      <td>2</td>\n",
       "      <td>0</td>\n",
       "      <td>0</td>\n",
       "      <td>1</td>\n",
       "      <td>3</td>\n",
       "    </tr>\n",
       "    <tr>\n",
       "      <th>227</th>\n",
       "      <td>53</td>\n",
       "      <td>3</td>\n",
       "      <td>1</td>\n",
       "      <td>0</td>\n",
       "      <td>4</td>\n",
       "      <td>0</td>\n",
       "      <td>1</td>\n",
       "      <td>12</td>\n",
       "      <td>4</td>\n",
       "      <td>0</td>\n",
       "      <td>0</td>\n",
       "      <td>1</td>\n",
       "      <td>3</td>\n",
       "    </tr>\n",
       "    <tr>\n",
       "      <th>471</th>\n",
       "      <td>23</td>\n",
       "      <td>1</td>\n",
       "      <td>1</td>\n",
       "      <td>1</td>\n",
       "      <td>4</td>\n",
       "      <td>1</td>\n",
       "      <td>1</td>\n",
       "      <td>6</td>\n",
       "      <td>4</td>\n",
       "      <td>0</td>\n",
       "      <td>0</td>\n",
       "      <td>1</td>\n",
       "      <td>3</td>\n",
       "    </tr>\n",
       "    <tr>\n",
       "      <th>929</th>\n",
       "      <td>43</td>\n",
       "      <td>3</td>\n",
       "      <td>2</td>\n",
       "      <td>1</td>\n",
       "      <td>2</td>\n",
       "      <td>3</td>\n",
       "      <td>1</td>\n",
       "      <td>12</td>\n",
       "      <td>4</td>\n",
       "      <td>0</td>\n",
       "      <td>0</td>\n",
       "      <td>2</td>\n",
       "      <td>2</td>\n",
       "    </tr>\n",
       "    <tr>\n",
       "      <th>457</th>\n",
       "      <td>35</td>\n",
       "      <td>3</td>\n",
       "      <td>1</td>\n",
       "      <td>0</td>\n",
       "      <td>4</td>\n",
       "      <td>1</td>\n",
       "      <td>1</td>\n",
       "      <td>12</td>\n",
       "      <td>3</td>\n",
       "      <td>0</td>\n",
       "      <td>0</td>\n",
       "      <td>1</td>\n",
       "      <td>3</td>\n",
       "    </tr>\n",
       "  </tbody>\n",
       "</table>\n",
       "</div>"
      ],
      "text/plain": [
       "     Primary_applicant_age_in_years  Marital_status  Number_of_dependents  \\\n",
       "834                              25               1                     1   \n",
       "227                              53               3                     1   \n",
       "471                              23               1                     1   \n",
       "929                              43               3                     2   \n",
       "457                              35               3                     1   \n",
       "\n",
       "     Housing  Years_at_current_residence  Employment_status  Foreign_worker  \\\n",
       "834        1                           3                  3               1   \n",
       "227        0                           4                  0               1   \n",
       "471        1                           4                  1               1   \n",
       "929        1                           2                  3               1   \n",
       "457        0                           4                  1               1   \n",
       "\n",
       "     Months_loan_taken_for  EMI_rate_in_percentage_of_disposable_income  \\\n",
       "834                     15                                            2   \n",
       "227                     12                                            4   \n",
       "471                      6                                            4   \n",
       "929                     12                                            4   \n",
       "457                     12                                            3   \n",
       "\n",
       "     Has_coapplicant  Has_guarantor  Number_of_existing_loans_at_this_bank  \\\n",
       "834                0              0                                      1   \n",
       "227                0              0                                      1   \n",
       "471                0              0                                      1   \n",
       "929                0              0                                      2   \n",
       "457                0              0                                      1   \n",
       "\n",
       "     Loan_history  \n",
       "834             3  \n",
       "227             3  \n",
       "471             3  \n",
       "929             2  \n",
       "457             3  "
      ]
     },
     "execution_count": 12,
     "metadata": {},
     "output_type": "execute_result"
    }
   ],
   "source": [
    "X_train.head()"
   ]
  },
  {
   "cell_type": "code",
   "execution_count": 13,
   "id": "b5aeae1b-c0b0-4675-9c34-accc9e04cd88",
   "metadata": {},
   "outputs": [
    {
     "data": {
      "text/html": [
       "<div>\n",
       "<style scoped>\n",
       "    .dataframe tbody tr th:only-of-type {\n",
       "        vertical-align: middle;\n",
       "    }\n",
       "\n",
       "    .dataframe tbody tr th {\n",
       "        vertical-align: top;\n",
       "    }\n",
       "\n",
       "    .dataframe thead th {\n",
       "        text-align: right;\n",
       "    }\n",
       "</style>\n",
       "<table border=\"1\" class=\"dataframe\">\n",
       "  <thead>\n",
       "    <tr style=\"text-align: right;\">\n",
       "      <th></th>\n",
       "      <th>Primary_applicant_age_in_years</th>\n",
       "      <th>Marital_status</th>\n",
       "      <th>Number_of_dependents</th>\n",
       "      <th>Housing</th>\n",
       "      <th>Years_at_current_residence</th>\n",
       "      <th>Employment_status</th>\n",
       "      <th>Foreign_worker</th>\n",
       "      <th>Months_loan_taken_for</th>\n",
       "      <th>EMI_rate_in_percentage_of_disposable_income</th>\n",
       "      <th>Has_coapplicant</th>\n",
       "      <th>Has_guarantor</th>\n",
       "      <th>Number_of_existing_loans_at_this_bank</th>\n",
       "      <th>Loan_history</th>\n",
       "    </tr>\n",
       "  </thead>\n",
       "  <tbody>\n",
       "    <tr>\n",
       "      <th>518</th>\n",
       "      <td>43</td>\n",
       "      <td>3</td>\n",
       "      <td>1</td>\n",
       "      <td>1</td>\n",
       "      <td>2</td>\n",
       "      <td>1</td>\n",
       "      <td>1</td>\n",
       "      <td>6</td>\n",
       "      <td>3</td>\n",
       "      <td>0</td>\n",
       "      <td>0</td>\n",
       "      <td>1</td>\n",
       "      <td>3</td>\n",
       "    </tr>\n",
       "    <tr>\n",
       "      <th>871</th>\n",
       "      <td>46</td>\n",
       "      <td>3</td>\n",
       "      <td>2</td>\n",
       "      <td>1</td>\n",
       "      <td>4</td>\n",
       "      <td>1</td>\n",
       "      <td>0</td>\n",
       "      <td>6</td>\n",
       "      <td>1</td>\n",
       "      <td>0</td>\n",
       "      <td>0</td>\n",
       "      <td>2</td>\n",
       "      <td>1</td>\n",
       "    </tr>\n",
       "    <tr>\n",
       "      <th>797</th>\n",
       "      <td>22</td>\n",
       "      <td>1</td>\n",
       "      <td>1</td>\n",
       "      <td>2</td>\n",
       "      <td>4</td>\n",
       "      <td>3</td>\n",
       "      <td>1</td>\n",
       "      <td>12</td>\n",
       "      <td>2</td>\n",
       "      <td>0</td>\n",
       "      <td>0</td>\n",
       "      <td>2</td>\n",
       "      <td>1</td>\n",
       "    </tr>\n",
       "    <tr>\n",
       "      <th>274</th>\n",
       "      <td>34</td>\n",
       "      <td>0</td>\n",
       "      <td>1</td>\n",
       "      <td>1</td>\n",
       "      <td>1</td>\n",
       "      <td>3</td>\n",
       "      <td>1</td>\n",
       "      <td>30</td>\n",
       "      <td>1</td>\n",
       "      <td>0</td>\n",
       "      <td>0</td>\n",
       "      <td>1</td>\n",
       "      <td>3</td>\n",
       "    </tr>\n",
       "    <tr>\n",
       "      <th>325</th>\n",
       "      <td>39</td>\n",
       "      <td>3</td>\n",
       "      <td>1</td>\n",
       "      <td>1</td>\n",
       "      <td>4</td>\n",
       "      <td>3</td>\n",
       "      <td>0</td>\n",
       "      <td>8</td>\n",
       "      <td>1</td>\n",
       "      <td>0</td>\n",
       "      <td>0</td>\n",
       "      <td>2</td>\n",
       "      <td>1</td>\n",
       "    </tr>\n",
       "  </tbody>\n",
       "</table>\n",
       "</div>"
      ],
      "text/plain": [
       "     Primary_applicant_age_in_years  Marital_status  Number_of_dependents  \\\n",
       "518                              43               3                     1   \n",
       "871                              46               3                     2   \n",
       "797                              22               1                     1   \n",
       "274                              34               0                     1   \n",
       "325                              39               3                     1   \n",
       "\n",
       "     Housing  Years_at_current_residence  Employment_status  Foreign_worker  \\\n",
       "518        1                           2                  1               1   \n",
       "871        1                           4                  1               0   \n",
       "797        2                           4                  3               1   \n",
       "274        1                           1                  3               1   \n",
       "325        1                           4                  3               0   \n",
       "\n",
       "     Months_loan_taken_for  EMI_rate_in_percentage_of_disposable_income  \\\n",
       "518                      6                                            3   \n",
       "871                      6                                            1   \n",
       "797                     12                                            2   \n",
       "274                     30                                            1   \n",
       "325                      8                                            1   \n",
       "\n",
       "     Has_coapplicant  Has_guarantor  Number_of_existing_loans_at_this_bank  \\\n",
       "518                0              0                                      1   \n",
       "871                0              0                                      2   \n",
       "797                0              0                                      2   \n",
       "274                0              0                                      1   \n",
       "325                0              0                                      2   \n",
       "\n",
       "     Loan_history  \n",
       "518             3  \n",
       "871             1  \n",
       "797             1  \n",
       "274             3  \n",
       "325             1  "
      ]
     },
     "execution_count": 13,
     "metadata": {},
     "output_type": "execute_result"
    }
   ],
   "source": [
    "X_test.head()"
   ]
  },
  {
   "cell_type": "code",
   "execution_count": 14,
   "id": "dab6521e-2028-4dfb-8771-1c2e37d5664d",
   "metadata": {},
   "outputs": [
    {
     "data": {
      "text/plain": [
       "((700, 13), (300, 13))"
      ]
     },
     "execution_count": 14,
     "metadata": {},
     "output_type": "execute_result"
    }
   ],
   "source": [
    "X_train.shape,X_test.shape"
   ]
  },
  {
   "cell_type": "code",
   "execution_count": 15,
   "id": "52085c55-0c42-41b7-af8e-f75dadff8e57",
   "metadata": {},
   "outputs": [
    {
     "data": {
      "text/html": [
       "<style>#sk-container-id-1 {color: black;background-color: white;}#sk-container-id-1 pre{padding: 0;}#sk-container-id-1 div.sk-toggleable {background-color: white;}#sk-container-id-1 label.sk-toggleable__label {cursor: pointer;display: block;width: 100%;margin-bottom: 0;padding: 0.3em;box-sizing: border-box;text-align: center;}#sk-container-id-1 label.sk-toggleable__label-arrow:before {content: \"▸\";float: left;margin-right: 0.25em;color: #696969;}#sk-container-id-1 label.sk-toggleable__label-arrow:hover:before {color: black;}#sk-container-id-1 div.sk-estimator:hover label.sk-toggleable__label-arrow:before {color: black;}#sk-container-id-1 div.sk-toggleable__content {max-height: 0;max-width: 0;overflow: hidden;text-align: left;background-color: #f0f8ff;}#sk-container-id-1 div.sk-toggleable__content pre {margin: 0.2em;color: black;border-radius: 0.25em;background-color: #f0f8ff;}#sk-container-id-1 input.sk-toggleable__control:checked~div.sk-toggleable__content {max-height: 200px;max-width: 100%;overflow: auto;}#sk-container-id-1 input.sk-toggleable__control:checked~label.sk-toggleable__label-arrow:before {content: \"▾\";}#sk-container-id-1 div.sk-estimator input.sk-toggleable__control:checked~label.sk-toggleable__label {background-color: #d4ebff;}#sk-container-id-1 div.sk-label input.sk-toggleable__control:checked~label.sk-toggleable__label {background-color: #d4ebff;}#sk-container-id-1 input.sk-hidden--visually {border: 0;clip: rect(1px 1px 1px 1px);clip: rect(1px, 1px, 1px, 1px);height: 1px;margin: -1px;overflow: hidden;padding: 0;position: absolute;width: 1px;}#sk-container-id-1 div.sk-estimator {font-family: monospace;background-color: #f0f8ff;border: 1px dotted black;border-radius: 0.25em;box-sizing: border-box;margin-bottom: 0.5em;}#sk-container-id-1 div.sk-estimator:hover {background-color: #d4ebff;}#sk-container-id-1 div.sk-parallel-item::after {content: \"\";width: 100%;border-bottom: 1px solid gray;flex-grow: 1;}#sk-container-id-1 div.sk-label:hover label.sk-toggleable__label {background-color: #d4ebff;}#sk-container-id-1 div.sk-serial::before {content: \"\";position: absolute;border-left: 1px solid gray;box-sizing: border-box;top: 0;bottom: 0;left: 50%;z-index: 0;}#sk-container-id-1 div.sk-serial {display: flex;flex-direction: column;align-items: center;background-color: white;padding-right: 0.2em;padding-left: 0.2em;position: relative;}#sk-container-id-1 div.sk-item {position: relative;z-index: 1;}#sk-container-id-1 div.sk-parallel {display: flex;align-items: stretch;justify-content: center;background-color: white;position: relative;}#sk-container-id-1 div.sk-item::before, #sk-container-id-1 div.sk-parallel-item::before {content: \"\";position: absolute;border-left: 1px solid gray;box-sizing: border-box;top: 0;bottom: 0;left: 50%;z-index: -1;}#sk-container-id-1 div.sk-parallel-item {display: flex;flex-direction: column;z-index: 1;position: relative;background-color: white;}#sk-container-id-1 div.sk-parallel-item:first-child::after {align-self: flex-end;width: 50%;}#sk-container-id-1 div.sk-parallel-item:last-child::after {align-self: flex-start;width: 50%;}#sk-container-id-1 div.sk-parallel-item:only-child::after {width: 0;}#sk-container-id-1 div.sk-dashed-wrapped {border: 1px dashed gray;margin: 0 0.4em 0.5em 0.4em;box-sizing: border-box;padding-bottom: 0.4em;background-color: white;}#sk-container-id-1 div.sk-label label {font-family: monospace;font-weight: bold;display: inline-block;line-height: 1.2em;}#sk-container-id-1 div.sk-label-container {text-align: center;}#sk-container-id-1 div.sk-container {/* jupyter's `normalize.less` sets `[hidden] { display: none; }` but bootstrap.min.css set `[hidden] { display: none !important; }` so we also need the `!important` here to be able to override the default hidden behavior on the sphinx rendered scikit-learn.org. See: https://github.com/scikit-learn/scikit-learn/issues/21755 */display: inline-block !important;position: relative;}#sk-container-id-1 div.sk-text-repr-fallback {display: none;}</style><div id=\"sk-container-id-1\" class=\"sk-top-container\"><div class=\"sk-text-repr-fallback\"><pre>LogisticRegression()</pre><b>In a Jupyter environment, please rerun this cell to show the HTML representation or trust the notebook. <br />On GitHub, the HTML representation is unable to render, please try loading this page with nbviewer.org.</b></div><div class=\"sk-container\" hidden><div class=\"sk-item\"><div class=\"sk-estimator sk-toggleable\"><input class=\"sk-toggleable__control sk-hidden--visually\" id=\"sk-estimator-id-1\" type=\"checkbox\" checked><label for=\"sk-estimator-id-1\" class=\"sk-toggleable__label sk-toggleable__label-arrow\">LogisticRegression</label><div class=\"sk-toggleable__content\"><pre>LogisticRegression()</pre></div></div></div></div></div>"
      ],
      "text/plain": [
       "LogisticRegression()"
      ]
     },
     "execution_count": 15,
     "metadata": {},
     "output_type": "execute_result"
    }
   ],
   "source": [
    "logreg = LogisticRegression()\n",
    "logreg.fit(X_train, y_train)"
   ]
  },
  {
   "cell_type": "code",
   "execution_count": 16,
   "id": "39777716-32d1-4b58-84c8-b89fd959b75b",
   "metadata": {},
   "outputs": [
    {
     "name": "stdout",
     "output_type": "stream",
     "text": [
      "Accuracy of logistic regression classifier on test set: 0.71\n"
     ]
    }
   ],
   "source": [
    "y_pred = logreg.predict(X_test)\n",
    "print('Accuracy of logistic regression classifier on test set: {:.2f}'.format(logreg.score(X_test, y_test)))"
   ]
  },
  {
   "cell_type": "code",
   "execution_count": 17,
   "id": "2eecade4-9fea-47df-827f-517e9b1c5580",
   "metadata": {},
   "outputs": [],
   "source": [
    "from sklearn.metrics import confusion_matrix\n",
    "confusion_matrix = confusion_matrix(y_test, y_pred)"
   ]
  },
  {
   "cell_type": "code",
   "execution_count": 18,
   "id": "961df625-6e69-4a3a-9dca-b6ecdc51aaf2",
   "metadata": {},
   "outputs": [
    {
     "data": {
      "text/plain": [
       "array([[193,   9],\n",
       "       [ 78,  20]])"
      ]
     },
     "execution_count": 18,
     "metadata": {},
     "output_type": "execute_result"
    }
   ],
   "source": [
    "confusion_matrix"
   ]
  },
  {
   "cell_type": "code",
   "execution_count": 19,
   "id": "ecf13204-e762-49ae-9434-dd7b3d1f701d",
   "metadata": {},
   "outputs": [
    {
     "data": {
      "text/plain": [
       "<AxesSubplot:>"
      ]
     },
     "execution_count": 19,
     "metadata": {},
     "output_type": "execute_result"
    },
    {
     "data": {
      "image/png": "[encoded data removed]",
      "text/plain": [
       "<Figure size 432x288 with 2 Axes>"
      ]
     },
     "metadata": {
      "needs_background": "light"
     },
     "output_type": "display_data"
    }
   ],
   "source": [
    "sns.heatmap(confusion_matrix)"
   ]
  },
  {
   "cell_type": "code",
   "execution_count": 20,
   "id": "8e08ff9a-c5ec-4d00-ab30-536ef6dd8fbf",
   "metadata": {},
   "outputs": [],
   "source": [
    "TN = 193\n",
    "FP = 78\n",
    "FN = 9\n",
    "TP = 20"
   ]
  },
  {
   "cell_type": "code",
   "execution_count": 21,
   "id": "31009177-acbb-4df7-a29a-8aade87dd71b",
   "metadata": {},
   "outputs": [
    {
     "data": {
      "text/plain": [
       "0.7333333333333333"
      ]
     },
     "execution_count": 21,
     "metadata": {},
     "output_type": "execute_result"
    }
   ],
   "source": [
    "TPR = 11/(11+4) #TPR = TP/P\n",
    "TPR"
   ]
  },
  {
   "cell_type": "code",
   "execution_count": 22,
   "id": "64542b80-725c-4e56-930e-5429d014e8c3",
   "metadata": {},
   "outputs": [
    {
     "data": {
      "text/plain": [
       "0.6947368421052632"
      ]
     },
     "execution_count": 22,
     "metadata": {},
     "output_type": "execute_result"
    }
   ],
   "source": [
    "TNR = 198/(198+87) #TNR = TN/N\n",
    "TNR"
   ]
  },
  {
   "cell_type": "code",
   "execution_count": 23,
   "id": "2e8006de-088a-41d7-bb6f-41f009278fc5",
   "metadata": {},
   "outputs": [
    {
     "data": {
      "text/plain": [
       "0.30526315789473685"
      ]
     },
     "execution_count": 23,
     "metadata": {},
     "output_type": "execute_result"
    }
   ],
   "source": [
    "FPR = 87/(198+87) #FPR = FP/N \n",
    "FPR"
   ]
  },
  {
   "cell_type": "code",
   "execution_count": 24,
   "id": "a2a98871-30de-45ae-a9ad-f9df8d765588",
   "metadata": {},
   "outputs": [
    {
     "data": {
      "text/plain": [
       "0.26666666666666666"
      ]
     },
     "execution_count": 24,
     "metadata": {},
     "output_type": "execute_result"
    }
   ],
   "source": [
    "FNR = 4/(11+4) #FNR = FN/p\n",
    "FNR"
   ]
  },
  {
   "cell_type": "code",
   "execution_count": 25,
   "id": "68318b77-0a1d-4e72-ad59-71570ab40e64",
   "metadata": {},
   "outputs": [
    {
     "name": "stdout",
     "output_type": "stream",
     "text": [
      "              precision    recall  f1-score   support\n",
      "\n",
      "           0       0.71      0.96      0.82       202\n",
      "           1       0.69      0.20      0.31        98\n",
      "\n",
      "    accuracy                           0.71       300\n",
      "   macro avg       0.70      0.58      0.57       300\n",
      "weighted avg       0.70      0.71      0.65       300\n",
      "\n"
     ]
    }
   ],
   "source": [
    "from sklearn.metrics import classification_report\n",
    "print(classification_report(y_test, y_pred))"
   ]
  },
  {
   "cell_type": "code",
   "execution_count": 26,
   "id": "429ddc0b-0022-42b4-ab86-c86e880f675d",
   "metadata": {},
   "outputs": [],
   "source": [
    "data = pd.read_csv('data2')"
   ]
  },
  {
   "cell_type": "code",
   "execution_count": 27,
   "id": "f7841d18-47c7-4a42-9865-50e8d1498381",
   "metadata": {},
   "outputs": [
    {
     "data": {
      "text/html": [
       "<div>\n",
       "<style scoped>\n",
       "    .dataframe tbody tr th:only-of-type {\n",
       "        vertical-align: middle;\n",
       "    }\n",
       "\n",
       "    .dataframe tbody tr th {\n",
       "        vertical-align: top;\n",
       "    }\n",
       "\n",
       "    .dataframe thead th {\n",
       "        text-align: right;\n",
       "    }\n",
       "</style>\n",
       "<table border=\"1\" class=\"dataframe\">\n",
       "  <thead>\n",
       "    <tr style=\"text-align: right;\">\n",
       "      <th></th>\n",
       "      <th>Unnamed: 0</th>\n",
       "      <th>applicant_id</th>\n",
       "      <th>Primary_applicant_age_in_years</th>\n",
       "      <th>Gender</th>\n",
       "      <th>Marital_status</th>\n",
       "      <th>Number_of_dependents</th>\n",
       "      <th>Housing</th>\n",
       "      <th>Years_at_current_residence</th>\n",
       "      <th>Employment_status</th>\n",
       "      <th>Foreign_worker</th>\n",
       "      <th>loan_application_id</th>\n",
       "      <th>Months_loan_taken_for</th>\n",
       "      <th>Principal_loan_amount</th>\n",
       "      <th>EMI_rate_in_percentage_of_disposable_income</th>\n",
       "      <th>Has_coapplicant</th>\n",
       "      <th>Has_guarantor</th>\n",
       "      <th>Number_of_existing_loans_at_this_bank</th>\n",
       "      <th>Loan_history</th>\n",
       "      <th>high_risk_applicant</th>\n",
       "    </tr>\n",
       "  </thead>\n",
       "  <tbody>\n",
       "    <tr>\n",
       "      <th>0</th>\n",
       "      <td>0</td>\n",
       "      <td>436</td>\n",
       "      <td>67</td>\n",
       "      <td>1</td>\n",
       "      <td>3</td>\n",
       "      <td>1</td>\n",
       "      <td>1</td>\n",
       "      <td>4</td>\n",
       "      <td>1</td>\n",
       "      <td>1</td>\n",
       "      <td>0</td>\n",
       "      <td>6</td>\n",
       "      <td>1169000</td>\n",
       "      <td>4</td>\n",
       "      <td>0</td>\n",
       "      <td>0</td>\n",
       "      <td>2</td>\n",
       "      <td>1</td>\n",
       "      <td>0</td>\n",
       "    </tr>\n",
       "    <tr>\n",
       "      <th>1</th>\n",
       "      <td>1</td>\n",
       "      <td>115</td>\n",
       "      <td>22</td>\n",
       "      <td>0</td>\n",
       "      <td>1</td>\n",
       "      <td>1</td>\n",
       "      <td>1</td>\n",
       "      <td>2</td>\n",
       "      <td>1</td>\n",
       "      <td>1</td>\n",
       "      <td>1</td>\n",
       "      <td>48</td>\n",
       "      <td>5951000</td>\n",
       "      <td>2</td>\n",
       "      <td>0</td>\n",
       "      <td>0</td>\n",
       "      <td>1</td>\n",
       "      <td>3</td>\n",
       "      <td>1</td>\n",
       "    </tr>\n",
       "    <tr>\n",
       "      <th>2</th>\n",
       "      <td>2</td>\n",
       "      <td>380</td>\n",
       "      <td>49</td>\n",
       "      <td>1</td>\n",
       "      <td>3</td>\n",
       "      <td>2</td>\n",
       "      <td>1</td>\n",
       "      <td>3</td>\n",
       "      <td>3</td>\n",
       "      <td>1</td>\n",
       "      <td>2</td>\n",
       "      <td>12</td>\n",
       "      <td>2096000</td>\n",
       "      <td>2</td>\n",
       "      <td>0</td>\n",
       "      <td>0</td>\n",
       "      <td>1</td>\n",
       "      <td>1</td>\n",
       "      <td>0</td>\n",
       "    </tr>\n",
       "    <tr>\n",
       "      <th>3</th>\n",
       "      <td>3</td>\n",
       "      <td>117</td>\n",
       "      <td>45</td>\n",
       "      <td>1</td>\n",
       "      <td>3</td>\n",
       "      <td>2</td>\n",
       "      <td>0</td>\n",
       "      <td>4</td>\n",
       "      <td>1</td>\n",
       "      <td>1</td>\n",
       "      <td>3</td>\n",
       "      <td>42</td>\n",
       "      <td>7882000</td>\n",
       "      <td>2</td>\n",
       "      <td>0</td>\n",
       "      <td>1</td>\n",
       "      <td>1</td>\n",
       "      <td>3</td>\n",
       "      <td>0</td>\n",
       "    </tr>\n",
       "    <tr>\n",
       "      <th>4</th>\n",
       "      <td>4</td>\n",
       "      <td>713</td>\n",
       "      <td>53</td>\n",
       "      <td>1</td>\n",
       "      <td>3</td>\n",
       "      <td>2</td>\n",
       "      <td>0</td>\n",
       "      <td>4</td>\n",
       "      <td>1</td>\n",
       "      <td>1</td>\n",
       "      <td>4</td>\n",
       "      <td>24</td>\n",
       "      <td>4870000</td>\n",
       "      <td>3</td>\n",
       "      <td>0</td>\n",
       "      <td>0</td>\n",
       "      <td>2</td>\n",
       "      <td>2</td>\n",
       "      <td>1</td>\n",
       "    </tr>\n",
       "  </tbody>\n",
       "</table>\n",
       "</div>"
      ],
      "text/plain": [
       "   Unnamed: 0  applicant_id  Primary_applicant_age_in_years  Gender  \\\n",
       "0           0           436                              67       1   \n",
       "1           1           115                              22       0   \n",
       "2           2           380                              49       1   \n",
       "3           3           117                              45       1   \n",
       "4           4           713                              53       1   \n",
       "\n",
       "   Marital_status  Number_of_dependents  Housing  Years_at_current_residence  \\\n",
       "0               3                     1        1                           4   \n",
       "1               1                     1        1                           2   \n",
       "2               3                     2        1                           3   \n",
       "3               3                     2        0                           4   \n",
       "4               3                     2        0                           4   \n",
       "\n",
       "   Employment_status  Foreign_worker  loan_application_id  \\\n",
       "0                  1               1                    0   \n",
       "1                  1               1                    1   \n",
       "2                  3               1                    2   \n",
       "3                  1               1                    3   \n",
       "4                  1               1                    4   \n",
       "\n",
       "   Months_loan_taken_for  Principal_loan_amount  \\\n",
       "0                      6                1169000   \n",
       "1                     48                5951000   \n",
       "2                     12                2096000   \n",
       "3                     42                7882000   \n",
       "4                     24                4870000   \n",
       "\n",
       "   EMI_rate_in_percentage_of_disposable_income  Has_coapplicant  \\\n",
       "0                                            4                0   \n",
       "1                                            2                0   \n",
       "2                                            2                0   \n",
       "3                                            2                0   \n",
       "4                                            3                0   \n",
       "\n",
       "   Has_guarantor  Number_of_existing_loans_at_this_bank  Loan_history  \\\n",
       "0              0                                      2             1   \n",
       "1              0                                      1             3   \n",
       "2              0                                      1             1   \n",
       "3              1                                      1             3   \n",
       "4              0                                      2             2   \n",
       "\n",
       "   high_risk_applicant  \n",
       "0                    0  \n",
       "1                    1  \n",
       "2                    0  \n",
       "3                    0  \n",
       "4                    1  "
      ]
     },
     "execution_count": 27,
     "metadata": {},
     "output_type": "execute_result"
    }
   ],
   "source": [
    "data.head()"
   ]
  },
  {
   "cell_type": "code",
   "execution_count": 28,
   "id": "fddb3c4c-25f0-47c7-9769-bd19ef58c05c",
   "metadata": {},
   "outputs": [],
   "source": [
    "data.drop(['Unnamed: 0','loan_application_id','applicant_id','Principal_loan_amount','Marital_status'], axis=1, inplace=True)"
   ]
  },
  {
   "cell_type": "code",
   "execution_count": 29,
   "id": "08ce14d4-3426-45bf-aa89-483ff7632a95",
   "metadata": {},
   "outputs": [
    {
     "data": {
      "text/html": [
       "<div>\n",
       "<style scoped>\n",
       "    .dataframe tbody tr th:only-of-type {\n",
       "        vertical-align: middle;\n",
       "    }\n",
       "\n",
       "    .dataframe tbody tr th {\n",
       "        vertical-align: top;\n",
       "    }\n",
       "\n",
       "    .dataframe thead th {\n",
       "        text-align: right;\n",
       "    }\n",
       "</style>\n",
       "<table border=\"1\" class=\"dataframe\">\n",
       "  <thead>\n",
       "    <tr style=\"text-align: right;\">\n",
       "      <th></th>\n",
       "      <th>Primary_applicant_age_in_years</th>\n",
       "      <th>Gender</th>\n",
       "      <th>Number_of_dependents</th>\n",
       "      <th>Housing</th>\n",
       "      <th>Years_at_current_residence</th>\n",
       "      <th>Employment_status</th>\n",
       "      <th>Foreign_worker</th>\n",
       "      <th>Months_loan_taken_for</th>\n",
       "      <th>EMI_rate_in_percentage_of_disposable_income</th>\n",
       "      <th>Has_coapplicant</th>\n",
       "      <th>Has_guarantor</th>\n",
       "      <th>Number_of_existing_loans_at_this_bank</th>\n",
       "      <th>Loan_history</th>\n",
       "      <th>high_risk_applicant</th>\n",
       "    </tr>\n",
       "  </thead>\n",
       "  <tbody>\n",
       "    <tr>\n",
       "      <th>0</th>\n",
       "      <td>67</td>\n",
       "      <td>1</td>\n",
       "      <td>1</td>\n",
       "      <td>1</td>\n",
       "      <td>4</td>\n",
       "      <td>1</td>\n",
       "      <td>1</td>\n",
       "      <td>6</td>\n",
       "      <td>4</td>\n",
       "      <td>0</td>\n",
       "      <td>0</td>\n",
       "      <td>2</td>\n",
       "      <td>1</td>\n",
       "      <td>0</td>\n",
       "    </tr>\n",
       "    <tr>\n",
       "      <th>1</th>\n",
       "      <td>22</td>\n",
       "      <td>0</td>\n",
       "      <td>1</td>\n",
       "      <td>1</td>\n",
       "      <td>2</td>\n",
       "      <td>1</td>\n",
       "      <td>1</td>\n",
       "      <td>48</td>\n",
       "      <td>2</td>\n",
       "      <td>0</td>\n",
       "      <td>0</td>\n",
       "      <td>1</td>\n",
       "      <td>3</td>\n",
       "      <td>1</td>\n",
       "    </tr>\n",
       "    <tr>\n",
       "      <th>2</th>\n",
       "      <td>49</td>\n",
       "      <td>1</td>\n",
       "      <td>2</td>\n",
       "      <td>1</td>\n",
       "      <td>3</td>\n",
       "      <td>3</td>\n",
       "      <td>1</td>\n",
       "      <td>12</td>\n",
       "      <td>2</td>\n",
       "      <td>0</td>\n",
       "      <td>0</td>\n",
       "      <td>1</td>\n",
       "      <td>1</td>\n",
       "      <td>0</td>\n",
       "    </tr>\n",
       "    <tr>\n",
       "      <th>3</th>\n",
       "      <td>45</td>\n",
       "      <td>1</td>\n",
       "      <td>2</td>\n",
       "      <td>0</td>\n",
       "      <td>4</td>\n",
       "      <td>1</td>\n",
       "      <td>1</td>\n",
       "      <td>42</td>\n",
       "      <td>2</td>\n",
       "      <td>0</td>\n",
       "      <td>1</td>\n",
       "      <td>1</td>\n",
       "      <td>3</td>\n",
       "      <td>0</td>\n",
       "    </tr>\n",
       "    <tr>\n",
       "      <th>4</th>\n",
       "      <td>53</td>\n",
       "      <td>1</td>\n",
       "      <td>2</td>\n",
       "      <td>0</td>\n",
       "      <td>4</td>\n",
       "      <td>1</td>\n",
       "      <td>1</td>\n",
       "      <td>24</td>\n",
       "      <td>3</td>\n",
       "      <td>0</td>\n",
       "      <td>0</td>\n",
       "      <td>2</td>\n",
       "      <td>2</td>\n",
       "      <td>1</td>\n",
       "    </tr>\n",
       "  </tbody>\n",
       "</table>\n",
       "</div>"
      ],
      "text/plain": [
       "   Primary_applicant_age_in_years  Gender  Number_of_dependents  Housing  \\\n",
       "0                              67       1                     1        1   \n",
       "1                              22       0                     1        1   \n",
       "2                              49       1                     2        1   \n",
       "3                              45       1                     2        0   \n",
       "4                              53       1                     2        0   \n",
       "\n",
       "   Years_at_current_residence  Employment_status  Foreign_worker  \\\n",
       "0                           4                  1               1   \n",
       "1                           2                  1               1   \n",
       "2                           3                  3               1   \n",
       "3                           4                  1               1   \n",
       "4                           4                  1               1   \n",
       "\n",
       "   Months_loan_taken_for  EMI_rate_in_percentage_of_disposable_income  \\\n",
       "0                      6                                            4   \n",
       "1                     48                                            2   \n",
       "2                     12                                            2   \n",
       "3                     42                                            2   \n",
       "4                     24                                            3   \n",
       "\n",
       "   Has_coapplicant  Has_guarantor  Number_of_existing_loans_at_this_bank  \\\n",
       "0                0              0                                      2   \n",
       "1                0              0                                      1   \n",
       "2                0              0                                      1   \n",
       "3                0              1                                      1   \n",
       "4                0              0                                      2   \n",
       "\n",
       "   Loan_history  high_risk_applicant  \n",
       "0             1                    0  \n",
       "1             3                    1  \n",
       "2             1                    0  \n",
       "3             3                    0  \n",
       "4             2                    1  "
      ]
     },
     "execution_count": 29,
     "metadata": {},
     "output_type": "execute_result"
    }
   ],
   "source": [
    "data.head()"
   ]
  },
  {
   "cell_type": "code",
   "execution_count": 30,
   "id": "7d00dfb9-525c-45f3-a836-ec960cf9abb7",
   "metadata": {},
   "outputs": [],
   "source": [
    "X = data.loc[:, data.columns != 'high_risk_applicant']  # independent variables\n",
    "\n",
    "y = data.loc[:, data.columns == 'high_risk_applicant']  # Target variable"
   ]
  },
  {
   "cell_type": "code",
   "execution_count": 31,
   "id": "0973d539-b684-4be0-b4ae-fd3dc7162cdd",
   "metadata": {},
   "outputs": [],
   "source": [
    "X = pd.get_dummies(X,drop_first=True)"
   ]
  },
  {
   "cell_type": "code",
   "execution_count": 32,
   "id": "a877f925-30df-4a9b-a02e-3b5855a39e99",
   "metadata": {},
   "outputs": [
    {
     "data": {
      "text/html": [
       "<div>\n",
       "<style scoped>\n",
       "    .dataframe tbody tr th:only-of-type {\n",
       "        vertical-align: middle;\n",
       "    }\n",
       "\n",
       "    .dataframe tbody tr th {\n",
       "        vertical-align: top;\n",
       "    }\n",
       "\n",
       "    .dataframe thead th {\n",
       "        text-align: right;\n",
       "    }\n",
       "</style>\n",
       "<table border=\"1\" class=\"dataframe\">\n",
       "  <thead>\n",
       "    <tr style=\"text-align: right;\">\n",
       "      <th></th>\n",
       "      <th>high_risk_applicant</th>\n",
       "    </tr>\n",
       "  </thead>\n",
       "  <tbody>\n",
       "    <tr>\n",
       "      <th>0</th>\n",
       "      <td>0</td>\n",
       "    </tr>\n",
       "    <tr>\n",
       "      <th>1</th>\n",
       "      <td>1</td>\n",
       "    </tr>\n",
       "    <tr>\n",
       "      <th>2</th>\n",
       "      <td>0</td>\n",
       "    </tr>\n",
       "    <tr>\n",
       "      <th>3</th>\n",
       "      <td>0</td>\n",
       "    </tr>\n",
       "    <tr>\n",
       "      <th>4</th>\n",
       "      <td>1</td>\n",
       "    </tr>\n",
       "  </tbody>\n",
       "</table>\n",
       "</div>"
      ],
      "text/plain": [
       "   high_risk_applicant\n",
       "0                    0\n",
       "1                    1\n",
       "2                    0\n",
       "3                    0\n",
       "4                    1"
      ]
     },
     "execution_count": 32,
     "metadata": {},
     "output_type": "execute_result"
    }
   ],
   "source": [
    "y.head()  "
   ]
  },
  {
   "cell_type": "code",
   "execution_count": 33,
   "id": "afc01329-6891-4163-b6d1-9c7a08ff11a5",
   "metadata": {},
   "outputs": [
    {
     "data": {
      "text/html": [
       "<div>\n",
       "<style scoped>\n",
       "    .dataframe tbody tr th:only-of-type {\n",
       "        vertical-align: middle;\n",
       "    }\n",
       "\n",
       "    .dataframe tbody tr th {\n",
       "        vertical-align: top;\n",
       "    }\n",
       "\n",
       "    .dataframe thead th {\n",
       "        text-align: right;\n",
       "    }\n",
       "</style>\n",
       "<table border=\"1\" class=\"dataframe\">\n",
       "  <thead>\n",
       "    <tr style=\"text-align: right;\">\n",
       "      <th></th>\n",
       "      <th>Primary_applicant_age_in_years</th>\n",
       "      <th>Gender</th>\n",
       "      <th>Number_of_dependents</th>\n",
       "      <th>Housing</th>\n",
       "      <th>Years_at_current_residence</th>\n",
       "      <th>Employment_status</th>\n",
       "      <th>Foreign_worker</th>\n",
       "      <th>Months_loan_taken_for</th>\n",
       "      <th>EMI_rate_in_percentage_of_disposable_income</th>\n",
       "      <th>Has_coapplicant</th>\n",
       "      <th>Has_guarantor</th>\n",
       "      <th>Number_of_existing_loans_at_this_bank</th>\n",
       "      <th>Loan_history</th>\n",
       "    </tr>\n",
       "  </thead>\n",
       "  <tbody>\n",
       "    <tr>\n",
       "      <th>0</th>\n",
       "      <td>67</td>\n",
       "      <td>1</td>\n",
       "      <td>1</td>\n",
       "      <td>1</td>\n",
       "      <td>4</td>\n",
       "      <td>1</td>\n",
       "      <td>1</td>\n",
       "      <td>6</td>\n",
       "      <td>4</td>\n",
       "      <td>0</td>\n",
       "      <td>0</td>\n",
       "      <td>2</td>\n",
       "      <td>1</td>\n",
       "    </tr>\n",
       "    <tr>\n",
       "      <th>1</th>\n",
       "      <td>22</td>\n",
       "      <td>0</td>\n",
       "      <td>1</td>\n",
       "      <td>1</td>\n",
       "      <td>2</td>\n",
       "      <td>1</td>\n",
       "      <td>1</td>\n",
       "      <td>48</td>\n",
       "      <td>2</td>\n",
       "      <td>0</td>\n",
       "      <td>0</td>\n",
       "      <td>1</td>\n",
       "      <td>3</td>\n",
       "    </tr>\n",
       "    <tr>\n",
       "      <th>2</th>\n",
       "      <td>49</td>\n",
       "      <td>1</td>\n",
       "      <td>2</td>\n",
       "      <td>1</td>\n",
       "      <td>3</td>\n",
       "      <td>3</td>\n",
       "      <td>1</td>\n",
       "      <td>12</td>\n",
       "      <td>2</td>\n",
       "      <td>0</td>\n",
       "      <td>0</td>\n",
       "      <td>1</td>\n",
       "      <td>1</td>\n",
       "    </tr>\n",
       "    <tr>\n",
       "      <th>3</th>\n",
       "      <td>45</td>\n",
       "      <td>1</td>\n",
       "      <td>2</td>\n",
       "      <td>0</td>\n",
       "      <td>4</td>\n",
       "      <td>1</td>\n",
       "      <td>1</td>\n",
       "      <td>42</td>\n",
       "      <td>2</td>\n",
       "      <td>0</td>\n",
       "      <td>1</td>\n",
       "      <td>1</td>\n",
       "      <td>3</td>\n",
       "    </tr>\n",
       "    <tr>\n",
       "      <th>4</th>\n",
       "      <td>53</td>\n",
       "      <td>1</td>\n",
       "      <td>2</td>\n",
       "      <td>0</td>\n",
       "      <td>4</td>\n",
       "      <td>1</td>\n",
       "      <td>1</td>\n",
       "      <td>24</td>\n",
       "      <td>3</td>\n",
       "      <td>0</td>\n",
       "      <td>0</td>\n",
       "      <td>2</td>\n",
       "      <td>2</td>\n",
       "    </tr>\n",
       "  </tbody>\n",
       "</table>\n",
       "</div>"
      ],
      "text/plain": [
       "   Primary_applicant_age_in_years  Gender  Number_of_dependents  Housing  \\\n",
       "0                              67       1                     1        1   \n",
       "1                              22       0                     1        1   \n",
       "2                              49       1                     2        1   \n",
       "3                              45       1                     2        0   \n",
       "4                              53       1                     2        0   \n",
       "\n",
       "   Years_at_current_residence  Employment_status  Foreign_worker  \\\n",
       "0                           4                  1               1   \n",
       "1                           2                  1               1   \n",
       "2                           3                  3               1   \n",
       "3                           4                  1               1   \n",
       "4                           4                  1               1   \n",
       "\n",
       "   Months_loan_taken_for  EMI_rate_in_percentage_of_disposable_income  \\\n",
       "0                      6                                            4   \n",
       "1                     48                                            2   \n",
       "2                     12                                            2   \n",
       "3                     42                                            2   \n",
       "4                     24                                            3   \n",
       "\n",
       "   Has_coapplicant  Has_guarantor  Number_of_existing_loans_at_this_bank  \\\n",
       "0                0              0                                      2   \n",
       "1                0              0                                      1   \n",
       "2                0              0                                      1   \n",
       "3                0              1                                      1   \n",
       "4                0              0                                      2   \n",
       "\n",
       "   Loan_history  \n",
       "0             1  \n",
       "1             3  \n",
       "2             1  \n",
       "3             3  \n",
       "4             2  "
      ]
     },
     "execution_count": 33,
     "metadata": {},
     "output_type": "execute_result"
    }
   ],
   "source": [
    "X.head()"
   ]
  },
  {
   "cell_type": "code",
   "execution_count": 34,
   "id": "6961cfd2-bb3b-4629-b13a-8aecf531fc07",
   "metadata": {},
   "outputs": [],
   "source": [
    "from sklearn.model_selection import train_test_split\n",
    "\n",
    "X_train, X_test, y_train, y_test = train_test_split(X,y,test_size=0.3,random_state=70)"
   ]
  },
  {
   "cell_type": "code",
   "execution_count": 35,
   "id": "536142cc-8b31-4aae-8819-57125c8a7ceb",
   "metadata": {},
   "outputs": [
    {
     "data": {
      "text/plain": [
       "((700, 13), (300, 13))"
      ]
     },
     "execution_count": 35,
     "metadata": {},
     "output_type": "execute_result"
    }
   ],
   "source": [
    "X_train.shape,X_test.shape"
   ]
  },
  {
   "cell_type": "code",
   "execution_count": 36,
   "id": "ea73ecd6-bde1-4736-85fe-f677fa7e2c7c",
   "metadata": {},
   "outputs": [
    {
     "data": {
      "text/html": [
       "<div>\n",
       "<style scoped>\n",
       "    .dataframe tbody tr th:only-of-type {\n",
       "        vertical-align: middle;\n",
       "    }\n",
       "\n",
       "    .dataframe tbody tr th {\n",
       "        vertical-align: top;\n",
       "    }\n",
       "\n",
       "    .dataframe thead th {\n",
       "        text-align: right;\n",
       "    }\n",
       "</style>\n",
       "<table border=\"1\" class=\"dataframe\">\n",
       "  <thead>\n",
       "    <tr style=\"text-align: right;\">\n",
       "      <th></th>\n",
       "      <th>Primary_applicant_age_in_years</th>\n",
       "      <th>Gender</th>\n",
       "      <th>Number_of_dependents</th>\n",
       "      <th>Housing</th>\n",
       "      <th>Years_at_current_residence</th>\n",
       "      <th>Employment_status</th>\n",
       "      <th>Foreign_worker</th>\n",
       "      <th>Months_loan_taken_for</th>\n",
       "      <th>EMI_rate_in_percentage_of_disposable_income</th>\n",
       "      <th>Has_coapplicant</th>\n",
       "      <th>Has_guarantor</th>\n",
       "      <th>Number_of_existing_loans_at_this_bank</th>\n",
       "      <th>Loan_history</th>\n",
       "    </tr>\n",
       "  </thead>\n",
       "  <tbody>\n",
       "    <tr>\n",
       "      <th>570</th>\n",
       "      <td>23</td>\n",
       "      <td>0</td>\n",
       "      <td>1</td>\n",
       "      <td>2</td>\n",
       "      <td>4</td>\n",
       "      <td>3</td>\n",
       "      <td>1</td>\n",
       "      <td>24</td>\n",
       "      <td>4</td>\n",
       "      <td>0</td>\n",
       "      <td>0</td>\n",
       "      <td>1</td>\n",
       "      <td>3</td>\n",
       "    </tr>\n",
       "    <tr>\n",
       "      <th>137</th>\n",
       "      <td>66</td>\n",
       "      <td>1</td>\n",
       "      <td>1</td>\n",
       "      <td>1</td>\n",
       "      <td>3</td>\n",
       "      <td>3</td>\n",
       "      <td>1</td>\n",
       "      <td>12</td>\n",
       "      <td>4</td>\n",
       "      <td>0</td>\n",
       "      <td>0</td>\n",
       "      <td>1</td>\n",
       "      <td>3</td>\n",
       "    </tr>\n",
       "    <tr>\n",
       "      <th>953</th>\n",
       "      <td>26</td>\n",
       "      <td>0</td>\n",
       "      <td>1</td>\n",
       "      <td>1</td>\n",
       "      <td>2</td>\n",
       "      <td>0</td>\n",
       "      <td>1</td>\n",
       "      <td>36</td>\n",
       "      <td>4</td>\n",
       "      <td>0</td>\n",
       "      <td>0</td>\n",
       "      <td>2</td>\n",
       "      <td>3</td>\n",
       "    </tr>\n",
       "    <tr>\n",
       "      <th>882</th>\n",
       "      <td>36</td>\n",
       "      <td>1</td>\n",
       "      <td>1</td>\n",
       "      <td>1</td>\n",
       "      <td>4</td>\n",
       "      <td>1</td>\n",
       "      <td>1</td>\n",
       "      <td>30</td>\n",
       "      <td>4</td>\n",
       "      <td>0</td>\n",
       "      <td>0</td>\n",
       "      <td>2</td>\n",
       "      <td>1</td>\n",
       "    </tr>\n",
       "    <tr>\n",
       "      <th>606</th>\n",
       "      <td>74</td>\n",
       "      <td>1</td>\n",
       "      <td>1</td>\n",
       "      <td>1</td>\n",
       "      <td>2</td>\n",
       "      <td>0</td>\n",
       "      <td>1</td>\n",
       "      <td>24</td>\n",
       "      <td>3</td>\n",
       "      <td>0</td>\n",
       "      <td>0</td>\n",
       "      <td>1</td>\n",
       "      <td>1</td>\n",
       "    </tr>\n",
       "  </tbody>\n",
       "</table>\n",
       "</div>"
      ],
      "text/plain": [
       "     Primary_applicant_age_in_years  Gender  Number_of_dependents  Housing  \\\n",
       "570                              23       0                     1        2   \n",
       "137                              66       1                     1        1   \n",
       "953                              26       0                     1        1   \n",
       "882                              36       1                     1        1   \n",
       "606                              74       1                     1        1   \n",
       "\n",
       "     Years_at_current_residence  Employment_status  Foreign_worker  \\\n",
       "570                           4                  3               1   \n",
       "137                           3                  3               1   \n",
       "953                           2                  0               1   \n",
       "882                           4                  1               1   \n",
       "606                           2                  0               1   \n",
       "\n",
       "     Months_loan_taken_for  EMI_rate_in_percentage_of_disposable_income  \\\n",
       "570                     24                                            4   \n",
       "137                     12                                            4   \n",
       "953                     36                                            4   \n",
       "882                     30                                            4   \n",
       "606                     24                                            3   \n",
       "\n",
       "     Has_coapplicant  Has_guarantor  Number_of_existing_loans_at_this_bank  \\\n",
       "570                0              0                                      1   \n",
       "137                0              0                                      1   \n",
       "953                0              0                                      2   \n",
       "882                0              0                                      2   \n",
       "606                0              0                                      1   \n",
       "\n",
       "     Loan_history  \n",
       "570             3  \n",
       "137             3  \n",
       "953             3  \n",
       "882             1  \n",
       "606             1  "
      ]
     },
     "execution_count": 36,
     "metadata": {},
     "output_type": "execute_result"
    }
   ],
   "source": [
    "X_train.head()"
   ]
  },
  {
   "cell_type": "code",
   "execution_count": 37,
   "id": "b291ad8c-89fd-421b-826a-e2859cc80610",
   "metadata": {},
   "outputs": [],
   "source": [
    "from sklearn.metrics import confusion_matrix, recall_score, precision_score, f1_score, roc_auc_score,roc_curve"
   ]
  },
  {
   "cell_type": "code",
   "execution_count": 38,
   "id": "277bc36c-1203-443d-b4c0-e6763ef5c5b2",
   "metadata": {},
   "outputs": [
    {
     "data": {
      "text/html": [
       "<style>#sk-container-id-2 {color: black;background-color: white;}#sk-container-id-2 pre{padding: 0;}#sk-container-id-2 div.sk-toggleable {background-color: white;}#sk-container-id-2 label.sk-toggleable__label {cursor: pointer;display: block;width: 100%;margin-bottom: 0;padding: 0.3em;box-sizing: border-box;text-align: center;}#sk-container-id-2 label.sk-toggleable__label-arrow:before {content: \"▸\";float: left;margin-right: 0.25em;color: #696969;}#sk-container-id-2 label.sk-toggleable__label-arrow:hover:before {color: black;}#sk-container-id-2 div.sk-estimator:hover label.sk-toggleable__label-arrow:before {color: black;}#sk-container-id-2 div.sk-toggleable__content {max-height: 0;max-width: 0;overflow: hidden;text-align: left;background-color: #f0f8ff;}#sk-container-id-2 div.sk-toggleable__content pre {margin: 0.2em;color: black;border-radius: 0.25em;background-color: #f0f8ff;}#sk-container-id-2 input.sk-toggleable__control:checked~div.sk-toggleable__content {max-height: 200px;max-width: 100%;overflow: auto;}#sk-container-id-2 input.sk-toggleable__control:checked~label.sk-toggleable__label-arrow:before {content: \"▾\";}#sk-container-id-2 div.sk-estimator input.sk-toggleable__control:checked~label.sk-toggleable__label {background-color: #d4ebff;}#sk-container-id-2 div.sk-label input.sk-toggleable__control:checked~label.sk-toggleable__label {background-color: #d4ebff;}#sk-container-id-2 input.sk-hidden--visually {border: 0;clip: rect(1px 1px 1px 1px);clip: rect(1px, 1px, 1px, 1px);height: 1px;margin: -1px;overflow: hidden;padding: 0;position: absolute;width: 1px;}#sk-container-id-2 div.sk-estimator {font-family: monospace;background-color: #f0f8ff;border: 1px dotted black;border-radius: 0.25em;box-sizing: border-box;margin-bottom: 0.5em;}#sk-container-id-2 div.sk-estimator:hover {background-color: #d4ebff;}#sk-container-id-2 div.sk-parallel-item::after {content: \"\";width: 100%;border-bottom: 1px solid gray;flex-grow: 1;}#sk-container-id-2 div.sk-label:hover label.sk-toggleable__label {background-color: #d4ebff;}#sk-container-id-2 div.sk-serial::before {content: \"\";position: absolute;border-left: 1px solid gray;box-sizing: border-box;top: 0;bottom: 0;left: 50%;z-index: 0;}#sk-container-id-2 div.sk-serial {display: flex;flex-direction: column;align-items: center;background-color: white;padding-right: 0.2em;padding-left: 0.2em;position: relative;}#sk-container-id-2 div.sk-item {position: relative;z-index: 1;}#sk-container-id-2 div.sk-parallel {display: flex;align-items: stretch;justify-content: center;background-color: white;position: relative;}#sk-container-id-2 div.sk-item::before, #sk-container-id-2 div.sk-parallel-item::before {content: \"\";position: absolute;border-left: 1px solid gray;box-sizing: border-box;top: 0;bottom: 0;left: 50%;z-index: -1;}#sk-container-id-2 div.sk-parallel-item {display: flex;flex-direction: column;z-index: 1;position: relative;background-color: white;}#sk-container-id-2 div.sk-parallel-item:first-child::after {align-self: flex-end;width: 50%;}#sk-container-id-2 div.sk-parallel-item:last-child::after {align-self: flex-start;width: 50%;}#sk-container-id-2 div.sk-parallel-item:only-child::after {width: 0;}#sk-container-id-2 div.sk-dashed-wrapped {border: 1px dashed gray;margin: 0 0.4em 0.5em 0.4em;box-sizing: border-box;padding-bottom: 0.4em;background-color: white;}#sk-container-id-2 div.sk-label label {font-family: monospace;font-weight: bold;display: inline-block;line-height: 1.2em;}#sk-container-id-2 div.sk-label-container {text-align: center;}#sk-container-id-2 div.sk-container {/* jupyter's `normalize.less` sets `[hidden] { display: none; }` but bootstrap.min.css set `[hidden] { display: none !important; }` so we also need the `!important` here to be able to override the default hidden behavior on the sphinx rendered scikit-learn.org. See: https://github.com/scikit-learn/scikit-learn/issues/21755 */display: inline-block !important;position: relative;}#sk-container-id-2 div.sk-text-repr-fallback {display: none;}</style><div id=\"sk-container-id-2\" class=\"sk-top-container\"><div class=\"sk-text-repr-fallback\"><pre>LogisticRegression(random_state=7)</pre><b>In a Jupyter environment, please rerun this cell to show the HTML representation or trust the notebook. <br />On GitHub, the HTML representation is unable to render, please try loading this page with nbviewer.org.</b></div><div class=\"sk-container\" hidden><div class=\"sk-item\"><div class=\"sk-estimator sk-toggleable\"><input class=\"sk-toggleable__control sk-hidden--visually\" id=\"sk-estimator-id-2\" type=\"checkbox\" checked><label for=\"sk-estimator-id-2\" class=\"sk-toggleable__label sk-toggleable__label-arrow\">LogisticRegression</label><div class=\"sk-toggleable__content\"><pre>LogisticRegression(random_state=7)</pre></div></div></div></div></div>"
      ],
      "text/plain": [
       "LogisticRegression(random_state=7)"
      ]
     },
     "execution_count": 38,
     "metadata": {},
     "output_type": "execute_result"
    }
   ],
   "source": [
    "# Logistic Regression\n",
    "from sklearn.linear_model import LogisticRegression\n",
    "model = LogisticRegression(random_state=7)\n",
    "\n",
    "model.fit(X_train, y_train)"
   ]
  },
  {
   "cell_type": "code",
   "execution_count": 39,
   "id": "03cf5f1e-7f5a-46b0-8cff-42aa2d718a9f",
   "metadata": {},
   "outputs": [
    {
     "data": {
      "text/plain": [
       "array([[-0.02, -0.5 ,  0.05,  0.17, -0.03, -0.02,  0.41,  0.03,  0.12,\n",
       "         0.88, -0.58, -0.15,  0.03]])"
      ]
     },
     "execution_count": 39,
     "metadata": {},
     "output_type": "execute_result"
    }
   ],
   "source": [
    "model.coef_.round(2)"
   ]
  },
  {
   "cell_type": "code",
   "execution_count": 40,
   "id": "bc2e6900-93a4-4d1e-8397-8432fe68a2ba",
   "metadata": {},
   "outputs": [
    {
     "data": {
      "text/plain": [
       "array([-1.41])"
      ]
     },
     "execution_count": 40,
     "metadata": {},
     "output_type": "execute_result"
    }
   ],
   "source": [
    "model.intercept_.round(2)"
   ]
  },
  {
   "cell_type": "code",
   "execution_count": 41,
   "id": "a9dec4cf-d27e-4bac-9a3b-207c107af75c",
   "metadata": {},
   "outputs": [],
   "source": [
    "y_pred_class=model.predict(X_test)\n",
    "y_pred_prob=model.predict_proba(X_test)"
   ]
  },
  {
   "cell_type": "code",
   "execution_count": 42,
   "id": "69fbc98b-0bba-4415-9d44-2210cc7635bb",
   "metadata": {},
   "outputs": [
    {
     "data": {
      "text/plain": [
       "array([0, 0, 0, 0, 0, 0, 1, 0, 0, 0, 0, 0, 0, 0, 0, 0, 0, 0, 0, 0])"
      ]
     },
     "execution_count": 42,
     "metadata": {},
     "output_type": "execute_result"
    }
   ],
   "source": [
    "y_pred_class[:20]"
   ]
  },
  {
   "cell_type": "code",
   "execution_count": 43,
   "id": "c460a361-9b35-4d1a-8035-2e9af3852a4c",
   "metadata": {},
   "outputs": [
    {
     "data": {
      "text/plain": [
       "array([0, 0, 0, 0, 0])"
      ]
     },
     "execution_count": 43,
     "metadata": {},
     "output_type": "execute_result"
    }
   ],
   "source": [
    "y_pred_class[:5][:]"
   ]
  },
  {
   "cell_type": "code",
   "execution_count": 44,
   "id": "94b0415a-220b-4185-a734-15b2332f5960",
   "metadata": {},
   "outputs": [
    {
     "data": {
      "text/plain": [
       "array([[0.76572881, 0.23427119],\n",
       "       [0.82419106, 0.17580894],\n",
       "       [0.699331  , 0.300669  ],\n",
       "       [0.81894042, 0.18105958],\n",
       "       [0.57882288, 0.42117712]])"
      ]
     },
     "execution_count": 44,
     "metadata": {},
     "output_type": "execute_result"
    }
   ],
   "source": [
    "y_pred_prob[:5,:]"
   ]
  },
  {
   "cell_type": "code",
   "execution_count": 45,
   "id": "8b0b7175-e5fb-4062-ab83-4caf289547ed",
   "metadata": {},
   "outputs": [
    {
     "data": {
      "text/plain": [
       "array([0.76572881, 0.82419106, 0.699331  , 0.81894042, 0.57882288])"
      ]
     },
     "execution_count": 45,
     "metadata": {},
     "output_type": "execute_result"
    }
   ],
   "source": [
    "y_pred_prob[:5,0]"
   ]
  },
  {
   "cell_type": "code",
   "execution_count": 46,
   "id": "2c59e6b2-cdb5-430e-b4f5-79a7adb99dcf",
   "metadata": {},
   "outputs": [
    {
     "data": {
      "text/plain": [
       "array([1, 1, 1, 1, 1])"
      ]
     },
     "execution_count": 46,
     "metadata": {},
     "output_type": "execute_result"
    }
   ],
   "source": [
    "#y_pred_prob[:20,:]\n",
    "(y_pred_prob[:5,0]>0.5)*1"
   ]
  },
  {
   "cell_type": "code",
   "execution_count": 47,
   "id": "c21d7041-f37d-4441-86e4-b17c015ec080",
   "metadata": {},
   "outputs": [],
   "source": [
    "## function to get confusion matrix in a proper format\n",
    "def draw_cm( actual, predicted ):\n",
    "    cm = confusion_matrix( actual, predicted)\n",
    "    sns.heatmap(cm, annot=True,  fmt='.0f', xticklabels = [0,1] , yticklabels = [0,1] )\n",
    "    plt.ylabel('Observed')\n",
    "    plt.xlabel('Predicted')\n",
    "    plt.show()"
   ]
  },
  {
   "cell_type": "code",
   "execution_count": 48,
   "id": "3a327a1a-b71b-4024-b4df-6b0eb20f0a9b",
   "metadata": {},
   "outputs": [
    {
     "data": {
      "image/png": "[encoded data removed]",
      "text/plain": [
       "<Figure size 432x288 with 2 Axes>"
      ]
     },
     "metadata": {
      "needs_background": "light"
     },
     "output_type": "display_data"
    }
   ],
   "source": [
    "draw_cm(y_test,y_pred_class);"
   ]
  },
  {
   "cell_type": "code",
   "execution_count": 49,
   "id": "d5ea83b5-78f0-478b-b13e-d96f1fa3838d",
   "metadata": {},
   "outputs": [],
   "source": [
    "fpr, tpr, thresholds = roc_curve(y_test, y_pred_prob[:,1])"
   ]
  },
  {
   "cell_type": "code",
   "execution_count": 50,
   "id": "5d898fe4-34b8-4e8a-8534-34d9459a35fa",
   "metadata": {},
   "outputs": [
    {
     "data": {
      "image/png": "[encoded data removed]",
      "text/plain": [
       "<Figure size 432x288 with 1 Axes>"
      ]
     },
     "metadata": {
      "needs_background": "light"
     },
     "output_type": "display_data"
    }
   ],
   "source": [
    "# Plot ROC curve\n",
    "plt.plot([0, 1], [0, 1], 'k--')\n",
    "plt.plot(fpr, tpr)\n",
    "plt.xlabel('False Positive Rate')\n",
    "plt.ylabel('True Positive Rate')\n",
    "plt.title('ROC Curve')\n",
    "plt.show()"
   ]
  },
  {
   "cell_type": "code",
   "execution_count": 51,
   "id": "0910faf1-8a07-4a10-8b93-41f2ff08c13b",
   "metadata": {},
   "outputs": [],
   "source": [
    "data_ = pd.read_csv('data2')"
   ]
  },
  {
   "cell_type": "code",
   "execution_count": 52,
   "id": "d8ca57e3-0032-421b-95c2-e2bbf7a687fd",
   "metadata": {},
   "outputs": [],
   "source": [
    "data_.drop(['Unnamed: 0','loan_application_id','applicant_id','Marital_status','Number_of_dependents','Housing','Years_at_current_residence','Foreign_worker','Principal_loan_amount','EMI_rate_in_percentage_of_disposable_income','Has_coapplicant','Has_guarantor'], axis=1, inplace=True)"
   ]
  },
  {
   "cell_type": "code",
   "execution_count": 53,
   "id": "81406199-2ea5-49e8-b882-5c6a9e2c7b94",
   "metadata": {},
   "outputs": [
    {
     "data": {
      "text/html": [
       "<div>\n",
       "<style scoped>\n",
       "    .dataframe tbody tr th:only-of-type {\n",
       "        vertical-align: middle;\n",
       "    }\n",
       "\n",
       "    .dataframe tbody tr th {\n",
       "        vertical-align: top;\n",
       "    }\n",
       "\n",
       "    .dataframe thead th {\n",
       "        text-align: right;\n",
       "    }\n",
       "</style>\n",
       "<table border=\"1\" class=\"dataframe\">\n",
       "  <thead>\n",
       "    <tr style=\"text-align: right;\">\n",
       "      <th></th>\n",
       "      <th>Primary_applicant_age_in_years</th>\n",
       "      <th>Gender</th>\n",
       "      <th>Employment_status</th>\n",
       "      <th>Months_loan_taken_for</th>\n",
       "      <th>Number_of_existing_loans_at_this_bank</th>\n",
       "      <th>Loan_history</th>\n",
       "      <th>high_risk_applicant</th>\n",
       "    </tr>\n",
       "  </thead>\n",
       "  <tbody>\n",
       "    <tr>\n",
       "      <th>0</th>\n",
       "      <td>67</td>\n",
       "      <td>1</td>\n",
       "      <td>1</td>\n",
       "      <td>6</td>\n",
       "      <td>2</td>\n",
       "      <td>1</td>\n",
       "      <td>0</td>\n",
       "    </tr>\n",
       "    <tr>\n",
       "      <th>1</th>\n",
       "      <td>22</td>\n",
       "      <td>0</td>\n",
       "      <td>1</td>\n",
       "      <td>48</td>\n",
       "      <td>1</td>\n",
       "      <td>3</td>\n",
       "      <td>1</td>\n",
       "    </tr>\n",
       "    <tr>\n",
       "      <th>2</th>\n",
       "      <td>49</td>\n",
       "      <td>1</td>\n",
       "      <td>3</td>\n",
       "      <td>12</td>\n",
       "      <td>1</td>\n",
       "      <td>1</td>\n",
       "      <td>0</td>\n",
       "    </tr>\n",
       "    <tr>\n",
       "      <th>3</th>\n",
       "      <td>45</td>\n",
       "      <td>1</td>\n",
       "      <td>1</td>\n",
       "      <td>42</td>\n",
       "      <td>1</td>\n",
       "      <td>3</td>\n",
       "      <td>0</td>\n",
       "    </tr>\n",
       "    <tr>\n",
       "      <th>4</th>\n",
       "      <td>53</td>\n",
       "      <td>1</td>\n",
       "      <td>1</td>\n",
       "      <td>24</td>\n",
       "      <td>2</td>\n",
       "      <td>2</td>\n",
       "      <td>1</td>\n",
       "    </tr>\n",
       "  </tbody>\n",
       "</table>\n",
       "</div>"
      ],
      "text/plain": [
       "   Primary_applicant_age_in_years  Gender  Employment_status  \\\n",
       "0                              67       1                  1   \n",
       "1                              22       0                  1   \n",
       "2                              49       1                  3   \n",
       "3                              45       1                  1   \n",
       "4                              53       1                  1   \n",
       "\n",
       "   Months_loan_taken_for  Number_of_existing_loans_at_this_bank  Loan_history  \\\n",
       "0                      6                                      2             1   \n",
       "1                     48                                      1             3   \n",
       "2                     12                                      1             1   \n",
       "3                     42                                      1             3   \n",
       "4                     24                                      2             2   \n",
       "\n",
       "   high_risk_applicant  \n",
       "0                    0  \n",
       "1                    1  \n",
       "2                    0  \n",
       "3                    0  \n",
       "4                    1  "
      ]
     },
     "execution_count": 53,
     "metadata": {},
     "output_type": "execute_result"
    }
   ],
   "source": [
    "data_.head()"
   ]
  },
  {
   "cell_type": "code",
   "execution_count": 54,
   "id": "5c98d56f-1e78-4955-a34f-568d110ec9c3",
   "metadata": {},
   "outputs": [],
   "source": [
    "X = data_.loc[:, data_.columns != 'high_risk_applicant']  # independent variables\n",
    "\n",
    "y = data_.loc[:, data_.columns == 'high_risk_applicant']  # Target variable"
   ]
  },
  {
   "cell_type": "code",
   "execution_count": 55,
   "id": "7c5edf5c-0708-40fb-b7c0-efef00c612b5",
   "metadata": {},
   "outputs": [],
   "source": [
    "X = pd.get_dummies(X,drop_first=True)"
   ]
  },
  {
   "cell_type": "code",
   "execution_count": 56,
   "id": "d9da92ae-bc51-4171-b8fa-6bd61ce366c7",
   "metadata": {},
   "outputs": [
    {
     "data": {
      "text/html": [
       "<div>\n",
       "<style scoped>\n",
       "    .dataframe tbody tr th:only-of-type {\n",
       "        vertical-align: middle;\n",
       "    }\n",
       "\n",
       "    .dataframe tbody tr th {\n",
       "        vertical-align: top;\n",
       "    }\n",
       "\n",
       "    .dataframe thead th {\n",
       "        text-align: right;\n",
       "    }\n",
       "</style>\n",
       "<table border=\"1\" class=\"dataframe\">\n",
       "  <thead>\n",
       "    <tr style=\"text-align: right;\">\n",
       "      <th></th>\n",
       "      <th>high_risk_applicant</th>\n",
       "    </tr>\n",
       "  </thead>\n",
       "  <tbody>\n",
       "    <tr>\n",
       "      <th>0</th>\n",
       "      <td>0</td>\n",
       "    </tr>\n",
       "    <tr>\n",
       "      <th>1</th>\n",
       "      <td>1</td>\n",
       "    </tr>\n",
       "    <tr>\n",
       "      <th>2</th>\n",
       "      <td>0</td>\n",
       "    </tr>\n",
       "    <tr>\n",
       "      <th>3</th>\n",
       "      <td>0</td>\n",
       "    </tr>\n",
       "    <tr>\n",
       "      <th>4</th>\n",
       "      <td>1</td>\n",
       "    </tr>\n",
       "  </tbody>\n",
       "</table>\n",
       "</div>"
      ],
      "text/plain": [
       "   high_risk_applicant\n",
       "0                    0\n",
       "1                    1\n",
       "2                    0\n",
       "3                    0\n",
       "4                    1"
      ]
     },
     "execution_count": 56,
     "metadata": {},
     "output_type": "execute_result"
    }
   ],
   "source": [
    "y.head()  "
   ]
  },
  {
   "cell_type": "code",
   "execution_count": 57,
   "id": "695bbdc2-2961-4ed3-9719-c32252a29831",
   "metadata": {},
   "outputs": [
    {
     "data": {
      "text/html": [
       "<div>\n",
       "<style scoped>\n",
       "    .dataframe tbody tr th:only-of-type {\n",
       "        vertical-align: middle;\n",
       "    }\n",
       "\n",
       "    .dataframe tbody tr th {\n",
       "        vertical-align: top;\n",
       "    }\n",
       "\n",
       "    .dataframe thead th {\n",
       "        text-align: right;\n",
       "    }\n",
       "</style>\n",
       "<table border=\"1\" class=\"dataframe\">\n",
       "  <thead>\n",
       "    <tr style=\"text-align: right;\">\n",
       "      <th></th>\n",
       "      <th>Primary_applicant_age_in_years</th>\n",
       "      <th>Gender</th>\n",
       "      <th>Employment_status</th>\n",
       "      <th>Months_loan_taken_for</th>\n",
       "      <th>Number_of_existing_loans_at_this_bank</th>\n",
       "      <th>Loan_history</th>\n",
       "    </tr>\n",
       "  </thead>\n",
       "  <tbody>\n",
       "    <tr>\n",
       "      <th>0</th>\n",
       "      <td>67</td>\n",
       "      <td>1</td>\n",
       "      <td>1</td>\n",
       "      <td>6</td>\n",
       "      <td>2</td>\n",
       "      <td>1</td>\n",
       "    </tr>\n",
       "    <tr>\n",
       "      <th>1</th>\n",
       "      <td>22</td>\n",
       "      <td>0</td>\n",
       "      <td>1</td>\n",
       "      <td>48</td>\n",
       "      <td>1</td>\n",
       "      <td>3</td>\n",
       "    </tr>\n",
       "    <tr>\n",
       "      <th>2</th>\n",
       "      <td>49</td>\n",
       "      <td>1</td>\n",
       "      <td>3</td>\n",
       "      <td>12</td>\n",
       "      <td>1</td>\n",
       "      <td>1</td>\n",
       "    </tr>\n",
       "    <tr>\n",
       "      <th>3</th>\n",
       "      <td>45</td>\n",
       "      <td>1</td>\n",
       "      <td>1</td>\n",
       "      <td>42</td>\n",
       "      <td>1</td>\n",
       "      <td>3</td>\n",
       "    </tr>\n",
       "    <tr>\n",
       "      <th>4</th>\n",
       "      <td>53</td>\n",
       "      <td>1</td>\n",
       "      <td>1</td>\n",
       "      <td>24</td>\n",
       "      <td>2</td>\n",
       "      <td>2</td>\n",
       "    </tr>\n",
       "  </tbody>\n",
       "</table>\n",
       "</div>"
      ],
      "text/plain": [
       "   Primary_applicant_age_in_years  Gender  Employment_status  \\\n",
       "0                              67       1                  1   \n",
       "1                              22       0                  1   \n",
       "2                              49       1                  3   \n",
       "3                              45       1                  1   \n",
       "4                              53       1                  1   \n",
       "\n",
       "   Months_loan_taken_for  Number_of_existing_loans_at_this_bank  Loan_history  \n",
       "0                      6                                      2             1  \n",
       "1                     48                                      1             3  \n",
       "2                     12                                      1             1  \n",
       "3                     42                                      1             3  \n",
       "4                     24                                      2             2  "
      ]
     },
     "execution_count": 57,
     "metadata": {},
     "output_type": "execute_result"
    }
   ],
   "source": [
    "X.head()"
   ]
  },
  {
   "cell_type": "code",
   "execution_count": 58,
   "id": "c903cf82-201f-4753-8494-73d95cb96e4f",
   "metadata": {},
   "outputs": [],
   "source": [
    "from sklearn.model_selection import train_test_split\n",
    "\n",
    "X_train, X_test, y_train, y_test = train_test_split(X,y,test_size=0.3,random_state=70)"
   ]
  },
  {
   "cell_type": "code",
   "execution_count": 59,
   "id": "e23b6cd1-f858-4777-b446-9cbb22231201",
   "metadata": {},
   "outputs": [
    {
     "data": {
      "text/plain": [
       "((700, 6), (300, 6))"
      ]
     },
     "execution_count": 59,
     "metadata": {},
     "output_type": "execute_result"
    }
   ],
   "source": [
    "X_train.shape,X_test.shape"
   ]
  },
  {
   "cell_type": "code",
   "execution_count": 60,
   "id": "1c5c78fe-c6a9-4ce1-b7e2-ae1523ec6e8e",
   "metadata": {},
   "outputs": [
    {
     "data": {
      "text/html": [
       "<div>\n",
       "<style scoped>\n",
       "    .dataframe tbody tr th:only-of-type {\n",
       "        vertical-align: middle;\n",
       "    }\n",
       "\n",
       "    .dataframe tbody tr th {\n",
       "        vertical-align: top;\n",
       "    }\n",
       "\n",
       "    .dataframe thead th {\n",
       "        text-align: right;\n",
       "    }\n",
       "</style>\n",
       "<table border=\"1\" class=\"dataframe\">\n",
       "  <thead>\n",
       "    <tr style=\"text-align: right;\">\n",
       "      <th></th>\n",
       "      <th>Primary_applicant_age_in_years</th>\n",
       "      <th>Gender</th>\n",
       "      <th>Employment_status</th>\n",
       "      <th>Months_loan_taken_for</th>\n",
       "      <th>Number_of_existing_loans_at_this_bank</th>\n",
       "      <th>Loan_history</th>\n",
       "    </tr>\n",
       "  </thead>\n",
       "  <tbody>\n",
       "    <tr>\n",
       "      <th>570</th>\n",
       "      <td>23</td>\n",
       "      <td>0</td>\n",
       "      <td>3</td>\n",
       "      <td>24</td>\n",
       "      <td>1</td>\n",
       "      <td>3</td>\n",
       "    </tr>\n",
       "    <tr>\n",
       "      <th>137</th>\n",
       "      <td>66</td>\n",
       "      <td>1</td>\n",
       "      <td>3</td>\n",
       "      <td>12</td>\n",
       "      <td>1</td>\n",
       "      <td>3</td>\n",
       "    </tr>\n",
       "    <tr>\n",
       "      <th>953</th>\n",
       "      <td>26</td>\n",
       "      <td>0</td>\n",
       "      <td>0</td>\n",
       "      <td>36</td>\n",
       "      <td>2</td>\n",
       "      <td>3</td>\n",
       "    </tr>\n",
       "    <tr>\n",
       "      <th>882</th>\n",
       "      <td>36</td>\n",
       "      <td>1</td>\n",
       "      <td>1</td>\n",
       "      <td>30</td>\n",
       "      <td>2</td>\n",
       "      <td>1</td>\n",
       "    </tr>\n",
       "    <tr>\n",
       "      <th>606</th>\n",
       "      <td>74</td>\n",
       "      <td>1</td>\n",
       "      <td>0</td>\n",
       "      <td>24</td>\n",
       "      <td>1</td>\n",
       "      <td>1</td>\n",
       "    </tr>\n",
       "  </tbody>\n",
       "</table>\n",
       "</div>"
      ],
      "text/plain": [
       "     Primary_applicant_age_in_years  Gender  Employment_status  \\\n",
       "570                              23       0                  3   \n",
       "137                              66       1                  3   \n",
       "953                              26       0                  0   \n",
       "882                              36       1                  1   \n",
       "606                              74       1                  0   \n",
       "\n",
       "     Months_loan_taken_for  Number_of_existing_loans_at_this_bank  \\\n",
       "570                     24                                      1   \n",
       "137                     12                                      1   \n",
       "953                     36                                      2   \n",
       "882                     30                                      2   \n",
       "606                     24                                      1   \n",
       "\n",
       "     Loan_history  \n",
       "570             3  \n",
       "137             3  \n",
       "953             3  \n",
       "882             1  \n",
       "606             1  "
      ]
     },
     "execution_count": 60,
     "metadata": {},
     "output_type": "execute_result"
    }
   ],
   "source": [
    "X_train.head()"
   ]
  },
  {
   "cell_type": "code",
   "execution_count": 61,
   "id": "8424ca01-2378-44cf-aa7f-b6ef730edf7c",
   "metadata": {},
   "outputs": [],
   "source": [
    "from sklearn.metrics import confusion_matrix, recall_score, precision_score, f1_score, roc_auc_score,roc_curve"
   ]
  },
  {
   "cell_type": "code",
   "execution_count": 62,
   "id": "4d097290-6273-4ad8-8f0c-4bf87c49ee4f",
   "metadata": {},
   "outputs": [
    {
     "data": {
      "text/html": [
       "<style>#sk-container-id-3 {color: black;background-color: white;}#sk-container-id-3 pre{padding: 0;}#sk-container-id-3 div.sk-toggleable {background-color: white;}#sk-container-id-3 label.sk-toggleable__label {cursor: pointer;display: block;width: 100%;margin-bottom: 0;padding: 0.3em;box-sizing: border-box;text-align: center;}#sk-container-id-3 label.sk-toggleable__label-arrow:before {content: \"▸\";float: left;margin-right: 0.25em;color: #696969;}#sk-container-id-3 label.sk-toggleable__label-arrow:hover:before {color: black;}#sk-container-id-3 div.sk-estimator:hover label.sk-toggleable__label-arrow:before {color: black;}#sk-container-id-3 div.sk-toggleable__content {max-height: 0;max-width: 0;overflow: hidden;text-align: left;background-color: #f0f8ff;}#sk-container-id-3 div.sk-toggleable__content pre {margin: 0.2em;color: black;border-radius: 0.25em;background-color: #f0f8ff;}#sk-container-id-3 input.sk-toggleable__control:checked~div.sk-toggleable__content {max-height: 200px;max-width: 100%;overflow: auto;}#sk-container-id-3 input.sk-toggleable__control:checked~label.sk-toggleable__label-arrow:before {content: \"▾\";}#sk-container-id-3 div.sk-estimator input.sk-toggleable__control:checked~label.sk-toggleable__label {background-color: #d4ebff;}#sk-container-id-3 div.sk-label input.sk-toggleable__control:checked~label.sk-toggleable__label {background-color: #d4ebff;}#sk-container-id-3 input.sk-hidden--visually {border: 0;clip: rect(1px 1px 1px 1px);clip: rect(1px, 1px, 1px, 1px);height: 1px;margin: -1px;overflow: hidden;padding: 0;position: absolute;width: 1px;}#sk-container-id-3 div.sk-estimator {font-family: monospace;background-color: #f0f8ff;border: 1px dotted black;border-radius: 0.25em;box-sizing: border-box;margin-bottom: 0.5em;}#sk-container-id-3 div.sk-estimator:hover {background-color: #d4ebff;}#sk-container-id-3 div.sk-parallel-item::after {content: \"\";width: 100%;border-bottom: 1px solid gray;flex-grow: 1;}#sk-container-id-3 div.sk-label:hover label.sk-toggleable__label {background-color: #d4ebff;}#sk-container-id-3 div.sk-serial::before {content: \"\";position: absolute;border-left: 1px solid gray;box-sizing: border-box;top: 0;bottom: 0;left: 50%;z-index: 0;}#sk-container-id-3 div.sk-serial {display: flex;flex-direction: column;align-items: center;background-color: white;padding-right: 0.2em;padding-left: 0.2em;position: relative;}#sk-container-id-3 div.sk-item {position: relative;z-index: 1;}#sk-container-id-3 div.sk-parallel {display: flex;align-items: stretch;justify-content: center;background-color: white;position: relative;}#sk-container-id-3 div.sk-item::before, #sk-container-id-3 div.sk-parallel-item::before {content: \"\";position: absolute;border-left: 1px solid gray;box-sizing: border-box;top: 0;bottom: 0;left: 50%;z-index: -1;}#sk-container-id-3 div.sk-parallel-item {display: flex;flex-direction: column;z-index: 1;position: relative;background-color: white;}#sk-container-id-3 div.sk-parallel-item:first-child::after {align-self: flex-end;width: 50%;}#sk-container-id-3 div.sk-parallel-item:last-child::after {align-self: flex-start;width: 50%;}#sk-container-id-3 div.sk-parallel-item:only-child::after {width: 0;}#sk-container-id-3 div.sk-dashed-wrapped {border: 1px dashed gray;margin: 0 0.4em 0.5em 0.4em;box-sizing: border-box;padding-bottom: 0.4em;background-color: white;}#sk-container-id-3 div.sk-label label {font-family: monospace;font-weight: bold;display: inline-block;line-height: 1.2em;}#sk-container-id-3 div.sk-label-container {text-align: center;}#sk-container-id-3 div.sk-container {/* jupyter's `normalize.less` sets `[hidden] { display: none; }` but bootstrap.min.css set `[hidden] { display: none !important; }` so we also need the `!important` here to be able to override the default hidden behavior on the sphinx rendered scikit-learn.org. See: https://github.com/scikit-learn/scikit-learn/issues/21755 */display: inline-block !important;position: relative;}#sk-container-id-3 div.sk-text-repr-fallback {display: none;}</style><div id=\"sk-container-id-3\" class=\"sk-top-container\"><div class=\"sk-text-repr-fallback\"><pre>LogisticRegression(random_state=7)</pre><b>In a Jupyter environment, please rerun this cell to show the HTML representation or trust the notebook. <br />On GitHub, the HTML representation is unable to render, please try loading this page with nbviewer.org.</b></div><div class=\"sk-container\" hidden><div class=\"sk-item\"><div class=\"sk-estimator sk-toggleable\"><input class=\"sk-toggleable__control sk-hidden--visually\" id=\"sk-estimator-id-3\" type=\"checkbox\" checked><label for=\"sk-estimator-id-3\" class=\"sk-toggleable__label sk-toggleable__label-arrow\">LogisticRegression</label><div class=\"sk-toggleable__content\"><pre>LogisticRegression(random_state=7)</pre></div></div></div></div></div>"
      ],
      "text/plain": [
       "LogisticRegression(random_state=7)"
      ]
     },
     "execution_count": 62,
     "metadata": {},
     "output_type": "execute_result"
    }
   ],
   "source": [
    "# Logistic Regression\n",
    "from sklearn.linear_model import LogisticRegression\n",
    "model = LogisticRegression(random_state=7)\n",
    "\n",
    "model.fit(X_train, y_train)"
   ]
  },
  {
   "cell_type": "code",
   "execution_count": 63,
   "id": "a4edeb07-58d7-4d72-9466-be2a1e7f8806",
   "metadata": {},
   "outputs": [
    {
     "data": {
      "text/plain": [
       "array([[-0.02, -0.53, -0.02,  0.04, -0.03,  0.08]])"
      ]
     },
     "execution_count": 63,
     "metadata": {},
     "output_type": "execute_result"
    }
   ],
   "source": [
    "model.coef_.round(2)"
   ]
  },
  {
   "cell_type": "code",
   "execution_count": 64,
   "id": "76aeb3d8-93e2-493e-8366-2ea6e2129af5",
   "metadata": {},
   "outputs": [
    {
     "data": {
      "text/plain": [
       "array([-0.78])"
      ]
     },
     "execution_count": 64,
     "metadata": {},
     "output_type": "execute_result"
    }
   ],
   "source": [
    "model.intercept_.round(2)"
   ]
  },
  {
   "cell_type": "code",
   "execution_count": 65,
   "id": "c59b131e-aca0-4825-a25c-f25adf1365e5",
   "metadata": {},
   "outputs": [],
   "source": [
    "y_pred_class=model.predict(X_test)\n",
    "y_pred_prob=model.predict_proba(X_test)"
   ]
  },
  {
   "cell_type": "code",
   "execution_count": 66,
   "id": "84de5877-cd3d-44ea-9b2d-89cb10ca4a1c",
   "metadata": {},
   "outputs": [
    {
     "data": {
      "text/plain": [
       "array([0, 0, 0, 0, 0, 0, 1, 0, 0, 0, 0, 0, 0, 0, 0, 0, 0, 0, 0, 0])"
      ]
     },
     "execution_count": 66,
     "metadata": {},
     "output_type": "execute_result"
    }
   ],
   "source": [
    "y_pred_class[:20]"
   ]
  },
  {
   "cell_type": "code",
   "execution_count": 67,
   "id": "51f3ca34-3503-48ed-a12e-a5f97eebcc14",
   "metadata": {},
   "outputs": [
    {
     "data": {
      "text/plain": [
       "array([0, 0, 0, 0, 0])"
      ]
     },
     "execution_count": 67,
     "metadata": {},
     "output_type": "execute_result"
    }
   ],
   "source": [
    "y_pred_class[:5][:]"
   ]
  },
  {
   "cell_type": "code",
   "execution_count": 68,
   "id": "0c00b2c5-1126-4d8d-82ba-0d7edb5dc939",
   "metadata": {},
   "outputs": [
    {
     "data": {
      "text/plain": [
       "array([[0.74116869, 0.25883131],\n",
       "       [0.81851872, 0.18148128],\n",
       "       [0.64998628, 0.35001372],\n",
       "       [0.74147581, 0.25852419],\n",
       "       [0.64224862, 0.35775138]])"
      ]
     },
     "execution_count": 68,
     "metadata": {},
     "output_type": "execute_result"
    }
   ],
   "source": [
    "y_pred_prob[:5,:]"
   ]
  },
  {
   "cell_type": "code",
   "execution_count": 69,
   "id": "ffe8b838-c9e3-4060-955a-e09ae1de97c6",
   "metadata": {},
   "outputs": [
    {
     "data": {
      "text/plain": [
       "array([0.74116869, 0.81851872, 0.64998628, 0.74147581, 0.64224862])"
      ]
     },
     "execution_count": 69,
     "metadata": {},
     "output_type": "execute_result"
    }
   ],
   "source": [
    "y_pred_prob[:5,0]"
   ]
  },
  {
   "cell_type": "code",
   "execution_count": 70,
   "id": "523f705e-f79c-4943-b7fa-6389282a1be9",
   "metadata": {},
   "outputs": [
    {
     "data": {
      "text/plain": [
       "array([1, 1, 1, 1, 1])"
      ]
     },
     "execution_count": 70,
     "metadata": {},
     "output_type": "execute_result"
    }
   ],
   "source": [
    "#y_pred_prob[:20,:]\n",
    "(y_pred_prob[:5,0]>0.5)*1"
   ]
  },
  {
   "cell_type": "code",
   "execution_count": 71,
   "id": "33e9af1a-59ac-47dc-9e61-27e0d674d1ab",
   "metadata": {},
   "outputs": [],
   "source": [
    "## function to get confusion matrix in a proper format\n",
    "def draw_cm( actual, predicted ):\n",
    "    cm = confusion_matrix( actual, predicted)\n",
    "    sns.heatmap(cm, annot=True,  fmt='.0f', xticklabels = [0,1] , yticklabels = [0,1] )\n",
    "    plt.ylabel('Observed')\n",
    "    plt.xlabel('Predicted')\n",
    "    plt.show()"
   ]
  },
  {
   "cell_type": "code",
   "execution_count": 72,
   "id": "6b6515e4-d869-4eef-9561-7a9d0d294570",
   "metadata": {},
   "outputs": [
    {
     "data": {
      "image/png": "[encoded data removed]",
      "text/plain": [
       "<Figure size 432x288 with 2 Axes>"
      ]
     },
     "metadata": {
      "needs_background": "light"
     },
     "output_type": "display_data"
    }
   ],
   "source": [
    "draw_cm(y_test,y_pred_class);"
   ]
  },
  {
   "cell_type": "code",
   "execution_count": 73,
   "id": "6a885809-2cf7-4195-8ff6-47f21da0dbfe",
   "metadata": {},
   "outputs": [],
   "source": [
    "fpr, tpr, thresholds = roc_curve(y_test, y_pred_prob[:,1])"
   ]
  },
  {
   "cell_type": "code",
   "execution_count": 74,
   "id": "9f478619-7ef1-42fc-8eb7-f0e973e0f4a3",
   "metadata": {},
   "outputs": [
    {
     "data": {
      "image/png": "[encoded data removed]",
      "text/plain": [
       "<Figure size 432x288 with 1 Axes>"
      ]
     },
     "metadata": {
      "needs_background": "light"
     },
     "output_type": "display_data"
    }
   ],
   "source": [
    "# Plot ROC curve\n",
    "plt.plot([0, 1], [0, 1], 'k--')\n",
    "plt.plot(fpr, tpr)\n",
    "plt.xlabel('False Positive Rate')\n",
    "plt.ylabel('True Positive Rate')\n",
    "plt.title('ROC Curve')\n",
    "plt.show()"
   ]
  },
  {
   "cell_type": "code",
   "execution_count": 75,
   "id": "187a3059-d187-4aa0-89eb-5d6e7834e54f",
   "metadata": {},
   "outputs": [
    {
     "name": "stdout",
     "output_type": "stream",
     "text": [
      "              precision    recall  f1-score   support\n",
      "\n",
      "           0       0.72      0.99      0.83       205\n",
      "           1       0.83      0.16      0.27        95\n",
      "\n",
      "    accuracy                           0.72       300\n",
      "   macro avg       0.77      0.57      0.55       300\n",
      "weighted avg       0.75      0.72      0.65       300\n",
      "\n"
     ]
    }
   ],
   "source": [
    "from sklearn.metrics import classification_report\n",
    "print(classification_report(y_test, y_pred_class))"
   ]
  },
  {
   "cell_type": "code",
   "execution_count": 76,
   "id": "d53d134a-9156-4a78-988c-ded640b4db5c",
   "metadata": {},
   "outputs": [
    {
     "data": {
      "text/html": [
       "<div>\n",
       "<style scoped>\n",
       "    .dataframe tbody tr th:only-of-type {\n",
       "        vertical-align: middle;\n",
       "    }\n",
       "\n",
       "    .dataframe tbody tr th {\n",
       "        vertical-align: top;\n",
       "    }\n",
       "\n",
       "    .dataframe thead th {\n",
       "        text-align: right;\n",
       "    }\n",
       "</style>\n",
       "<table border=\"1\" class=\"dataframe\">\n",
       "  <thead>\n",
       "    <tr style=\"text-align: right;\">\n",
       "      <th></th>\n",
       "      <th>Primary_applicant_age_in_years</th>\n",
       "      <th>Gender</th>\n",
       "      <th>Employment_status</th>\n",
       "      <th>Months_loan_taken_for</th>\n",
       "      <th>Number_of_existing_loans_at_this_bank</th>\n",
       "      <th>Loan_history</th>\n",
       "      <th>high_risk_applicant</th>\n",
       "    </tr>\n",
       "  </thead>\n",
       "  <tbody>\n",
       "    <tr>\n",
       "      <th>0</th>\n",
       "      <td>67</td>\n",
       "      <td>1</td>\n",
       "      <td>1</td>\n",
       "      <td>6</td>\n",
       "      <td>2</td>\n",
       "      <td>1</td>\n",
       "      <td>0</td>\n",
       "    </tr>\n",
       "    <tr>\n",
       "      <th>1</th>\n",
       "      <td>22</td>\n",
       "      <td>0</td>\n",
       "      <td>1</td>\n",
       "      <td>48</td>\n",
       "      <td>1</td>\n",
       "      <td>3</td>\n",
       "      <td>1</td>\n",
       "    </tr>\n",
       "    <tr>\n",
       "      <th>2</th>\n",
       "      <td>49</td>\n",
       "      <td>1</td>\n",
       "      <td>3</td>\n",
       "      <td>12</td>\n",
       "      <td>1</td>\n",
       "      <td>1</td>\n",
       "      <td>0</td>\n",
       "    </tr>\n",
       "    <tr>\n",
       "      <th>3</th>\n",
       "      <td>45</td>\n",
       "      <td>1</td>\n",
       "      <td>1</td>\n",
       "      <td>42</td>\n",
       "      <td>1</td>\n",
       "      <td>3</td>\n",
       "      <td>0</td>\n",
       "    </tr>\n",
       "    <tr>\n",
       "      <th>4</th>\n",
       "      <td>53</td>\n",
       "      <td>1</td>\n",
       "      <td>1</td>\n",
       "      <td>24</td>\n",
       "      <td>2</td>\n",
       "      <td>2</td>\n",
       "      <td>1</td>\n",
       "    </tr>\n",
       "  </tbody>\n",
       "</table>\n",
       "</div>"
      ],
      "text/plain": [
       "   Primary_applicant_age_in_years  Gender  Employment_status  \\\n",
       "0                              67       1                  1   \n",
       "1                              22       0                  1   \n",
       "2                              49       1                  3   \n",
       "3                              45       1                  1   \n",
       "4                              53       1                  1   \n",
       "\n",
       "   Months_loan_taken_for  Number_of_existing_loans_at_this_bank  Loan_history  \\\n",
       "0                      6                                      2             1   \n",
       "1                     48                                      1             3   \n",
       "2                     12                                      1             1   \n",
       "3                     42                                      1             3   \n",
       "4                     24                                      2             2   \n",
       "\n",
       "   high_risk_applicant  \n",
       "0                    0  \n",
       "1                    1  \n",
       "2                    0  \n",
       "3                    0  \n",
       "4                    1  "
      ]
     },
     "execution_count": 76,
     "metadata": {},
     "output_type": "execute_result"
    }
   ],
   "source": [
    "data_.head()"
   ]
  },
  {
   "cell_type": "code",
   "execution_count": 77,
   "id": "1b4ccb1c-e567-4866-ad78-4d88d4ea3afb",
   "metadata": {},
   "outputs": [],
   "source": [
    "from sklearn.preprocessing import StandardScaler\n",
    "scaler = StandardScaler()"
   ]
  },
  {
   "cell_type": "code",
   "execution_count": 78,
   "id": "8e42f6c0-b56b-4b8d-93f9-cd4ef82dc47f",
   "metadata": {},
   "outputs": [
    {
     "data": {
      "text/html": [
       "<style>#sk-container-id-4 {color: black;background-color: white;}#sk-container-id-4 pre{padding: 0;}#sk-container-id-4 div.sk-toggleable {background-color: white;}#sk-container-id-4 label.sk-toggleable__label {cursor: pointer;display: block;width: 100%;margin-bottom: 0;padding: 0.3em;box-sizing: border-box;text-align: center;}#sk-container-id-4 label.sk-toggleable__label-arrow:before {content: \"▸\";float: left;margin-right: 0.25em;color: #696969;}#sk-container-id-4 label.sk-toggleable__label-arrow:hover:before {color: black;}#sk-container-id-4 div.sk-estimator:hover label.sk-toggleable__label-arrow:before {color: black;}#sk-container-id-4 div.sk-toggleable__content {max-height: 0;max-width: 0;overflow: hidden;text-align: left;background-color: #f0f8ff;}#sk-container-id-4 div.sk-toggleable__content pre {margin: 0.2em;color: black;border-radius: 0.25em;background-color: #f0f8ff;}#sk-container-id-4 input.sk-toggleable__control:checked~div.sk-toggleable__content {max-height: 200px;max-width: 100%;overflow: auto;}#sk-container-id-4 input.sk-toggleable__control:checked~label.sk-toggleable__label-arrow:before {content: \"▾\";}#sk-container-id-4 div.sk-estimator input.sk-toggleable__control:checked~label.sk-toggleable__label {background-color: #d4ebff;}#sk-container-id-4 div.sk-label input.sk-toggleable__control:checked~label.sk-toggleable__label {background-color: #d4ebff;}#sk-container-id-4 input.sk-hidden--visually {border: 0;clip: rect(1px 1px 1px 1px);clip: rect(1px, 1px, 1px, 1px);height: 1px;margin: -1px;overflow: hidden;padding: 0;position: absolute;width: 1px;}#sk-container-id-4 div.sk-estimator {font-family: monospace;background-color: #f0f8ff;border: 1px dotted black;border-radius: 0.25em;box-sizing: border-box;margin-bottom: 0.5em;}#sk-container-id-4 div.sk-estimator:hover {background-color: #d4ebff;}#sk-container-id-4 div.sk-parallel-item::after {content: \"\";width: 100%;border-bottom: 1px solid gray;flex-grow: 1;}#sk-container-id-4 div.sk-label:hover label.sk-toggleable__label {background-color: #d4ebff;}#sk-container-id-4 div.sk-serial::before {content: \"\";position: absolute;border-left: 1px solid gray;box-sizing: border-box;top: 0;bottom: 0;left: 50%;z-index: 0;}#sk-container-id-4 div.sk-serial {display: flex;flex-direction: column;align-items: center;background-color: white;padding-right: 0.2em;padding-left: 0.2em;position: relative;}#sk-container-id-4 div.sk-item {position: relative;z-index: 1;}#sk-container-id-4 div.sk-parallel {display: flex;align-items: stretch;justify-content: center;background-color: white;position: relative;}#sk-container-id-4 div.sk-item::before, #sk-container-id-4 div.sk-parallel-item::before {content: \"\";position: absolute;border-left: 1px solid gray;box-sizing: border-box;top: 0;bottom: 0;left: 50%;z-index: -1;}#sk-container-id-4 div.sk-parallel-item {display: flex;flex-direction: column;z-index: 1;position: relative;background-color: white;}#sk-container-id-4 div.sk-parallel-item:first-child::after {align-self: flex-end;width: 50%;}#sk-container-id-4 div.sk-parallel-item:last-child::after {align-self: flex-start;width: 50%;}#sk-container-id-4 div.sk-parallel-item:only-child::after {width: 0;}#sk-container-id-4 div.sk-dashed-wrapped {border: 1px dashed gray;margin: 0 0.4em 0.5em 0.4em;box-sizing: border-box;padding-bottom: 0.4em;background-color: white;}#sk-container-id-4 div.sk-label label {font-family: monospace;font-weight: bold;display: inline-block;line-height: 1.2em;}#sk-container-id-4 div.sk-label-container {text-align: center;}#sk-container-id-4 div.sk-container {/* jupyter's `normalize.less` sets `[hidden] { display: none; }` but bootstrap.min.css set `[hidden] { display: none !important; }` so we also need the `!important` here to be able to override the default hidden behavior on the sphinx rendered scikit-learn.org. See: https://github.com/scikit-learn/scikit-learn/issues/21755 */display: inline-block !important;position: relative;}#sk-container-id-4 div.sk-text-repr-fallback {display: none;}</style><div id=\"sk-container-id-4\" class=\"sk-top-container\"><div class=\"sk-text-repr-fallback\"><pre>StandardScaler()</pre><b>In a Jupyter environment, please rerun this cell to show the HTML representation or trust the notebook. <br />On GitHub, the HTML representation is unable to render, please try loading this page with nbviewer.org.</b></div><div class=\"sk-container\" hidden><div class=\"sk-item\"><div class=\"sk-estimator sk-toggleable\"><input class=\"sk-toggleable__control sk-hidden--visually\" id=\"sk-estimator-id-4\" type=\"checkbox\" checked><label for=\"sk-estimator-id-4\" class=\"sk-toggleable__label sk-toggleable__label-arrow\">StandardScaler</label><div class=\"sk-toggleable__content\"><pre>StandardScaler()</pre></div></div></div></div></div>"
      ],
      "text/plain": [
       "StandardScaler()"
      ]
     },
     "execution_count": 78,
     "metadata": {},
     "output_type": "execute_result"
    }
   ],
   "source": [
    "scaler.fit(data_.drop('high_risk_applicant',axis=1))"
   ]
  },
  {
   "cell_type": "code",
   "execution_count": 79,
   "id": "dfccc63f-6def-45f7-afbc-fc140b589685",
   "metadata": {},
   "outputs": [],
   "source": [
    "scaled_features = scaler.transform(data_.drop('high_risk_applicant',axis=1))"
   ]
  },
  {
   "cell_type": "code",
   "execution_count": 80,
   "id": "56f8c590-7f2d-4293-b1ac-995ca3b1e61c",
   "metadata": {},
   "outputs": [],
   "source": [
    "df_feat = pd.DataFrame(scaled_features,columns=data_.columns[:-1])"
   ]
  },
  {
   "cell_type": "code",
   "execution_count": 81,
   "id": "9c3c54a5-a5ab-4e6b-a940-d4d76ea33bb0",
   "metadata": {},
   "outputs": [
    {
     "data": {
      "text/html": [
       "<div>\n",
       "<style scoped>\n",
       "    .dataframe tbody tr th:only-of-type {\n",
       "        vertical-align: middle;\n",
       "    }\n",
       "\n",
       "    .dataframe tbody tr th {\n",
       "        vertical-align: top;\n",
       "    }\n",
       "\n",
       "    .dataframe thead th {\n",
       "        text-align: right;\n",
       "    }\n",
       "</style>\n",
       "<table border=\"1\" class=\"dataframe\">\n",
       "  <thead>\n",
       "    <tr style=\"text-align: right;\">\n",
       "      <th></th>\n",
       "      <th>Primary_applicant_age_in_years</th>\n",
       "      <th>Gender</th>\n",
       "      <th>Employment_status</th>\n",
       "      <th>Months_loan_taken_for</th>\n",
       "      <th>Number_of_existing_loans_at_this_bank</th>\n",
       "      <th>Loan_history</th>\n",
       "    </tr>\n",
       "  </thead>\n",
       "  <tbody>\n",
       "    <tr>\n",
       "      <th>0</th>\n",
       "      <td>2.766456</td>\n",
       "      <td>0.670280</td>\n",
       "      <td>-0.289639</td>\n",
       "      <td>-1.236478</td>\n",
       "      <td>1.027079</td>\n",
       "      <td>-1.146212</td>\n",
       "    </tr>\n",
       "    <tr>\n",
       "      <th>1</th>\n",
       "      <td>-1.191404</td>\n",
       "      <td>-1.491914</td>\n",
       "      <td>-0.289639</td>\n",
       "      <td>2.248194</td>\n",
       "      <td>-0.704926</td>\n",
       "      <td>0.734365</td>\n",
       "    </tr>\n",
       "    <tr>\n",
       "      <th>2</th>\n",
       "      <td>1.183312</td>\n",
       "      <td>0.670280</td>\n",
       "      <td>1.824516</td>\n",
       "      <td>-0.738668</td>\n",
       "      <td>-0.704926</td>\n",
       "      <td>-1.146212</td>\n",
       "    </tr>\n",
       "    <tr>\n",
       "      <th>3</th>\n",
       "      <td>0.831502</td>\n",
       "      <td>0.670280</td>\n",
       "      <td>-0.289639</td>\n",
       "      <td>1.750384</td>\n",
       "      <td>-0.704926</td>\n",
       "      <td>0.734365</td>\n",
       "    </tr>\n",
       "    <tr>\n",
       "      <th>4</th>\n",
       "      <td>1.535122</td>\n",
       "      <td>0.670280</td>\n",
       "      <td>-0.289639</td>\n",
       "      <td>0.256953</td>\n",
       "      <td>1.027079</td>\n",
       "      <td>-0.205923</td>\n",
       "    </tr>\n",
       "  </tbody>\n",
       "</table>\n",
       "</div>"
      ],
      "text/plain": [
       "   Primary_applicant_age_in_years    Gender  Employment_status  \\\n",
       "0                        2.766456  0.670280          -0.289639   \n",
       "1                       -1.191404 -1.491914          -0.289639   \n",
       "2                        1.183312  0.670280           1.824516   \n",
       "3                        0.831502  0.670280          -0.289639   \n",
       "4                        1.535122  0.670280          -0.289639   \n",
       "\n",
       "   Months_loan_taken_for  Number_of_existing_loans_at_this_bank  Loan_history  \n",
       "0              -1.236478                               1.027079     -1.146212  \n",
       "1               2.248194                              -0.704926      0.734365  \n",
       "2              -0.738668                              -0.704926     -1.146212  \n",
       "3               1.750384                              -0.704926      0.734365  \n",
       "4               0.256953                               1.027079     -0.205923  "
      ]
     },
     "execution_count": 81,
     "metadata": {},
     "output_type": "execute_result"
    }
   ],
   "source": [
    "df_feat.head()"
   ]
  },
  {
   "cell_type": "code",
   "execution_count": 82,
   "id": "84fbc8c3-cfd7-4498-b984-adbe40ccdd58",
   "metadata": {},
   "outputs": [],
   "source": [
    "X_train, X_test, y_train, y_test = train_test_split(scaled_features,data_['high_risk_applicant'],\n",
    "                                                    test_size=0.30,random_state=101)"
   ]
  },
  {
   "cell_type": "code",
   "execution_count": 83,
   "id": "6315acfe-7152-4a4c-834e-251c649f3e9c",
   "metadata": {},
   "outputs": [],
   "source": [
    "from sklearn.neighbors import KNeighborsClassifier"
   ]
  },
  {
   "cell_type": "code",
   "execution_count": 84,
   "id": "d5cfcf4c-f6de-474b-b2fd-bc1e5e65c129",
   "metadata": {},
   "outputs": [],
   "source": [
    "knn = KNeighborsClassifier(n_neighbors=1)"
   ]
  },
  {
   "cell_type": "code",
   "execution_count": 85,
   "id": "1a4ed7be-202a-44e5-9792-6a13745c9f12",
   "metadata": {},
   "outputs": [
    {
     "data": {
      "text/html": [
       "<style>#sk-container-id-5 {color: black;background-color: white;}#sk-container-id-5 pre{padding: 0;}#sk-container-id-5 div.sk-toggleable {background-color: white;}#sk-container-id-5 label.sk-toggleable__label {cursor: pointer;display: block;width: 100%;margin-bottom: 0;padding: 0.3em;box-sizing: border-box;text-align: center;}#sk-container-id-5 label.sk-toggleable__label-arrow:before {content: \"▸\";float: left;margin-right: 0.25em;color: #696969;}#sk-container-id-5 label.sk-toggleable__label-arrow:hover:before {color: black;}#sk-container-id-5 div.sk-estimator:hover label.sk-toggleable__label-arrow:before {color: black;}#sk-container-id-5 div.sk-toggleable__content {max-height: 0;max-width: 0;overflow: hidden;text-align: left;background-color: #f0f8ff;}#sk-container-id-5 div.sk-toggleable__content pre {margin: 0.2em;color: black;border-radius: 0.25em;background-color: #f0f8ff;}#sk-container-id-5 input.sk-toggleable__control:checked~div.sk-toggleable__content {max-height: 200px;max-width: 100%;overflow: auto;}#sk-container-id-5 input.sk-toggleable__control:checked~label.sk-toggleable__label-arrow:before {content: \"▾\";}#sk-container-id-5 div.sk-estimator input.sk-toggleable__control:checked~label.sk-toggleable__label {background-color: #d4ebff;}#sk-container-id-5 div.sk-label input.sk-toggleable__control:checked~label.sk-toggleable__label {background-color: #d4ebff;}#sk-container-id-5 input.sk-hidden--visually {border: 0;clip: rect(1px 1px 1px 1px);clip: rect(1px, 1px, 1px, 1px);height: 1px;margin: -1px;overflow: hidden;padding: 0;position: absolute;width: 1px;}#sk-container-id-5 div.sk-estimator {font-family: monospace;background-color: #f0f8ff;border: 1px dotted black;border-radius: 0.25em;box-sizing: border-box;margin-bottom: 0.5em;}#sk-container-id-5 div.sk-estimator:hover {background-color: #d4ebff;}#sk-container-id-5 div.sk-parallel-item::after {content: \"\";width: 100%;border-bottom: 1px solid gray;flex-grow: 1;}#sk-container-id-5 div.sk-label:hover label.sk-toggleable__label {background-color: #d4ebff;}#sk-container-id-5 div.sk-serial::before {content: \"\";position: absolute;border-left: 1px solid gray;box-sizing: border-box;top: 0;bottom: 0;left: 50%;z-index: 0;}#sk-container-id-5 div.sk-serial {display: flex;flex-direction: column;align-items: center;background-color: white;padding-right: 0.2em;padding-left: 0.2em;position: relative;}#sk-container-id-5 div.sk-item {position: relative;z-index: 1;}#sk-container-id-5 div.sk-parallel {display: flex;align-items: stretch;justify-content: center;background-color: white;position: relative;}#sk-container-id-5 div.sk-item::before, #sk-container-id-5 div.sk-parallel-item::before {content: \"\";position: absolute;border-left: 1px solid gray;box-sizing: border-box;top: 0;bottom: 0;left: 50%;z-index: -1;}#sk-container-id-5 div.sk-parallel-item {display: flex;flex-direction: column;z-index: 1;position: relative;background-color: white;}#sk-container-id-5 div.sk-parallel-item:first-child::after {align-self: flex-end;width: 50%;}#sk-container-id-5 div.sk-parallel-item:last-child::after {align-self: flex-start;width: 50%;}#sk-container-id-5 div.sk-parallel-item:only-child::after {width: 0;}#sk-container-id-5 div.sk-dashed-wrapped {border: 1px dashed gray;margin: 0 0.4em 0.5em 0.4em;box-sizing: border-box;padding-bottom: 0.4em;background-color: white;}#sk-container-id-5 div.sk-label label {font-family: monospace;font-weight: bold;display: inline-block;line-height: 1.2em;}#sk-container-id-5 div.sk-label-container {text-align: center;}#sk-container-id-5 div.sk-container {/* jupyter's `normalize.less` sets `[hidden] { display: none; }` but bootstrap.min.css set `[hidden] { display: none !important; }` so we also need the `!important` here to be able to override the default hidden behavior on the sphinx rendered scikit-learn.org. See: https://github.com/scikit-learn/scikit-learn/issues/21755 */display: inline-block !important;position: relative;}#sk-container-id-5 div.sk-text-repr-fallback {display: none;}</style><div id=\"sk-container-id-5\" class=\"sk-top-container\"><div class=\"sk-text-repr-fallback\"><pre>KNeighborsClassifier(n_neighbors=1)</pre><b>In a Jupyter environment, please rerun this cell to show the HTML representation or trust the notebook. <br />On GitHub, the HTML representation is unable to render, please try loading this page with nbviewer.org.</b></div><div class=\"sk-container\" hidden><div class=\"sk-item\"><div class=\"sk-estimator sk-toggleable\"><input class=\"sk-toggleable__control sk-hidden--visually\" id=\"sk-estimator-id-5\" type=\"checkbox\" checked><label for=\"sk-estimator-id-5\" class=\"sk-toggleable__label sk-toggleable__label-arrow\">KNeighborsClassifier</label><div class=\"sk-toggleable__content\"><pre>KNeighborsClassifier(n_neighbors=1)</pre></div></div></div></div></div>"
      ],
      "text/plain": [
       "KNeighborsClassifier(n_neighbors=1)"
      ]
     },
     "execution_count": 85,
     "metadata": {},
     "output_type": "execute_result"
    }
   ],
   "source": [
    "knn.fit(X_train,y_train)"
   ]
  },
  {
   "cell_type": "code",
   "execution_count": 86,
   "id": "ed07bd16-2cac-4672-964b-fab8091daa59",
   "metadata": {},
   "outputs": [],
   "source": [
    "pred = knn.predict(X_test)"
   ]
  },
  {
   "cell_type": "code",
   "execution_count": 87,
   "id": "25521d60-9c0d-42ee-b054-6cfde04652e7",
   "metadata": {},
   "outputs": [],
   "source": [
    "from sklearn.metrics import classification_report,confusion_matrix"
   ]
  },
  {
   "cell_type": "code",
   "execution_count": 88,
   "id": "79f48885-c71f-427c-b843-4982037cebd6",
   "metadata": {},
   "outputs": [
    {
     "name": "stdout",
     "output_type": "stream",
     "text": [
      "[[148  56]\n",
      " [ 56  40]]\n"
     ]
    }
   ],
   "source": [
    "print(confusion_matrix(y_test,pred))"
   ]
  },
  {
   "cell_type": "code",
   "execution_count": 89,
   "id": "964bcd39-925b-4005-84b2-b84983b9dc8f",
   "metadata": {},
   "outputs": [
    {
     "name": "stdout",
     "output_type": "stream",
     "text": [
      "              precision    recall  f1-score   support\n",
      "\n",
      "           0       0.73      0.73      0.73       204\n",
      "           1       0.42      0.42      0.42        96\n",
      "\n",
      "    accuracy                           0.63       300\n",
      "   macro avg       0.57      0.57      0.57       300\n",
      "weighted avg       0.63      0.63      0.63       300\n",
      "\n"
     ]
    }
   ],
   "source": [
    "print(classification_report(y_test,pred))"
   ]
  },
  {
   "cell_type": "code",
   "execution_count": 90,
   "id": "214431a2-aed7-481c-8e88-66962b3484b0",
   "metadata": {},
   "outputs": [],
   "source": [
    "import numpy as np\n",
    "error_rate = []\n",
    "test_scores = []\n",
    "train_scores = []\n",
    "\n",
    "# Will take some time\n",
    "for i in range(1,40):\n",
    "    \n",
    "    knn = KNeighborsClassifier(n_neighbors=i)\n",
    "    knn.fit(X_train,y_train)\n",
    "    pred_i = knn.predict(X_test)\n",
    "    \n",
    "    error_rate.append(np.mean(pred_i != y_test))\n",
    "    train_scores.append(knn.score(X_train,y_train))\n",
    "    test_scores.append(knn.score(X_test,y_test))"
   ]
  },
  {
   "cell_type": "code",
   "execution_count": 91,
   "id": "6420c04e-6bb9-4def-ae45-69115d129c98",
   "metadata": {},
   "outputs": [
    {
     "data": {
      "text/plain": [
       "Text(0, 0.5, 'Error Rate')"
      ]
     },
     "execution_count": 91,
     "metadata": {},
     "output_type": "execute_result"
    },
    {
     "data": {
      "image/png": "[encoded data removed]",
      "text/plain": [
       "<Figure size 864x576 with 1 Axes>"
      ]
     },
     "metadata": {
      "needs_background": "light"
     },
     "output_type": "display_data"
    }
   ],
   "source": [
    "plt.figure(figsize=(12,8))\n",
    "plt.plot(range(1,40),error_rate,color='blue', linestyle='dashed', marker='o',\n",
    "         markerfacecolor='red', markersize=10)\n",
    "plt.title('Error Rate vs. K Value')\n",
    "plt.xlabel('K')\n",
    "plt.ylabel('Error Rate')"
   ]
  },
  {
   "cell_type": "code",
   "execution_count": 92,
   "id": "6dd89595-1488-4ea4-bbf6-381c202db638",
   "metadata": {},
   "outputs": [
    {
     "name": "stdout",
     "output_type": "stream",
     "text": [
      "Max train score 96.57142857142857 % and k = [1]\n"
     ]
    }
   ],
   "source": [
    "## score that comes from testing on the same datapoints that were used for training\n",
    "max_train_score = max(train_scores)\n",
    "train_scores_ind = [i for i, v in enumerate(train_scores) if v == max_train_score]\n",
    "print('Max train score {} % and k = {}'.format(max_train_score*100,list(map(lambda x: x+1, train_scores_ind))))"
   ]
  },
  {
   "cell_type": "code",
   "execution_count": 93,
   "id": "38c014c4-b630-4c2c-bffe-d93c5c944e31",
   "metadata": {},
   "outputs": [
    {
     "name": "stdout",
     "output_type": "stream",
     "text": [
      "Max test score 69.66666666666667 % and k = [2]\n"
     ]
    }
   ],
   "source": [
    "## score that comes from testing on the datapoints that were split in the beginning to be used for testing solely\n",
    "max_test_score = max(test_scores)\n",
    "test_scores_ind = [i for i, v in enumerate(test_scores) if v == max_test_score]\n",
    "print('Max test score {} % and k = {}'.format(max_test_score*100,list(map(lambda x: x+1, test_scores_ind))))"
   ]
  },
  {
   "cell_type": "code",
   "execution_count": 94,
   "id": "4345b53c-2c29-4e5c-9d08-9b6939c3da1d",
   "metadata": {},
   "outputs": [
    {
     "name": "stdout",
     "output_type": "stream",
     "text": [
      "WITH K=20\n",
      "\n",
      "\n",
      "[[193  11]\n",
      " [ 84  12]]\n",
      "\n",
      "\n",
      "              precision    recall  f1-score   support\n",
      "\n",
      "           0       0.70      0.95      0.80       204\n",
      "           1       0.52      0.12      0.20        96\n",
      "\n",
      "    accuracy                           0.68       300\n",
      "   macro avg       0.61      0.54      0.50       300\n",
      "weighted avg       0.64      0.68      0.61       300\n",
      "\n"
     ]
    }
   ],
   "source": [
    "# NOW WITH K=20\n",
    "knn = KNeighborsClassifier(n_neighbors=20)\n",
    "\n",
    "knn.fit(X_train,y_train)\n",
    "pred = knn.predict(X_test)\n",
    "\n",
    "print('WITH K=20')\n",
    "print('\\n')\n",
    "print(confusion_matrix(y_test,pred))\n",
    "print('\\n')\n",
    "print(classification_report(y_test,pred))"
   ]
  },
  {
   "cell_type": "code",
   "execution_count": 95,
   "id": "6623c98b-7b21-4316-9065-c82ec5f894e2",
   "metadata": {},
   "outputs": [
    {
     "data": {
      "text/plain": [
       "<AxesSubplot:>"
      ]
     },
     "execution_count": 95,
     "metadata": {},
     "output_type": "execute_result"
    },
    {
     "data": {
      "image/png": "[encoded data removed]",
      "text/plain": [
       "<Figure size 1440x576 with 1 Axes>"
      ]
     },
     "metadata": {
      "needs_background": "light"
     },
     "output_type": "display_data"
    }
   ],
   "source": [
    "plt.figure(figsize=(20,8))\n",
    "sns.lineplot(range(1,40),train_scores,marker='*',label='Train Score')\n",
    "sns.lineplot(range(1,40),test_scores,marker='o',label='Test Score')\n",
    "\n"
   ]
  },
  {
   "cell_type": "code",
   "execution_count": 96,
   "id": "f327a663-e6bb-4c27-8d23-87e29b9b2c9f",
   "metadata": {},
   "outputs": [
    {
     "data": {
      "text/plain": [
       "0.6833333333333333"
      ]
     },
     "execution_count": 96,
     "metadata": {},
     "output_type": "execute_result"
    }
   ],
   "source": [
    "#Setup a knn classifier with k neighbors\n",
    "knn = KNeighborsClassifier(20)\n",
    "\n",
    "knn.fit(X_train,y_train)\n",
    "knn.score(X_test,y_test)"
   ]
  },
  {
   "cell_type": "code",
   "execution_count": 97,
   "id": "5b2bfee2-330f-4e30-af8c-057bf4aaf68a",
   "metadata": {},
   "outputs": [],
   "source": [
    "#import confusion_matrix\n",
    "from sklearn.metrics import confusion_matrix\n",
    "\n"
   ]
  },
  {
   "cell_type": "code",
   "execution_count": 98,
   "id": "bdc5bf08-b53a-4eb4-8308-53a75cacc2d1",
   "metadata": {},
   "outputs": [
    {
     "data": {
      "text/html": [
       "<div>\n",
       "<style scoped>\n",
       "    .dataframe tbody tr th:only-of-type {\n",
       "        vertical-align: middle;\n",
       "    }\n",
       "\n",
       "    .dataframe tbody tr th {\n",
       "        vertical-align: top;\n",
       "    }\n",
       "\n",
       "    .dataframe thead th {\n",
       "        text-align: right;\n",
       "    }\n",
       "</style>\n",
       "<table border=\"1\" class=\"dataframe\">\n",
       "  <thead>\n",
       "    <tr style=\"text-align: right;\">\n",
       "      <th>Predicted</th>\n",
       "      <th>0</th>\n",
       "      <th>1</th>\n",
       "      <th>All</th>\n",
       "    </tr>\n",
       "    <tr>\n",
       "      <th>True</th>\n",
       "      <th></th>\n",
       "      <th></th>\n",
       "      <th></th>\n",
       "    </tr>\n",
       "  </thead>\n",
       "  <tbody>\n",
       "    <tr>\n",
       "      <th>0</th>\n",
       "      <td>193</td>\n",
       "      <td>11</td>\n",
       "      <td>204</td>\n",
       "    </tr>\n",
       "    <tr>\n",
       "      <th>1</th>\n",
       "      <td>84</td>\n",
       "      <td>12</td>\n",
       "      <td>96</td>\n",
       "    </tr>\n",
       "    <tr>\n",
       "      <th>All</th>\n",
       "      <td>277</td>\n",
       "      <td>23</td>\n",
       "      <td>300</td>\n",
       "    </tr>\n",
       "  </tbody>\n",
       "</table>\n",
       "</div>"
      ],
      "text/plain": [
       "Predicted    0   1  All\n",
       "True                   \n",
       "0          193  11  204\n",
       "1           84  12   96\n",
       "All        277  23  300"
      ]
     },
     "execution_count": 98,
     "metadata": {},
     "output_type": "execute_result"
    }
   ],
   "source": [
    "#let us get the predictions using the classifier we had fit above\n",
    "y_pred = knn.predict(X_test)\n",
    "confusion_matrix(y_test,y_pred)\n",
    "pd.crosstab(y_test, y_pred, rownames=['True'], colnames=['Predicted'], margins=True)\n",
    "\n"
   ]
  },
  {
   "cell_type": "code",
   "execution_count": 99,
   "id": "9abfe893-fa42-4089-8c4a-53c208d9a6d7",
   "metadata": {},
   "outputs": [
    {
     "data": {
      "text/plain": [
       "Text(0.5, 15.0, 'Predicted label')"
      ]
     },
     "execution_count": 99,
     "metadata": {},
     "output_type": "execute_result"
    },
    {
     "data": {
      "image/png": "[encoded data removed]",
      "text/plain": [
       "<Figure size 432x288 with 2 Axes>"
      ]
     },
     "metadata": {
      "needs_background": "light"
     },
     "output_type": "display_data"
    }
   ],
   "source": [
    "from sklearn import metrics\n",
    "\n",
    "cnf_matrix = metrics.confusion_matrix(y_test, y_pred)\n",
    "p = sns.heatmap(pd.DataFrame(cnf_matrix), annot=True,fmt='g')\n",
    "plt.title('Confusion matrix', y=1.1)\n",
    "plt.ylabel('Actual label')\n",
    "plt.xlabel('Predicted label')\n"
   ]
  },
  {
   "cell_type": "code",
   "execution_count": 100,
   "id": "2160a827-bd7f-4d2e-a3c6-d672e8fd2de5",
   "metadata": {},
   "outputs": [
    {
     "data": {
      "text/plain": [
       "0.5217391304347826"
      ]
     },
     "execution_count": 100,
     "metadata": {},
     "output_type": "execute_result"
    }
   ],
   "source": [
    "12/(12+11)"
   ]
  },
  {
   "cell_type": "code",
   "execution_count": 101,
   "id": "14d6dc59-5474-44de-a3c3-df867445c311",
   "metadata": {},
   "outputs": [
    {
     "name": "stdout",
     "output_type": "stream",
     "text": [
      "              precision    recall  f1-score   support\n",
      "\n",
      "           0       0.70      0.95      0.80       204\n",
      "           1       0.52      0.12      0.20        96\n",
      "\n",
      "    accuracy                           0.68       300\n",
      "   macro avg       0.61      0.54      0.50       300\n",
      "weighted avg       0.64      0.68      0.61       300\n",
      "\n"
     ]
    }
   ],
   "source": [
    "#import classification_report\n",
    "from sklearn.metrics import classification_report\n",
    "print(classification_report(y_test,y_pred))"
   ]
  },
  {
   "cell_type": "code",
   "execution_count": 102,
   "id": "46fa1d46-a133-4acf-87f0-a665c8048801",
   "metadata": {},
   "outputs": [
    {
     "name": "stdout",
     "output_type": "stream",
     "text": [
      "Accuracy of the model : 0.683\n"
     ]
    }
   ],
   "source": [
    "#Import scikit-learn metrics module for accuracy calculation\n",
    "from sklearn import metrics\n",
    "\n",
    "# Printing the Overall Accuracy of the model\n",
    "print(\"Accuracy of the model : {0:0.3f}\".format(metrics.accuracy_score(y_test, y_pred)))\n",
    "\n"
   ]
  },
  {
   "cell_type": "code",
   "execution_count": 103,
   "id": "27d78ff7-47e2-43f9-b757-983f21fcffac",
   "metadata": {},
   "outputs": [],
   "source": [
    "y_pred_proba = knn.predict_proba(X_test)[:,1]\n",
    "fpr, tpr, thresholds = roc_curve(y_test, y_pred_proba)"
   ]
  },
  {
   "cell_type": "code",
   "execution_count": 104,
   "id": "b2835418-aab5-4ef1-a0b7-a566d611be52",
   "metadata": {},
   "outputs": [
    {
     "data": {
      "image/png": "[encoded data removed]",
      "text/plain": [
       "<Figure size 576x432 with 1 Axes>"
      ]
     },
     "metadata": {
      "needs_background": "light"
     },
     "output_type": "display_data"
    }
   ],
   "source": [
    "plt.figure(figsize=(8,6))\n",
    "plt.plot([0,1],[0,1],'k--')\n",
    "plt.plot(fpr,tpr, label='Knn')\n",
    "plt.xlabel('fpr')\n",
    "plt.ylabel('tpr')\n",
    "plt.title('Knn(n_neighbors=11) ROC curve')\n",
    "plt.show()"
   ]
  },
  {
   "cell_type": "code",
   "execution_count": 105,
   "id": "a412f8cd-6f7d-4be5-8115-f2cdd974ce7f",
   "metadata": {},
   "outputs": [
    {
     "data": {
      "text/plain": [
       "0.6520118464052287"
      ]
     },
     "execution_count": 105,
     "metadata": {},
     "output_type": "execute_result"
    }
   ],
   "source": [
    "#Area under ROC curve\n",
    "from sklearn.metrics import roc_auc_score\n",
    "roc_auc_score(y_test,y_pred_proba)"
   ]
  },
  {
   "cell_type": "markdown",
   "id": "2148f319-0b04-4642-b463-cd29d950ebb1",
   "metadata": {},
   "source": [
    "#### **Provide the answers for the below points:**\n",
    "\n",
    "1. Explain your intuition behind the features used for modeling.\n",
    "- Dropped Id Columns, Tried Both Keeping ''Principal_loan_amount'' & Removing also, Removing It Increases Accuracy,Keeping It Just Increases The Calculation Part It's Of No Use For Our Prediction Part. \n",
    "\n",
    "2. Are you creating new derived features? If yes explain the intuition behind them.\n",
    "- No.\n",
    "\n",
    "3. Are there missing values? If yes how you plan to handle it.\n",
    "- Yes, Dropped The Columns Containing Missing Values.\n",
    "\n",
    "4. How categorical features are handled for modeling.\n",
    "- Applied Label Encoder.\n",
    "\n",
    "5. Describe the features correlation using correlation matrix. Tell us about few correlated feature & share your understanding on why they are correlated.\n",
    "- Marital_status & Gender (Strong Positive Correlation 0.75), Principal_loan_amount & Months_loan_taken_for (Strong Positive Correlation 0.62).\n",
    "\n",
    "6. Do you plan to drop the correlated feature? If yes then how.\n",
    "- Tried Both Keeping And Removing, Gender, Marital, Principal_loan_amount, Months_loan_taken_for, Removing It Increases Accuracy,Keeping It Just Increases The Calculation Part It's Of No Use For Our Prediction Part. \n",
    "\n",
    "7. Which ML algorithm you plan to use for modeling.\n",
    "- Logistic Regression, KNN."
   ]
  }
 ],
 "metadata": {
  "kernelspec": {
   "display_name": "Python 3 (ipykernel)",
   "language": "python",
   "name": "python3"
  },
  "language_info": {
   "codemirror_mode": {
    "name": "ipython",
    "version": 3
   },
   "file_extension": ".py",
   "mimetype": "text/x-python",
   "name": "python",
   "nbconvert_exporter": "python",
   "pygments_lexer": "ipython3",
   "version": "3.9.7"
  }
 },
 "nbformat": 4,
 "nbformat_minor": 5
}
