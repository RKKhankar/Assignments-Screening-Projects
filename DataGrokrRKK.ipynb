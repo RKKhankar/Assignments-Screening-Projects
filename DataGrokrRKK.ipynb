{
  "nbformat": 4,
  "nbformat_minor": 0,
  "metadata": {
    "colab": {
      "provenance": [],
      "collapsed_sections": [],
      "mount_file_id": "1nGDDWS2cmrIPQGnnY2CRRPooRBxKFLua",
      "authorship_tag": "ABX9TyOacBjADYqo29X/choKkmjO",
      "include_colab_link": true
    },
    "kernelspec": {
      "name": "python3",
      "display_name": "Python 3"
    },
    "language_info": {
      "name": "python"
    },
    "accelerator": "GPU"
  },
  "cells": [
    {
      "cell_type": "markdown",
      "metadata": {
        "id": "view-in-github",
        "colab_type": "text"
      },
      "source": [
        "<a href=\"https://colab.research.google.com/github/RKKhankar/Assignments-Screening-Projects/blob/main/DataGrokrRKK.ipynb\" target=\"_parent\"><img src=\"https://colab.research.google.com/assets/colab-badge.svg\" alt=\"Open In Colab\"/></a>"
      ]
    },
    {
      "cell_type": "code",
      "source": [
        "!apt-get update -y"
      ],
      "metadata": {
        "colab": {
          "base_uri": "https://localhost:8080/"
        },
        "id": "DjyhGB-UJFNk",
        "outputId": "15ab48e7-82eb-4f9f-d934-7fd1e47db33b"
      },
      "execution_count": 1,
      "outputs": [
        {
          "output_type": "stream",
          "name": "stdout",
          "text": [
            "\r0% [Working]\r            \rGet:1 http://security.ubuntu.com/ubuntu bionic-security InRelease [88.7 kB]\n",
            "\r0% [Connecting to archive.ubuntu.com (185.125.190.39)] [1 InRelease 14.2 kB/88.\r                                                                               \rGet:2 https://cloud.r-project.org/bin/linux/ubuntu bionic-cran40/ InRelease [3,626 B]\n",
            "\r0% [Waiting for headers] [1 InRelease 20.0 kB/88.7 kB 23%] [2 InRelease 3,626 B\r0% [Waiting for headers] [1 InRelease 31.5 kB/88.7 kB 36%] [Waiting for headers\r0% [2 InRelease gpgv 3,626 B] [Waiting for headers] [1 InRelease 31.5 kB/88.7 k\r0% [2 InRelease gpgv 3,626 B] [Waiting for headers] [Waiting for headers] [Wait\r                                                                               \rIgn:3 https://developer.download.nvidia.com/compute/machine-learning/repos/ubuntu1804/x86_64  InRelease\n",
            "\r0% [2 InRelease gpgv 3,626 B] [Waiting for headers] [Waiting for headers] [Wait\r                                                                               \rHit:4 http://archive.ubuntu.com/ubuntu bionic InRelease\n",
            "\r                                                                               \rGet:5 http://ppa.launchpad.net/c2d4u.team/c2d4u4.0+/ubuntu bionic InRelease [15.9 kB]\n",
            "\r0% [2 InRelease gpgv 3,626 B] [Waiting for headers] [5 InRelease 14.2 kB/15.9 k\r                                                                               \rHit:6 https://developer.download.nvidia.com/compute/cuda/repos/ubuntu1804/x86_64  InRelease\n",
            "\r0% [2 InRelease gpgv 3,626 B] [Waiting for headers] [5 InRelease 14.2 kB/15.9 k\r                                                                               \rHit:7 https://developer.download.nvidia.com/compute/machine-learning/repos/ubuntu1804/x86_64  Release\n",
            "Get:8 http://archive.ubuntu.com/ubuntu bionic-updates InRelease [88.7 kB]\n",
            "Hit:9 http://ppa.launchpad.net/cran/libgit2/ubuntu bionic InRelease\n",
            "Get:10 http://security.ubuntu.com/ubuntu bionic-security/universe amd64 Packages [1,551 kB]\n",
            "Get:11 http://archive.ubuntu.com/ubuntu bionic-backports InRelease [83.3 kB]\n",
            "Get:12 http://ppa.launchpad.net/deadsnakes/ppa/ubuntu bionic InRelease [15.9 kB]\n",
            "Get:13 http://security.ubuntu.com/ubuntu bionic-security/main amd64 Packages [3,020 kB]\n",
            "Get:14 http://security.ubuntu.com/ubuntu bionic-security/restricted amd64 Packages [1,188 kB]\n",
            "Hit:15 http://ppa.launchpad.net/graphics-drivers/ppa/ubuntu bionic InRelease\n",
            "Get:17 http://ppa.launchpad.net/c2d4u.team/c2d4u4.0+/ubuntu bionic/main Sources [2,164 kB]\n",
            "Get:18 http://archive.ubuntu.com/ubuntu bionic-updates/universe amd64 Packages [2,329 kB]\n",
            "Get:19 http://archive.ubuntu.com/ubuntu bionic-updates/restricted amd64 Packages [1,230 kB]\n",
            "Get:20 http://archive.ubuntu.com/ubuntu bionic-updates/main amd64 Packages [3,452 kB]\n",
            "Get:21 http://ppa.launchpad.net/c2d4u.team/c2d4u4.0+/ubuntu bionic/main amd64 Packages [1,109 kB]\n",
            "Get:22 http://ppa.launchpad.net/deadsnakes/ppa/ubuntu bionic/main amd64 Packages [45.3 kB]\n",
            "Fetched 16.4 MB in 3s (4,924 kB/s)\n",
            "Reading package lists... Done\n"
          ]
        }
      ]
    },
    {
      "cell_type": "code",
      "source": [
        "from google.colab import drive\n",
        "drive.mount('/content/drive')"
      ],
      "metadata": {
        "colab": {
          "base_uri": "https://localhost:8080/"
        },
        "id": "Jsq73LnqJ7nf",
        "outputId": "26eec2f8-4cb8-4a5e-9efd-21ed7ee5058d"
      },
      "execution_count": 2,
      "outputs": [
        {
          "output_type": "stream",
          "name": "stdout",
          "text": [
            "Mounted at /content/drive\n"
          ]
        }
      ]
    },
    {
      "cell_type": "code",
      "execution_count": 3,
      "metadata": {
        "id": "xn0904uiIPxk"
      },
      "outputs": [],
      "source": [
        "!apt-get install openjdk-8-jdk-headless -qq > /dev/null"
      ]
    },
    {
      "cell_type": "code",
      "source": [
        "!wget -q https://archive.apache.org/dist/spark/spark-3.1.2/spark-3.1.2-bin-hadoop2.7.tgz"
      ],
      "metadata": {
        "id": "Fq7Ps8pUIZBC"
      },
      "execution_count": 4,
      "outputs": []
    },
    {
      "cell_type": "code",
      "source": [
        "!tar xf spark-3.1.2-bin-hadoop2.7.tgz"
      ],
      "metadata": {
        "id": "TrM8X69wIhuZ"
      },
      "execution_count": 5,
      "outputs": []
    },
    {
      "cell_type": "code",
      "source": [
        "import os\n",
        "os.environ[\"JAVA_HOME\"] = \"/usr/lib/jvm/java-8-openjdk-amd64\"\n",
        "os.environ[\"SPARK_HOME\"] = \"/content/spark-3.1.2-bin-hadoop2.7\""
      ],
      "metadata": {
        "id": "9wot_GquJHyY"
      },
      "execution_count": 6,
      "outputs": []
    },
    {
      "cell_type": "code",
      "source": [
        "!pip install -q findspark"
      ],
      "metadata": {
        "id": "frJuXeueJM2G"
      },
      "execution_count": 7,
      "outputs": []
    },
    {
      "cell_type": "code",
      "source": [
        "import findspark\n",
        "findspark.init()"
      ],
      "metadata": {
        "id": "VDg7TyQcQoOx"
      },
      "execution_count": 8,
      "outputs": []
    },
    {
      "cell_type": "code",
      "source": [
        "from pyspark.sql import SparkSession\n",
        "spark = (SparkSession\n",
        "  .builder\n",
        "  .appName(\"<app_name>\")\n",
        "  .getOrCreate())"
      ],
      "metadata": {
        "id": "fN2RjikYQt_U"
      },
      "execution_count": 9,
      "outputs": []
    },
    {
      "cell_type": "code",
      "source": [
        "chess_wc_history_game_info = spark.read.option(\n",
        "  'header', 'true').csv(\"/content/drive/MyDrive/DataGROKR/chess/chess_wc_history_game_info.csv\")"
      ],
      "metadata": {
        "id": "ckKZn3pCQ70o"
      },
      "execution_count": 10,
      "outputs": []
    },
    {
      "cell_type": "code",
      "source": [
        "chess_wc_history_moves = spark.read.option(\n",
        "  'header', 'true').csv(\"/content/drive/MyDrive/DataGROKR/chess/chess_wc_history_moves.csv\")"
      ],
      "metadata": {
        "id": "2EuYQZLvRclk"
      },
      "execution_count": 11,
      "outputs": []
    },
    {
      "cell_type": "code",
      "source": [
        "eco_codes = spark.read.option(\n",
        "  'header', 'true').csv(\"/content/drive/MyDrive/DataGROKR/chess/eco_codes.csv\")"
      ],
      "metadata": {
        "id": "eM9skTR3RhU7"
      },
      "execution_count": 12,
      "outputs": []
    },
    {
      "cell_type": "code",
      "source": [
        "chess_wc_history_game_info.show(10)"
      ],
      "metadata": {
        "colab": {
          "base_uri": "https://localhost:8080/"
        },
        "id": "ujiIApYuRri0",
        "outputId": "e64108fa-af13-44d8-ffec-65b7fd9ebdcb"
      },
      "execution_count": 92,
      "outputs": [
        {
          "output_type": "stream",
          "name": "stdout",
          "text": [
            "+--------------------+----------+--------+---------+-----------+-----+----------------+----------------+-------+---------+---------+-----------+-----------+---------+----------+----------------+---------+---------------------+---+--------------------+---------------+\n",
            "|             game_id|game_order|   event|     site|date_played|round|           white|           black| result|white_elo|black_elo|white_title|black_title|   winner|winner_elo|           loser|loser_elo|winner_loser_elo_diff|eco|        date_created|tournament_name|\n",
            "+--------------------+----------+--------+---------+-----------+-----+----------------+----------------+-------+---------+---------+-----------+-----------+---------+----------+----------------+---------+---------------------+---+--------------------+---------------+\n",
            "|86e0b7f5-7b94-4ae...|         1|WCh 2021|Dubai UAE| 2021.11.26|    1|Nepomniachtchi,I|       Carlsen,M|1/2-1/2|     2782|     2855|       null|       null|     draw|      null|            draw|     null|                    0|C88|2022-07-22T22:33:...| WorldChamp2021|\n",
            "|dc4a10ab-54cf-49d...|         2|WCh 2021|Dubai UAE| 2021.11.27|    2|       Carlsen,M|Nepomniachtchi,I|1/2-1/2|     2855|     2782|       null|       null|     draw|      null|            draw|     null|                    0|E06|2022-07-22T22:33:...| WorldChamp2021|\n",
            "|f042ca37-8899-488...|         3|WCh 2021|Dubai UAE| 2021.11.28|    3|Nepomniachtchi,I|       Carlsen,M|1/2-1/2|     2782|     2855|       null|       null|     draw|      null|            draw|     null|                    0|C88|2022-07-22T22:33:...| WorldChamp2021|\n",
            "|f70e4bbc-21e3-46f...|         4|WCh 2021|Dubai UAE| 2021.11.30|    4|       Carlsen,M|Nepomniachtchi,I|1/2-1/2|     2855|     2782|       null|       null|     draw|      null|            draw|     null|                    0|C42|2022-07-22T22:33:...| WorldChamp2021|\n",
            "|c941c323-308a-4c8...|         5|WCh 2021|Dubai UAE| 2021.12.01|    5|Nepomniachtchi,I|       Carlsen,M|1/2-1/2|     2782|     2855|       null|       null|     draw|      null|            draw|     null|                    0|C88|2022-07-22T22:33:...| WorldChamp2021|\n",
            "|58e83255-93bb-4d5...|         6|WCh 2021|Dubai UAE| 2021.12.03|    6|       Carlsen,M|Nepomniachtchi,I|    1-0|     2855|     2782|       null|       null|Carlsen,M|      2855|Nepomniachtchi,I|     2782|                   73|D02|2022-07-22T22:33:...| WorldChamp2021|\n",
            "|29181d93-73f4-4fb...|         7|WCh 2021|Dubai UAE| 2021.12.04|    7|Nepomniachtchi,I|       Carlsen,M|1/2-1/2|     2782|     2855|       null|       null|     draw|      null|            draw|     null|                    0|C88|2022-07-22T22:33:...| WorldChamp2021|\n",
            "|8a4ccd8c-d437-429...|         8|WCh 2021|Dubai UAE| 2021.12.05|    8|       Carlsen,M|Nepomniachtchi,I|    1-0|     2855|     2782|       null|       null|Carlsen,M|      2855|Nepomniachtchi,I|     2782|                   73|C43|2022-07-22T22:33:...| WorldChamp2021|\n",
            "|55a122db-27d1-495...|         9|WCh 2021|Dubai UAE| 2021.12.07|    9|Nepomniachtchi,I|       Carlsen,M|    0-1|     2782|     2855|       null|       null|Carlsen,M|      2855|Nepomniachtchi,I|     2782|                   73|A13|2022-07-22T22:33:...| WorldChamp2021|\n",
            "|1f900d18-5ea3-4f4...|        10|WCh 2021|Dubai UAE| 2021.12.08|   10|       Carlsen,M|Nepomniachtchi,I|1/2-1/2|     2855|     2782|       null|       null|     draw|      null|            draw|     null|                    0|C42|2022-07-22T22:33:...| WorldChamp2021|\n",
            "+--------------------+----------+--------+---------+-----------+-----+----------------+----------------+-------+---------+---------+-----------+-----------+---------+----------+----------------+---------+---------------------+---+--------------------+---------------+\n",
            "only showing top 10 rows\n",
            "\n"
          ]
        }
      ]
    },
    {
      "cell_type": "code",
      "source": [
        "chess_wc_history_moves.show(10)\n"
      ],
      "metadata": {
        "colab": {
          "base_uri": "https://localhost:8080/"
        },
        "id": "2dWZh17ISGFO",
        "outputId": "ae9acbf8-8b8d-452b-94f6-af1c0111c8cc"
      },
      "execution_count": 14,
      "outputs": [
        {
          "output_type": "stream",
          "name": "stdout",
          "text": [
            "+--------------------+-------+------------+----------------+--------+----+-----------+---------+-----+-----+--------------------+--------+-------------+--------------+----------------------+------------+------------------------+-----------+-----------+----------------+----------------+-----------------+-----------------+------------------+------------------+------------------+------------------+----------------+----------------+------------------------+------------------------+--------------------+--------------------+--------------------+--------------------+--------------------+--------------------+--------------------+--------------------+--------------------+--------------------+--------------------+--------------------+--------------------+--------------------+--------------------+--------------------+--------------------+--------------------+--------------------+--------------------+--------------------+--------------------+--------------------+--------------------+--------------------+--------------------+--------------------+--------------------+--------------------+--------------------+--------------------+--------------------+--------------------+\n",
            "|             game_id|move_no|move_no_pair|          player|notation|move|from_square|to_square|piece|color|                 fen|is_check|is_check_mate|is_fifty_moves|is_fivefold_repetition|is_game_over|is_insufficient_material|white_count|black_count|white_pawn_count|black_pawn_count|white_queen_count|black_queen_count|white_bishop_count|black_bishop_count|white_knight_count|black_knight_count|white_rook_count|black_rook_count|captured_score_for_white|captured_score_for_black|fen_row1_white_count|fen_row2_white_count|fen_row3_white_count|fen_row4_white_count|fen_row5_white_count|fen_row6_white_count|fen_row7_white_count|fen_row8_white_count|fen_row1_white_value|fen_row2_white_value|fen_row3_white_value|fen_row4_white_value|fen_row5_white_value|fen_row6_white_value|fen_row7_white_value|fen_row8_white_value|fen_row1_black_count|fen_row2_black_count|fen_row3_black_count|fen_row4_black_count|fen_row5_black_count|fen_row6_black_count|fen_row7_black_count|fen_row8_black_count|fen_row1_black_value|fen_row2_black_value|fen_row3_black_value|fen_row4_black_value|fen_row5_black_value|fen_row6_black_value|fen_row7_black_value|fen_row8_black_value|       move_sequence|\n",
            "+--------------------+-------+------------+----------------+--------+----+-----------+---------+-----+-----+--------------------+--------+-------------+--------------+----------------------+------------+------------------------+-----------+-----------+----------------+----------------+-----------------+-----------------+------------------+------------------+------------------+------------------+----------------+----------------+------------------------+------------------------+--------------------+--------------------+--------------------+--------------------+--------------------+--------------------+--------------------+--------------------+--------------------+--------------------+--------------------+--------------------+--------------------+--------------------+--------------------+--------------------+--------------------+--------------------+--------------------+--------------------+--------------------+--------------------+--------------------+--------------------+--------------------+--------------------+--------------------+--------------------+--------------------+--------------------+--------------------+--------------------+--------------------+\n",
            "|86e0b7f5-7b94-4ae...|      1|           1|Nepomniachtchi,I|      e4|e2e4|         e2|       e4|    P|White|rnbqkbnr/pppppppp...|       0|            0|             0|                     0|           0|                       0|         16|         16|               8|               8|                1|                1|                 2|                 2|                 2|                 2|               2|               2|                       0|                       0|                   8|                   7|                   0|                   1|                   0|                   0|                   0|                   0|                  31|                   7|                   0|                   1|                   0|                   0|                   0|                   0|                   0|                   0|                   0|                   0|                   0|                   0|                   8|                   8|                   0|                   0|                   0|                   0|                   0|                   0|                   8|                  31|                  e4|\n",
            "|86e0b7f5-7b94-4ae...|      2|           1|       Carlsen,M|      e5|e7e5|         e7|       e5|    P|Black|rnbqkbnr/pppp1ppp...|       0|            0|             0|                     0|           0|                       0|         16|         16|               8|               8|                1|                1|                 2|                 2|                 2|                 2|               2|               2|                       0|                       0|                   8|                   7|                   0|                   1|                   0|                   0|                   0|                   0|                  31|                   7|                   0|                   1|                   0|                   0|                   0|                   0|                   0|                   0|                   0|                   0|                   1|                   0|                   7|                   8|                   0|                   0|                   0|                   0|                   1|                   0|                   7|                  31|               e4|e5|\n",
            "|86e0b7f5-7b94-4ae...|      3|           2|Nepomniachtchi,I|     Nf3|g1f3|         g1|       f3|    N|White|rnbqkbnr/pppp1ppp...|       0|            0|             0|                     0|           0|                       0|         16|         16|               8|               8|                1|                1|                 2|                 2|                 2|                 2|               2|               2|                       0|                       0|                   7|                   7|                   1|                   1|                   0|                   0|                   0|                   0|                  28|                   7|                   3|                   1|                   0|                   0|                   0|                   0|                   0|                   0|                   0|                   0|                   1|                   0|                   7|                   8|                   0|                   0|                   0|                   0|                   1|                   0|                   7|                  31|           e4|e5|Nf3|\n",
            "|86e0b7f5-7b94-4ae...|      4|           2|       Carlsen,M|     Nc6|b8c6|         b8|       c6|    N|Black|r1bqkbnr/pppp1ppp...|       0|            0|             0|                     0|           0|                       0|         16|         16|               8|               8|                1|                1|                 2|                 2|                 2|                 2|               2|               2|                       0|                       0|                   7|                   7|                   1|                   1|                   0|                   0|                   0|                   0|                  28|                   7|                   3|                   1|                   0|                   0|                   0|                   0|                   0|                   0|                   0|                   0|                   1|                   1|                   7|                   7|                   0|                   0|                   0|                   0|                   1|                   3|                   7|                  28|       e4|e5|Nf3|Nc6|\n",
            "|86e0b7f5-7b94-4ae...|      5|           3|Nepomniachtchi,I|     Bb5|f1b5|         f1|       b5|    B|White|r1bqkbnr/pppp1ppp...|       0|            0|             0|                     0|           0|                       0|         16|         16|               8|               8|                1|                1|                 2|                 2|                 2|                 2|               2|               2|                       0|                       0|                   6|                   7|                   1|                   1|                   1|                   0|                   0|                   0|                  25|                   7|                   3|                   1|                   3|                   0|                   0|                   0|                   0|                   0|                   0|                   0|                   1|                   1|                   7|                   7|                   0|                   0|                   0|                   0|                   1|                   3|                   7|                  28|   e4|e5|Nf3|Nc6|Bb5|\n",
            "|86e0b7f5-7b94-4ae...|      6|           3|       Carlsen,M|      a6|a7a6|         a7|       a6|    P|Black|r1bqkbnr/1ppp1ppp...|       0|            0|             0|                     0|           0|                       0|         16|         16|               8|               8|                1|                1|                 2|                 2|                 2|                 2|               2|               2|                       0|                       0|                   6|                   7|                   1|                   1|                   1|                   0|                   0|                   0|                  25|                   7|                   3|                   1|                   3|                   0|                   0|                   0|                   0|                   0|                   0|                   0|                   1|                   2|                   6|                   7|                   0|                   0|                   0|                   0|                   1|                   4|                   6|                  28|e4|e5|Nf3|Nc6|Bb5|a6|\n",
            "|86e0b7f5-7b94-4ae...|      7|           4|Nepomniachtchi,I|     Ba4|b5a4|         b5|       a4|    B|White|r1bqkbnr/1ppp1ppp...|       0|            0|             0|                     0|           0|                       0|         16|         16|               8|               8|                1|                1|                 2|                 2|                 2|                 2|               2|               2|                       0|                       0|                   6|                   7|                   1|                   2|                   0|                   0|                   0|                   0|                  25|                   7|                   3|                   4|                   0|                   0|                   0|                   0|                   0|                   0|                   0|                   0|                   1|                   2|                   6|                   7|                   0|                   0|                   0|                   0|                   1|                   4|                   6|                  28|e4|e5|Nf3|Nc6|Bb5...|\n",
            "|86e0b7f5-7b94-4ae...|      8|           4|       Carlsen,M|     Nf6|g8f6|         g8|       f6|    N|Black|r1bqkb1r/1ppp1ppp...|       0|            0|             0|                     0|           0|                       0|         16|         16|               8|               8|                1|                1|                 2|                 2|                 2|                 2|               2|               2|                       0|                       0|                   6|                   7|                   1|                   2|                   0|                   0|                   0|                   0|                  25|                   7|                   3|                   4|                   0|                   0|                   0|                   0|                   0|                   0|                   0|                   0|                   1|                   3|                   6|                   6|                   0|                   0|                   0|                   0|                   1|                   7|                   6|                  25|e4|e5|Nf3|Nc6|Bb5...|\n",
            "|86e0b7f5-7b94-4ae...|      9|           5|Nepomniachtchi,I|     O-O|e1g1|         e1|       g1|    K|White|r1bqkb1r/1ppp1ppp...|       0|            0|             0|                     0|           0|                       0|         16|         16|               8|               8|                1|                1|                 2|                 2|                 2|                 2|               2|               2|                       0|                       0|                   6|                   7|                   1|                   2|                   0|                   0|                   0|                   0|                  25|                   7|                   3|                   4|                   0|                   0|                   0|                   0|                   0|                   0|                   0|                   0|                   1|                   3|                   6|                   6|                   0|                   0|                   0|                   0|                   1|                   7|                   6|                  25|e4|e5|Nf3|Nc6|Bb5...|\n",
            "|86e0b7f5-7b94-4ae...|     10|           5|       Carlsen,M|     Be7|f8e7|         f8|       e7|    B|Black|r1bqk2r/1pppbppp/...|       0|            0|             0|                     0|           0|                       0|         16|         16|               8|               8|                1|                1|                 2|                 2|                 2|                 2|               2|               2|                       0|                       0|                   6|                   7|                   1|                   2|                   0|                   0|                   0|                   0|                  25|                   7|                   3|                   4|                   0|                   0|                   0|                   0|                   0|                   0|                   0|                   0|                   1|                   3|                   7|                   5|                   0|                   0|                   0|                   0|                   1|                   7|                   9|                  22|e4|e5|Nf3|Nc6|Bb5...|\n",
            "+--------------------+-------+------------+----------------+--------+----+-----------+---------+-----+-----+--------------------+--------+-------------+--------------+----------------------+------------+------------------------+-----------+-----------+----------------+----------------+-----------------+-----------------+------------------+------------------+------------------+------------------+----------------+----------------+------------------------+------------------------+--------------------+--------------------+--------------------+--------------------+--------------------+--------------------+--------------------+--------------------+--------------------+--------------------+--------------------+--------------------+--------------------+--------------------+--------------------+--------------------+--------------------+--------------------+--------------------+--------------------+--------------------+--------------------+--------------------+--------------------+--------------------+--------------------+--------------------+--------------------+--------------------+--------------------+--------------------+--------------------+--------------------+\n",
            "only showing top 10 rows\n",
            "\n"
          ]
        }
      ]
    },
    {
      "cell_type": "code",
      "source": [
        "eco_codes.show(5)"
      ],
      "metadata": {
        "colab": {
          "base_uri": "https://localhost:8080/"
        },
        "id": "Ir1JnN_CSF6q",
        "outputId": "8934d2dc-b141-453d-b968-c0cc32bfc3ab"
      },
      "execution_count": 93,
      "outputs": [
        {
          "output_type": "stream",
          "name": "stdout",
          "text": [
            "+---+--------------------+------------------+--------+---------+\n",
            "|eco|            eco_name|       eco_example|eco_type|eco_group|\n",
            "+---+--------------------+------------------+--------+---------+\n",
            "|A00|    Uncommon Opening|1 g4, a3, h3, etc.|       A|    Flank|\n",
            "|A01|Nimzovich-Larsen ...|              1 b3|       A|    Flank|\n",
            "|A02|      Bird's Opening|              1 f4|       A|    Flank|\n",
            "|A03|      Bird's Opening|           1 f4 d5|       A|    Flank|\n",
            "|A04|        Reti Opening|             1 Nf3|       A|    Flank|\n",
            "+---+--------------------+------------------+--------+---------+\n",
            "only showing top 5 rows\n",
            "\n"
          ]
        }
      ]
    },
    {
      "cell_type": "code",
      "source": [
        "import pandas as pd\n",
        "\n",
        "chess_wc_history_game_info_pd = chess_wc_history_game_info.toPandas()\n",
        "\n",
        "chess_wc_history_moves_pd = chess_wc_history_moves.toPandas()\n",
        "\n",
        "eco_codes_pd = eco_codes.toPandas()"
      ],
      "metadata": {
        "id": "iLWJKISnSUth"
      },
      "execution_count": 16,
      "outputs": []
    },
    {
      "cell_type": "markdown",
      "source": [
        "1. List of Winners of Each World champions Trophy Hint: Total Result of all rounds of Tournament for that player is considered as that player's Score/Result.\n",
        "\n",
        "Result attributes: winner, tournament_name\n"
      ],
      "metadata": {
        "id": "9FsfG0cKSmE4"
      }
    },
    {
      "cell_type": "code",
      "source": [
        "chess_wc_history_game_info.filter(chess_wc_history_game_info.result == '1-0').show()"
      ],
      "metadata": {
        "colab": {
          "base_uri": "https://localhost:8080/"
        },
        "id": "i8nUK3EaS-PU",
        "outputId": "75389b24-8042-4d45-c1a6-de09b773f76f"
      },
      "execution_count": 17,
      "outputs": [
        {
          "output_type": "stream",
          "name": "stdout",
          "text": [
            "+--------------------+----------+------------------+---------------+-----------+-----+------------------+------------------+------+---------+---------+-----------+-----------+------------------+----------+------------------+---------+---------------------+---+--------------------+---------------+\n",
            "|             game_id|game_order|             event|           site|date_played|round|             white|             black|result|white_elo|black_elo|white_title|black_title|            winner|winner_elo|             loser|loser_elo|winner_loser_elo_diff|eco|        date_created|tournament_name|\n",
            "+--------------------+----------+------------------+---------------+-----------+-----+------------------+------------------+------+---------+---------+-----------+-----------+------------------+----------+------------------+---------+---------------------+---+--------------------+---------------+\n",
            "|58e83255-93bb-4d5...|         6|          WCh 2021|      Dubai UAE| 2021.12.03|    6|         Carlsen,M|  Nepomniachtchi,I|   1-0|     2855|     2782|       null|       null|         Carlsen,M|      2855|  Nepomniachtchi,I|     2782|                   73|D02|2022-07-22T22:33:...| WorldChamp2021|\n",
            "|8a4ccd8c-d437-429...|         8|          WCh 2021|      Dubai UAE| 2021.12.05|    8|         Carlsen,M|  Nepomniachtchi,I|   1-0|     2855|     2782|       null|       null|         Carlsen,M|      2855|  Nepomniachtchi,I|     2782|                   73|C43|2022-07-22T22:33:...| WorldChamp2021|\n",
            "|dea461a0-46b1-43e...|        10|          WCh 2016|   New York USA| 2016.11.24|   10|   Carlsen, Magnus|  Karjakin, Sergey|   1-0|     2853|     2772|         GM|         GM|   Carlsen, Magnus|      2853|  Karjakin, Sergey|     2772|                   81|C65|2022-07-22T22:33:...| WorldChamp2016|\n",
            "|69954db6-8a4e-43d...|        16| WCh Rapid TB 2016|   New York USA| 2016.11.30|    4|   Carlsen, Magnus|  Karjakin, Sergey|   1-0|     2853|     2772|         GM|         GM|   Carlsen, Magnus|      2853|  Karjakin, Sergey|     2772|                   81|B54|2022-07-22T22:33:...| WorldChamp2016|\n",
            "|c6da46fc-4ed5-4e6...|         2|          WCh 2014|      Sochi RUS| 2014.11.09|    2|   Carlsen, Magnus|Anand, Viswanathan|   1-0|     2863|     2792|         GM|         GM|   Carlsen, Magnus|      2863|Anand, Viswanathan|     2792|                   71|C65|2022-07-22T22:33:...| WorldChamp2014|\n",
            "|e8e1e55d-e0d2-467...|         3|          WCh 2014|      Sochi RUS| 2014.11.11|    3|Anand, Viswanathan|   Carlsen, Magnus|   1-0|     2792|     2863|         GM|         GM|Anand, Viswanathan|      2792|   Carlsen, Magnus|     2863|                  -71|D37|2022-07-22T22:33:...| WorldChamp2014|\n",
            "|8abc1978-ec05-4b0...|         6|          WCh 2014|      Sochi RUS| 2014.11.15|    6|   Carlsen, Magnus|Anand, Viswanathan|   1-0|     2863|     2792|         GM|         GM|   Carlsen, Magnus|      2863|Anand, Viswanathan|     2792|                   71|B41|2022-07-22T22:33:...| WorldChamp2014|\n",
            "|456d0e77-8b7a-447...|        11|          WCh 2014|      Sochi RUS| 2014.11.23|   11|   Carlsen, Magnus|Anand, Viswanathan|   1-0|     2863|     2792|         GM|         GM|   Carlsen, Magnus|      2863|Anand, Viswanathan|     2792|                   71|C67|2022-07-22T22:33:...| WorldChamp2014|\n",
            "|8ddb538f-20e7-423...|         5|          WCh 2013|    Chennai IND| 2013.11.15|    5|   Carlsen, Magnus|Anand, Viswanathan|   1-0|     2870|     2775|         GM|         GM|   Carlsen, Magnus|      2870|Anand, Viswanathan|     2775|                   95|D31|2022-07-22T22:33:...| WorldChamp2013|\n",
            "|85f912a4-3e0a-4ab...|         7|          WCh 2012|     Moscow RUS| 2012.05.20|    7|         Gelfand,B|           Anand,V|   1-0|     2727|     2791|       null|       null|         Gelfand,B|      2727|           Anand,V|     2791|                  -64|D45|2022-07-22T22:33:...| WorldChamp2012|\n",
            "|646031d8-05e7-40b...|         8|          WCh 2012|     Moscow RUS| 2012.05.21|    8|           Anand,V|         Gelfand,B|   1-0|     2791|     2727|       null|       null|           Anand,V|      2791|         Gelfand,B|     2727|                   64|E60|2022-07-22T22:33:...| WorldChamp2012|\n",
            "|a9e346b5-0066-40c...|        14|WCh Rapid Tiebreak|     Moscow RUS| 2012.05.30|    2|Anand, Viswanathan|    Gelfand, Boris|   1-0|     2791|     2727|         GM|         GM|Anand, Viswanathan|      2791|    Gelfand, Boris|     2727|                   64|B30|2022-07-22T22:33:...| WorldChamp2012|\n",
            "|427df540-ad7e-4c7...|         1|               WCh|      Sofia BUL| 2010.04.24|    1|         Topalov,V|           Anand,V|   1-0|     2805|     2787|       null|       null|         Topalov,V|      2805|           Anand,V|     2787|                   18|D86|2022-07-22T22:33:...| WorldChamp2010|\n",
            "|600bf35b-8d76-4b2...|         2|               WCh|      Sofia BUL| 2010.04.25|    2|           Anand,V|         Topalov,V|   1-0|     2787|     2805|       null|       null|           Anand,V|      2787|         Topalov,V|     2805|                  -18|E04|2022-07-22T22:33:...| WorldChamp2010|\n",
            "|16ebe3b8-9be4-480...|         4|               WCh|      Sofia BUL| 2010.04.28|    4|           Anand,V|         Topalov,V|   1-0|     2787|     2805|       null|       null|           Anand,V|      2787|         Topalov,V|     2805|                  -18|E04|2022-07-22T22:33:...| WorldChamp2010|\n",
            "|b65310bb-688c-48e...|         8|               WCh|      Sofia BUL| 2010.05.04|    8|         Topalov,V|           Anand,V|   1-0|     2805|     2787|       null|       null|         Topalov,V|      2805|           Anand,V|     2787|                   18|D17|2022-07-22T22:33:...| WorldChamp2010|\n",
            "|12a5a2d1-76fe-4c2...|         6|               WCh|       Bonn GER| 2008.10.21|    6|           Anand,V|         Kramnik,V|   1-0|     2783|     2772|       null|       null|           Anand,V|      2783|         Kramnik,V|     2772|                   11|E34|2022-07-22T22:33:...| WorldChamp2008|\n",
            "|1ca01243-5234-410...|        10|               WCh|       Bonn GER| 2008.10.27|   10|         Kramnik,V|           Anand,V|   1-0|     2772|     2783|       null|       null|         Kramnik,V|      2772|           Anand,V|     2783|                  -11|E21|2022-07-22T22:33:...| WorldChamp2008|\n",
            "|5b6e61ed-7d35-47f...|         8|               WCh|Mexico City MEX| 2007.09.14|    2|         Kramnik,V|      Morozevich,A|   1-0|     2769|     2758|       null|       null|         Kramnik,V|      2769|      Morozevich,A|     2758|                   11|E04|2022-07-22T22:33:...| WorldChamp2007|\n",
            "|ea56e15d-339f-4cb...|         9|               WCh|Mexico City MEX| 2007.09.15|    3|      Morozevich,A|         Svidler,P|   1-0|     2758|     2735|       null|       null|      Morozevich,A|      2758|         Svidler,P|     2735|                   23|C45|2022-07-22T22:33:...| WorldChamp2007|\n",
            "+--------------------+----------+------------------+---------------+-----------+-----+------------------+------------------+------+---------+---------+-----------+-----------+------------------+----------+------------------+---------+---------------------+---+--------------------+---------------+\n",
            "only showing top 20 rows\n",
            "\n"
          ]
        }
      ]
    },
    {
      "cell_type": "code",
      "source": [
        "chess_wc_history_game_info.select('winner').where(chess_wc_history_game_info.result == '1-0').show()"
      ],
      "metadata": {
        "colab": {
          "base_uri": "https://localhost:8080/"
        },
        "id": "mZQMX5PlYqgf",
        "outputId": "0a457801-0547-491d-8e4a-96f13184593b"
      },
      "execution_count": 18,
      "outputs": [
        {
          "output_type": "stream",
          "name": "stdout",
          "text": [
            "+------------------+\n",
            "|            winner|\n",
            "+------------------+\n",
            "|         Carlsen,M|\n",
            "|         Carlsen,M|\n",
            "|   Carlsen, Magnus|\n",
            "|   Carlsen, Magnus|\n",
            "|   Carlsen, Magnus|\n",
            "|Anand, Viswanathan|\n",
            "|   Carlsen, Magnus|\n",
            "|   Carlsen, Magnus|\n",
            "|   Carlsen, Magnus|\n",
            "|         Gelfand,B|\n",
            "|           Anand,V|\n",
            "|Anand, Viswanathan|\n",
            "|         Topalov,V|\n",
            "|           Anand,V|\n",
            "|           Anand,V|\n",
            "|         Topalov,V|\n",
            "|           Anand,V|\n",
            "|         Kramnik,V|\n",
            "|         Kramnik,V|\n",
            "|      Morozevich,A|\n",
            "+------------------+\n",
            "only showing top 20 rows\n",
            "\n"
          ]
        }
      ]
    },
    {
      "cell_type": "markdown",
      "source": [
        "2. List of Players with number of times they have won Tournament in descending order(Max to min). Result attributes: player_name, number_of_wins"
      ],
      "metadata": {
        "id": "vMxGysK9USqM"
      }
    },
    {
      "cell_type": "code",
      "source": [
        "chess_wc_history_moves.filter(chess_wc_history_moves.is_check_mate == '0').show()"
      ],
      "metadata": {
        "colab": {
          "base_uri": "https://localhost:8080/"
        },
        "id": "JQG6I1wubNxP",
        "outputId": "0eec8058-a15e-4133-81a4-45f0f00e627d"
      },
      "execution_count": 19,
      "outputs": [
        {
          "output_type": "stream",
          "name": "stdout",
          "text": [
            "+--------------------+-------+------------+----------------+--------+----+-----------+---------+-----+-----+--------------------+--------+-------------+--------------+----------------------+------------+------------------------+-----------+-----------+----------------+----------------+-----------------+-----------------+------------------+------------------+------------------+------------------+----------------+----------------+------------------------+------------------------+--------------------+--------------------+--------------------+--------------------+--------------------+--------------------+--------------------+--------------------+--------------------+--------------------+--------------------+--------------------+--------------------+--------------------+--------------------+--------------------+--------------------+--------------------+--------------------+--------------------+--------------------+--------------------+--------------------+--------------------+--------------------+--------------------+--------------------+--------------------+--------------------+--------------------+--------------------+--------------------+--------------------+\n",
            "|             game_id|move_no|move_no_pair|          player|notation|move|from_square|to_square|piece|color|                 fen|is_check|is_check_mate|is_fifty_moves|is_fivefold_repetition|is_game_over|is_insufficient_material|white_count|black_count|white_pawn_count|black_pawn_count|white_queen_count|black_queen_count|white_bishop_count|black_bishop_count|white_knight_count|black_knight_count|white_rook_count|black_rook_count|captured_score_for_white|captured_score_for_black|fen_row1_white_count|fen_row2_white_count|fen_row3_white_count|fen_row4_white_count|fen_row5_white_count|fen_row6_white_count|fen_row7_white_count|fen_row8_white_count|fen_row1_white_value|fen_row2_white_value|fen_row3_white_value|fen_row4_white_value|fen_row5_white_value|fen_row6_white_value|fen_row7_white_value|fen_row8_white_value|fen_row1_black_count|fen_row2_black_count|fen_row3_black_count|fen_row4_black_count|fen_row5_black_count|fen_row6_black_count|fen_row7_black_count|fen_row8_black_count|fen_row1_black_value|fen_row2_black_value|fen_row3_black_value|fen_row4_black_value|fen_row5_black_value|fen_row6_black_value|fen_row7_black_value|fen_row8_black_value|       move_sequence|\n",
            "+--------------------+-------+------------+----------------+--------+----+-----------+---------+-----+-----+--------------------+--------+-------------+--------------+----------------------+------------+------------------------+-----------+-----------+----------------+----------------+-----------------+-----------------+------------------+------------------+------------------+------------------+----------------+----------------+------------------------+------------------------+--------------------+--------------------+--------------------+--------------------+--------------------+--------------------+--------------------+--------------------+--------------------+--------------------+--------------------+--------------------+--------------------+--------------------+--------------------+--------------------+--------------------+--------------------+--------------------+--------------------+--------------------+--------------------+--------------------+--------------------+--------------------+--------------------+--------------------+--------------------+--------------------+--------------------+--------------------+--------------------+--------------------+\n",
            "|86e0b7f5-7b94-4ae...|      1|           1|Nepomniachtchi,I|      e4|e2e4|         e2|       e4|    P|White|rnbqkbnr/pppppppp...|       0|            0|             0|                     0|           0|                       0|         16|         16|               8|               8|                1|                1|                 2|                 2|                 2|                 2|               2|               2|                       0|                       0|                   8|                   7|                   0|                   1|                   0|                   0|                   0|                   0|                  31|                   7|                   0|                   1|                   0|                   0|                   0|                   0|                   0|                   0|                   0|                   0|                   0|                   0|                   8|                   8|                   0|                   0|                   0|                   0|                   0|                   0|                   8|                  31|                  e4|\n",
            "|86e0b7f5-7b94-4ae...|      2|           1|       Carlsen,M|      e5|e7e5|         e7|       e5|    P|Black|rnbqkbnr/pppp1ppp...|       0|            0|             0|                     0|           0|                       0|         16|         16|               8|               8|                1|                1|                 2|                 2|                 2|                 2|               2|               2|                       0|                       0|                   8|                   7|                   0|                   1|                   0|                   0|                   0|                   0|                  31|                   7|                   0|                   1|                   0|                   0|                   0|                   0|                   0|                   0|                   0|                   0|                   1|                   0|                   7|                   8|                   0|                   0|                   0|                   0|                   1|                   0|                   7|                  31|               e4|e5|\n",
            "|86e0b7f5-7b94-4ae...|      3|           2|Nepomniachtchi,I|     Nf3|g1f3|         g1|       f3|    N|White|rnbqkbnr/pppp1ppp...|       0|            0|             0|                     0|           0|                       0|         16|         16|               8|               8|                1|                1|                 2|                 2|                 2|                 2|               2|               2|                       0|                       0|                   7|                   7|                   1|                   1|                   0|                   0|                   0|                   0|                  28|                   7|                   3|                   1|                   0|                   0|                   0|                   0|                   0|                   0|                   0|                   0|                   1|                   0|                   7|                   8|                   0|                   0|                   0|                   0|                   1|                   0|                   7|                  31|           e4|e5|Nf3|\n",
            "|86e0b7f5-7b94-4ae...|      4|           2|       Carlsen,M|     Nc6|b8c6|         b8|       c6|    N|Black|r1bqkbnr/pppp1ppp...|       0|            0|             0|                     0|           0|                       0|         16|         16|               8|               8|                1|                1|                 2|                 2|                 2|                 2|               2|               2|                       0|                       0|                   7|                   7|                   1|                   1|                   0|                   0|                   0|                   0|                  28|                   7|                   3|                   1|                   0|                   0|                   0|                   0|                   0|                   0|                   0|                   0|                   1|                   1|                   7|                   7|                   0|                   0|                   0|                   0|                   1|                   3|                   7|                  28|       e4|e5|Nf3|Nc6|\n",
            "|86e0b7f5-7b94-4ae...|      5|           3|Nepomniachtchi,I|     Bb5|f1b5|         f1|       b5|    B|White|r1bqkbnr/pppp1ppp...|       0|            0|             0|                     0|           0|                       0|         16|         16|               8|               8|                1|                1|                 2|                 2|                 2|                 2|               2|               2|                       0|                       0|                   6|                   7|                   1|                   1|                   1|                   0|                   0|                   0|                  25|                   7|                   3|                   1|                   3|                   0|                   0|                   0|                   0|                   0|                   0|                   0|                   1|                   1|                   7|                   7|                   0|                   0|                   0|                   0|                   1|                   3|                   7|                  28|   e4|e5|Nf3|Nc6|Bb5|\n",
            "|86e0b7f5-7b94-4ae...|      6|           3|       Carlsen,M|      a6|a7a6|         a7|       a6|    P|Black|r1bqkbnr/1ppp1ppp...|       0|            0|             0|                     0|           0|                       0|         16|         16|               8|               8|                1|                1|                 2|                 2|                 2|                 2|               2|               2|                       0|                       0|                   6|                   7|                   1|                   1|                   1|                   0|                   0|                   0|                  25|                   7|                   3|                   1|                   3|                   0|                   0|                   0|                   0|                   0|                   0|                   0|                   1|                   2|                   6|                   7|                   0|                   0|                   0|                   0|                   1|                   4|                   6|                  28|e4|e5|Nf3|Nc6|Bb5|a6|\n",
            "|86e0b7f5-7b94-4ae...|      7|           4|Nepomniachtchi,I|     Ba4|b5a4|         b5|       a4|    B|White|r1bqkbnr/1ppp1ppp...|       0|            0|             0|                     0|           0|                       0|         16|         16|               8|               8|                1|                1|                 2|                 2|                 2|                 2|               2|               2|                       0|                       0|                   6|                   7|                   1|                   2|                   0|                   0|                   0|                   0|                  25|                   7|                   3|                   4|                   0|                   0|                   0|                   0|                   0|                   0|                   0|                   0|                   1|                   2|                   6|                   7|                   0|                   0|                   0|                   0|                   1|                   4|                   6|                  28|e4|e5|Nf3|Nc6|Bb5...|\n",
            "|86e0b7f5-7b94-4ae...|      8|           4|       Carlsen,M|     Nf6|g8f6|         g8|       f6|    N|Black|r1bqkb1r/1ppp1ppp...|       0|            0|             0|                     0|           0|                       0|         16|         16|               8|               8|                1|                1|                 2|                 2|                 2|                 2|               2|               2|                       0|                       0|                   6|                   7|                   1|                   2|                   0|                   0|                   0|                   0|                  25|                   7|                   3|                   4|                   0|                   0|                   0|                   0|                   0|                   0|                   0|                   0|                   1|                   3|                   6|                   6|                   0|                   0|                   0|                   0|                   1|                   7|                   6|                  25|e4|e5|Nf3|Nc6|Bb5...|\n",
            "|86e0b7f5-7b94-4ae...|      9|           5|Nepomniachtchi,I|     O-O|e1g1|         e1|       g1|    K|White|r1bqkb1r/1ppp1ppp...|       0|            0|             0|                     0|           0|                       0|         16|         16|               8|               8|                1|                1|                 2|                 2|                 2|                 2|               2|               2|                       0|                       0|                   6|                   7|                   1|                   2|                   0|                   0|                   0|                   0|                  25|                   7|                   3|                   4|                   0|                   0|                   0|                   0|                   0|                   0|                   0|                   0|                   1|                   3|                   6|                   6|                   0|                   0|                   0|                   0|                   1|                   7|                   6|                  25|e4|e5|Nf3|Nc6|Bb5...|\n",
            "|86e0b7f5-7b94-4ae...|     10|           5|       Carlsen,M|     Be7|f8e7|         f8|       e7|    B|Black|r1bqk2r/1pppbppp/...|       0|            0|             0|                     0|           0|                       0|         16|         16|               8|               8|                1|                1|                 2|                 2|                 2|                 2|               2|               2|                       0|                       0|                   6|                   7|                   1|                   2|                   0|                   0|                   0|                   0|                  25|                   7|                   3|                   4|                   0|                   0|                   0|                   0|                   0|                   0|                   0|                   0|                   1|                   3|                   7|                   5|                   0|                   0|                   0|                   0|                   1|                   7|                   9|                  22|e4|e5|Nf3|Nc6|Bb5...|\n",
            "|86e0b7f5-7b94-4ae...|     11|           6|Nepomniachtchi,I|     Re1|f1e1|         f1|       e1|    R|White|r1bqk2r/1pppbppp/...|       0|            0|             0|                     0|           0|                       0|         16|         16|               8|               8|                1|                1|                 2|                 2|                 2|                 2|               2|               2|                       0|                       0|                   6|                   7|                   1|                   2|                   0|                   0|                   0|                   0|                  25|                   7|                   3|                   4|                   0|                   0|                   0|                   0|                   0|                   0|                   0|                   0|                   1|                   3|                   7|                   5|                   0|                   0|                   0|                   0|                   1|                   7|                   9|                  22|e4|e5|Nf3|Nc6|Bb5...|\n",
            "|86e0b7f5-7b94-4ae...|     12|           6|       Carlsen,M|      b5|b7b5|         b7|       b5|    P|Black|r1bqk2r/2ppbppp/p...|       0|            0|             0|                     0|           0|                       0|         16|         16|               8|               8|                1|                1|                 2|                 2|                 2|                 2|               2|               2|                       0|                       0|                   6|                   7|                   1|                   2|                   0|                   0|                   0|                   0|                  25|                   7|                   3|                   4|                   0|                   0|                   0|                   0|                   0|                   0|                   0|                   0|                   2|                   3|                   6|                   5|                   0|                   0|                   0|                   0|                   2|                   7|                   8|                  22|e4|e5|Nf3|Nc6|Bb5...|\n",
            "|86e0b7f5-7b94-4ae...|     13|           7|Nepomniachtchi,I|     Bb3|a4b3|         a4|       b3|    B|White|r1bqk2r/2ppbppp/p...|       0|            0|             0|                     0|           0|                       0|         16|         16|               8|               8|                1|                1|                 2|                 2|                 2|                 2|               2|               2|                       0|                       0|                   6|                   7|                   2|                   1|                   0|                   0|                   0|                   0|                  25|                   7|                   6|                   1|                   0|                   0|                   0|                   0|                   0|                   0|                   0|                   0|                   2|                   3|                   6|                   5|                   0|                   0|                   0|                   0|                   2|                   7|                   8|                  22|e4|e5|Nf3|Nc6|Bb5...|\n",
            "|86e0b7f5-7b94-4ae...|     14|           7|       Carlsen,M|     O-O|e8g8|         e8|       g8|    K|Black|r1bq1rk1/2ppbppp/...|       0|            0|             0|                     0|           0|                       0|         16|         16|               8|               8|                1|                1|                 2|                 2|                 2|                 2|               2|               2|                       0|                       0|                   6|                   7|                   2|                   1|                   0|                   0|                   0|                   0|                  25|                   7|                   6|                   1|                   0|                   0|                   0|                   0|                   0|                   0|                   0|                   0|                   2|                   3|                   6|                   5|                   0|                   0|                   0|                   0|                   2|                   7|                   8|                  22|e4|e5|Nf3|Nc6|Bb5...|\n",
            "|86e0b7f5-7b94-4ae...|     15|           8|Nepomniachtchi,I|      h3|h2h3|         h2|       h3|    P|White|r1bq1rk1/2ppbppp/...|       0|            0|             0|                     0|           0|                       0|         16|         16|               8|               8|                1|                1|                 2|                 2|                 2|                 2|               2|               2|                       0|                       0|                   6|                   6|                   3|                   1|                   0|                   0|                   0|                   0|                  25|                   6|                   7|                   1|                   0|                   0|                   0|                   0|                   0|                   0|                   0|                   0|                   2|                   3|                   6|                   5|                   0|                   0|                   0|                   0|                   2|                   7|                   8|                  22|e4|e5|Nf3|Nc6|Bb5...|\n",
            "|86e0b7f5-7b94-4ae...|     16|           8|       Carlsen,M|     Na5|c6a5|         c6|       a5|    N|Black|r1bq1rk1/2ppbppp/...|       0|            0|             0|                     0|           0|                       0|         16|         16|               8|               8|                1|                1|                 2|                 2|                 2|                 2|               2|               2|                       0|                       0|                   6|                   6|                   3|                   1|                   0|                   0|                   0|                   0|                  25|                   6|                   7|                   1|                   0|                   0|                   0|                   0|                   0|                   0|                   0|                   0|                   3|                   2|                   6|                   5|                   0|                   0|                   0|                   0|                   5|                   4|                   8|                  22|e4|e5|Nf3|Nc6|Bb5...|\n",
            "|86e0b7f5-7b94-4ae...|     17|           9|Nepomniachtchi,I|    Nxe5|f3e5|         f3|       e5|    N|White|r1bq1rk1/2ppbppp/...|       0|            0|             0|                     0|           0|                       0|         16|         15|               8|               7|                1|                1|                 2|                 2|                 2|                 2|               2|               2|                       1|                       0|                   6|                   6|                   2|                   1|                   1|                   0|                   0|                   0|                  25|                   6|                   4|                   1|                   3|                   0|                   0|                   0|                   0|                   0|                   0|                   0|                   2|                   2|                   6|                   5|                   0|                   0|                   0|                   0|                   4|                   4|                   8|                  22|e4|e5|Nf3|Nc6|Bb5...|\n",
            "|86e0b7f5-7b94-4ae...|     18|           9|       Carlsen,M|    Nxb3|a5b3|         a5|       b3|    N|Black|r1bq1rk1/2ppbppp/...|       0|            0|             0|                     0|           0|                       0|         15|         15|               8|               7|                1|                1|                 1|                 2|                 2|                 2|               2|               2|                       1|                       3|                   6|                   6|                   1|                   1|                   1|                   0|                   0|                   0|                  25|                   6|                   1|                   1|                   3|                   0|                   0|                   0|                   0|                   0|                   1|                   0|                   1|                   2|                   6|                   5|                   0|                   0|                   3|                   0|                   1|                   4|                   8|                  22|e4|e5|Nf3|Nc6|Bb5...|\n",
            "|86e0b7f5-7b94-4ae...|     19|          10|Nepomniachtchi,I|    axb3|a2b3|         a2|       b3|    P|White|r1bq1rk1/2ppbppp/...|       0|            0|             0|                     0|           0|                       0|         15|         14|               8|               7|                1|                1|                 1|                 2|                 2|                 1|               2|               2|                       4|                       3|                   6|                   5|                   2|                   1|                   1|                   0|                   0|                   0|                  25|                   5|                   2|                   1|                   3|                   0|                   0|                   0|                   0|                   0|                   0|                   0|                   1|                   2|                   6|                   5|                   0|                   0|                   0|                   0|                   1|                   4|                   8|                  22|e4|e5|Nf3|Nc6|Bb5...|\n",
            "|86e0b7f5-7b94-4ae...|     20|          10|       Carlsen,M|     Bb7|c8b7|         c8|       b7|    B|Black|r2q1rk1/1bppbppp/...|       0|            0|             0|                     0|           0|                       0|         15|         14|               8|               7|                1|                1|                 1|                 2|                 2|                 1|               2|               2|                       4|                       3|                   6|                   5|                   2|                   1|                   1|                   0|                   0|                   0|                  25|                   5|                   2|                   1|                   3|                   0|                   0|                   0|                   0|                   0|                   0|                   0|                   1|                   2|                   7|                   4|                   0|                   0|                   0|                   0|                   1|                   4|                  11|                  19|e4|e5|Nf3|Nc6|Bb5...|\n",
            "+--------------------+-------+------------+----------------+--------+----+-----------+---------+-----+-----+--------------------+--------+-------------+--------------+----------------------+------------+------------------------+-----------+-----------+----------------+----------------+-----------------+-----------------+------------------+------------------+------------------+------------------+----------------+----------------+------------------------+------------------------+--------------------+--------------------+--------------------+--------------------+--------------------+--------------------+--------------------+--------------------+--------------------+--------------------+--------------------+--------------------+--------------------+--------------------+--------------------+--------------------+--------------------+--------------------+--------------------+--------------------+--------------------+--------------------+--------------------+--------------------+--------------------+--------------------+--------------------+--------------------+--------------------+--------------------+--------------------+--------------------+--------------------+\n",
            "only showing top 20 rows\n",
            "\n"
          ]
        }
      ]
    },
    {
      "cell_type": "code",
      "source": [
        "chess_wc_history_moves.select('player').where(chess_wc_history_moves.is_check_mate == '0').show()"
      ],
      "metadata": {
        "colab": {
          "base_uri": "https://localhost:8080/"
        },
        "id": "HZ_9c3pQUQwe",
        "outputId": "8549cc2c-ca15-4687-87a9-e0c0640e879d"
      },
      "execution_count": 20,
      "outputs": [
        {
          "output_type": "stream",
          "name": "stdout",
          "text": [
            "+----------------+\n",
            "|          player|\n",
            "+----------------+\n",
            "|Nepomniachtchi,I|\n",
            "|       Carlsen,M|\n",
            "|Nepomniachtchi,I|\n",
            "|       Carlsen,M|\n",
            "|Nepomniachtchi,I|\n",
            "|       Carlsen,M|\n",
            "|Nepomniachtchi,I|\n",
            "|       Carlsen,M|\n",
            "|Nepomniachtchi,I|\n",
            "|       Carlsen,M|\n",
            "|Nepomniachtchi,I|\n",
            "|       Carlsen,M|\n",
            "|Nepomniachtchi,I|\n",
            "|       Carlsen,M|\n",
            "|Nepomniachtchi,I|\n",
            "|       Carlsen,M|\n",
            "|Nepomniachtchi,I|\n",
            "|       Carlsen,M|\n",
            "|Nepomniachtchi,I|\n",
            "|       Carlsen,M|\n",
            "+----------------+\n",
            "only showing top 20 rows\n",
            "\n"
          ]
        }
      ]
    },
    {
      "cell_type": "code",
      "source": [
        "chess_wc_history_moves.select('player').where(chess_wc_history_moves.is_check_mate == '1').show()"
      ],
      "metadata": {
        "colab": {
          "base_uri": "https://localhost:8080/"
        },
        "id": "n5sWvLxDcM62",
        "outputId": "bd9961ed-94e2-4691-d64b-f4238368215f"
      },
      "execution_count": 21,
      "outputs": [
        {
          "output_type": "stream",
          "name": "stdout",
          "text": [
            "+-------------------+\n",
            "|             player|\n",
            "+-------------------+\n",
            "|         Nakamura,H|\n",
            "|         Ciuksyte,D|\n",
            "|           Paehtz,E|\n",
            "|          Polgar,Ju|\n",
            "|         Van Wely,L|\n",
            "|        Movsesian,S|\n",
            "|     Andersson, Ulf|\n",
            "|Alekhine, Alexander|\n",
            "+-------------------+\n",
            "\n"
          ]
        }
      ]
    },
    {
      "cell_type": "code",
      "source": [
        "chess_wc_history_moves.sort([chess_wc_history_moves.is_check_mate == '0'],\n",
        "               ascending = False).show()"
      ],
      "metadata": {
        "colab": {
          "base_uri": "https://localhost:8080/"
        },
        "id": "lB73MzUvdGQ1",
        "outputId": "43039980-c9c2-4ba0-e20d-8345d259c7f3"
      },
      "execution_count": 22,
      "outputs": [
        {
          "output_type": "stream",
          "name": "stdout",
          "text": [
            "+--------------------+-------+------------+--------------------+--------+----+-----------+---------+-----+-----+--------------------+--------+-------------+--------------+----------------------+------------+------------------------+-----------+-----------+----------------+----------------+-----------------+-----------------+------------------+------------------+------------------+------------------+----------------+----------------+------------------------+------------------------+--------------------+--------------------+--------------------+--------------------+--------------------+--------------------+--------------------+--------------------+--------------------+--------------------+--------------------+--------------------+--------------------+--------------------+--------------------+--------------------+--------------------+--------------------+--------------------+--------------------+--------------------+--------------------+--------------------+--------------------+--------------------+--------------------+--------------------+--------------------+--------------------+--------------------+--------------------+--------------------+--------------------+\n",
            "|             game_id|move_no|move_no_pair|              player|notation|move|from_square|to_square|piece|color|                 fen|is_check|is_check_mate|is_fifty_moves|is_fivefold_repetition|is_game_over|is_insufficient_material|white_count|black_count|white_pawn_count|black_pawn_count|white_queen_count|black_queen_count|white_bishop_count|black_bishop_count|white_knight_count|black_knight_count|white_rook_count|black_rook_count|captured_score_for_white|captured_score_for_black|fen_row1_white_count|fen_row2_white_count|fen_row3_white_count|fen_row4_white_count|fen_row5_white_count|fen_row6_white_count|fen_row7_white_count|fen_row8_white_count|fen_row1_white_value|fen_row2_white_value|fen_row3_white_value|fen_row4_white_value|fen_row5_white_value|fen_row6_white_value|fen_row7_white_value|fen_row8_white_value|fen_row1_black_count|fen_row2_black_count|fen_row3_black_count|fen_row4_black_count|fen_row5_black_count|fen_row6_black_count|fen_row7_black_count|fen_row8_black_count|fen_row1_black_value|fen_row2_black_value|fen_row3_black_value|fen_row4_black_value|fen_row5_black_value|fen_row6_black_value|fen_row7_black_value|fen_row8_black_value|       move_sequence|\n",
            "+--------------------+-------+------------+--------------------+--------+----+-----------+---------+-----+-----+--------------------+--------+-------------+--------------+----------------------+------------+------------------------+-----------+-----------+----------------+----------------+-----------------+-----------------+------------------+------------------+------------------+------------------+----------------+----------------+------------------------+------------------------+--------------------+--------------------+--------------------+--------------------+--------------------+--------------------+--------------------+--------------------+--------------------+--------------------+--------------------+--------------------+--------------------+--------------------+--------------------+--------------------+--------------------+--------------------+--------------------+--------------------+--------------------+--------------------+--------------------+--------------------+--------------------+--------------------+--------------------+--------------------+--------------------+--------------------+--------------------+--------------------+--------------------+\n",
            "|146a2130-85c6-444...|     92|          46|       Sokolov, Ivan|    Qa1+|e5a1|         e5|       a1|    Q|Black|4B1k1/4rp1p/R2p2p...|       1|            0|             0|                     0|           0|                       0|         10|          9|               5|               4|                1|                1|                 1|                 1|                 0|                 1|               2|               1|                      15|                      12|                   1|                   2|                   3|                   1|                   1|                   1|                   0|                   1|                   0|                   2|                  11|                   1|                   5|                   5|                   0|                   3|                   1|                   1|                   1|                   0|                   0|                   2|                   3|                   1|                   9|                   3|                   3|                   0|                   0|                   2|                   7|                   0|e4|e5|Nf3|Nf6|Nxe...|\n",
            "|146a2130-85c6-444...|     93|          47|      Shirov, Alexei|     Kd2|e1d2|         e1|       d2|    K|White|4B1k1/4rp1p/R2p2p...|       0|            0|             0|                     0|           0|                       0|         10|          9|               5|               4|                1|                1|                 1|                 1|                 0|                 1|               2|               1|                      15|                      12|                   0|                   3|                   3|                   1|                   1|                   1|                   0|                   1|                   0|                   2|                  11|                   1|                   5|                   5|                   0|                   3|                   1|                   1|                   1|                   0|                   0|                   2|                   3|                   1|                   9|                   3|                   3|                   0|                   0|                   2|                   7|                   0|e4|e5|Nf3|Nf6|Nxe...|\n",
            "|146a2130-85c6-444...|     94|          47|       Sokolov, Ivan|    Qb2+|a1b2|         a1|       b2|    Q|Black|4B1k1/4rp1p/R2p2p...|       1|            0|             0|                     0|           0|                       0|         10|          9|               5|               4|                1|                1|                 1|                 1|                 0|                 1|               2|               1|                      15|                      12|                   0|                   3|                   3|                   1|                   1|                   1|                   0|                   1|                   0|                   2|                  11|                   1|                   5|                   5|                   0|                   3|                   0|                   2|                   1|                   0|                   0|                   2|                   3|                   1|                   0|                  12|                   3|                   0|                   0|                   2|                   7|                   0|e4|e5|Nf3|Nf6|Nxe...|\n",
            "|3a8c5a5e-804a-431...|      1|           1|Aleksandrov, Aleksej|      d4|d2d4|         d2|       d4|    P|White|rnbqkbnr/pppppppp...|       0|            0|             0|                     0|           0|                       0|         16|         16|               8|               8|                1|                1|                 2|                 2|                 2|                 2|               2|               2|                       0|                       0|                   8|                   7|                   0|                   1|                   0|                   0|                   0|                   0|                  31|                   7|                   0|                   1|                   0|                   0|                   0|                   0|                   0|                   0|                   0|                   0|                   0|                   0|                   8|                   8|                   0|                   0|                   0|                   0|                   0|                   0|                   8|                  31|                  d4|\n",
            "|3a8c5a5e-804a-431...|      2|           1|      Svidler, Peter|     Nf6|g8f6|         g8|       f6|    N|Black|rnbqkb1r/pppppppp...|       0|            0|             0|                     0|           0|                       0|         16|         16|               8|               8|                1|                1|                 2|                 2|                 2|                 2|               2|               2|                       0|                       0|                   8|                   7|                   0|                   1|                   0|                   0|                   0|                   0|                  31|                   7|                   0|                   1|                   0|                   0|                   0|                   0|                   0|                   0|                   0|                   0|                   0|                   1|                   8|                   7|                   0|                   0|                   0|                   0|                   0|                   3|                   8|                  28|              d4|Nf6|\n",
            "|3a8c5a5e-804a-431...|      3|           2|Aleksandrov, Aleksej|      c4|c2c4|         c2|       c4|    P|White|rnbqkb1r/pppppppp...|       0|            0|             0|                     0|           0|                       0|         16|         16|               8|               8|                1|                1|                 2|                 2|                 2|                 2|               2|               2|                       0|                       0|                   8|                   6|                   0|                   2|                   0|                   0|                   0|                   0|                  31|                   6|                   0|                   2|                   0|                   0|                   0|                   0|                   0|                   0|                   0|                   0|                   0|                   1|                   8|                   7|                   0|                   0|                   0|                   0|                   0|                   3|                   8|                  28|           d4|Nf6|c4|\n",
            "|3a8c5a5e-804a-431...|      4|           2|      Svidler, Peter|      g6|g7g6|         g7|       g6|    P|Black|rnbqkb1r/pppppp1p...|       0|            0|             0|                     0|           0|                       0|         16|         16|               8|               8|                1|                1|                 2|                 2|                 2|                 2|               2|               2|                       0|                       0|                   8|                   6|                   0|                   2|                   0|                   0|                   0|                   0|                  31|                   6|                   0|                   2|                   0|                   0|                   0|                   0|                   0|                   0|                   0|                   0|                   0|                   2|                   7|                   7|                   0|                   0|                   0|                   0|                   0|                   4|                   7|                  28|        d4|Nf6|c4|g6|\n",
            "|3a8c5a5e-804a-431...|      5|           3|Aleksandrov, Aleksej|     Nc3|b1c3|         b1|       c3|    N|White|rnbqkb1r/pppppp1p...|       0|            0|             0|                     0|           0|                       0|         16|         16|               8|               8|                1|                1|                 2|                 2|                 2|                 2|               2|               2|                       0|                       0|                   7|                   6|                   1|                   2|                   0|                   0|                   0|                   0|                  28|                   6|                   3|                   2|                   0|                   0|                   0|                   0|                   0|                   0|                   0|                   0|                   0|                   2|                   7|                   7|                   0|                   0|                   0|                   0|                   0|                   4|                   7|                  28|    d4|Nf6|c4|g6|Nc3|\n",
            "|3a8c5a5e-804a-431...|      6|           3|      Svidler, Peter|      d5|d7d5|         d7|       d5|    P|Black|rnbqkb1r/ppp1pp1p...|       0|            0|             0|                     0|           0|                       0|         16|         16|               8|               8|                1|                1|                 2|                 2|                 2|                 2|               2|               2|                       0|                       0|                   7|                   6|                   1|                   2|                   0|                   0|                   0|                   0|                  28|                   6|                   3|                   2|                   0|                   0|                   0|                   0|                   0|                   0|                   0|                   0|                   1|                   2|                   6|                   7|                   0|                   0|                   0|                   0|                   1|                   4|                   6|                  28| d4|Nf6|c4|g6|Nc3|d5|\n",
            "|3a8c5a5e-804a-431...|      7|           4|Aleksandrov, Aleksej|     Nf3|g1f3|         g1|       f3|    N|White|rnbqkb1r/ppp1pp1p...|       0|            0|             0|                     0|           0|                       0|         16|         16|               8|               8|                1|                1|                 2|                 2|                 2|                 2|               2|               2|                       0|                       0|                   6|                   6|                   2|                   2|                   0|                   0|                   0|                   0|                  25|                   6|                   6|                   2|                   0|                   0|                   0|                   0|                   0|                   0|                   0|                   0|                   1|                   2|                   6|                   7|                   0|                   0|                   0|                   0|                   1|                   4|                   6|                  28|d4|Nf6|c4|g6|Nc3|...|\n",
            "|3a8c5a5e-804a-431...|      8|           4|      Svidler, Peter|     Bg7|f8g7|         f8|       g7|    B|Black|rnbqk2r/ppp1ppbp/...|       0|            0|             0|                     0|           0|                       0|         16|         16|               8|               8|                1|                1|                 2|                 2|                 2|                 2|               2|               2|                       0|                       0|                   6|                   6|                   2|                   2|                   0|                   0|                   0|                   0|                  25|                   6|                   6|                   2|                   0|                   0|                   0|                   0|                   0|                   0|                   0|                   0|                   1|                   2|                   7|                   6|                   0|                   0|                   0|                   0|                   1|                   4|                   9|                  25|d4|Nf6|c4|g6|Nc3|...|\n",
            "|3a8c5a5e-804a-431...|      9|           5|Aleksandrov, Aleksej|     Qb3|d1b3|         d1|       b3|    Q|White|rnbqk2r/ppp1ppbp/...|       0|            0|             0|                     0|           0|                       0|         16|         16|               8|               8|                1|                1|                 2|                 2|                 2|                 2|               2|               2|                       0|                       0|                   5|                   6|                   3|                   2|                   0|                   0|                   0|                   0|                  16|                   6|                  15|                   2|                   0|                   0|                   0|                   0|                   0|                   0|                   0|                   0|                   1|                   2|                   7|                   6|                   0|                   0|                   0|                   0|                   1|                   4|                   9|                  25|d4|Nf6|c4|g6|Nc3|...|\n",
            "|3a8c5a5e-804a-431...|     10|           5|      Svidler, Peter|    dxc4|d5c4|         d5|       c4|    P|Black|rnbqk2r/ppp1ppbp/...|       0|            0|             0|                     0|           0|                       0|         15|         16|               7|               8|                1|                1|                 2|                 2|                 2|                 2|               2|               2|                       0|                       1|                   5|                   6|                   3|                   1|                   0|                   0|                   0|                   0|                  16|                   6|                  15|                   1|                   0|                   0|                   0|                   0|                   0|                   0|                   0|                   1|                   0|                   2|                   7|                   6|                   0|                   0|                   0|                   1|                   0|                   4|                   9|                  25|d4|Nf6|c4|g6|Nc3|...|\n",
            "|3a8c5a5e-804a-431...|     11|           6|Aleksandrov, Aleksej|    Qxc4|b3c4|         b3|       c4|    Q|White|rnbqk2r/ppp1ppbp/...|       0|            0|             0|                     0|           0|                       0|         15|         15|               7|               7|                1|                1|                 2|                 2|                 2|                 2|               2|               2|                       1|                       1|                   5|                   6|                   2|                   2|                   0|                   0|                   0|                   0|                  16|                   6|                   6|                  10|                   0|                   0|                   0|                   0|                   0|                   0|                   0|                   0|                   0|                   2|                   7|                   6|                   0|                   0|                   0|                   0|                   0|                   4|                   9|                  25|d4|Nf6|c4|g6|Nc3|...|\n",
            "|3a8c5a5e-804a-431...|     12|           6|      Svidler, Peter|     O-O|e8g8|         e8|       g8|    K|Black|rnbq1rk1/ppp1ppbp...|       0|            0|             0|                     0|           0|                       0|         15|         15|               7|               7|                1|                1|                 2|                 2|                 2|                 2|               2|               2|                       1|                       1|                   5|                   6|                   2|                   2|                   0|                   0|                   0|                   0|                  16|                   6|                   6|                  10|                   0|                   0|                   0|                   0|                   0|                   0|                   0|                   0|                   0|                   2|                   7|                   6|                   0|                   0|                   0|                   0|                   0|                   4|                   9|                  25|d4|Nf6|c4|g6|Nc3|...|\n",
            "|3a8c5a5e-804a-431...|     13|           7|Aleksandrov, Aleksej|      e4|e2e4|         e2|       e4|    P|White|rnbq1rk1/ppp1ppbp...|       0|            0|             0|                     0|           0|                       0|         15|         15|               7|               7|                1|                1|                 2|                 2|                 2|                 2|               2|               2|                       1|                       1|                   5|                   5|                   2|                   3|                   0|                   0|                   0|                   0|                  16|                   5|                   6|                  11|                   0|                   0|                   0|                   0|                   0|                   0|                   0|                   0|                   0|                   2|                   7|                   6|                   0|                   0|                   0|                   0|                   0|                   4|                   9|                  25|d4|Nf6|c4|g6|Nc3|...|\n",
            "|3a8c5a5e-804a-431...|     14|           7|      Svidler, Peter|     Na6|b8a6|         b8|       a6|    N|Black|r1bq1rk1/ppp1ppbp...|       0|            0|             0|                     0|           0|                       0|         15|         15|               7|               7|                1|                1|                 2|                 2|                 2|                 2|               2|               2|                       1|                       1|                   5|                   5|                   2|                   3|                   0|                   0|                   0|                   0|                  16|                   5|                   6|                  11|                   0|                   0|                   0|                   0|                   0|                   0|                   0|                   0|                   0|                   3|                   7|                   5|                   0|                   0|                   0|                   0|                   0|                   7|                   9|                  22|d4|Nf6|c4|g6|Nc3|...|\n",
            "|3a8c5a5e-804a-431...|     15|           8|Aleksandrov, Aleksej|     Be2|f1e2|         f1|       e2|    B|White|r1bq1rk1/ppp1ppbp...|       0|            0|             0|                     0|           0|                       0|         15|         15|               7|               7|                1|                1|                 2|                 2|                 2|                 2|               2|               2|                       1|                       1|                   4|                   6|                   2|                   3|                   0|                   0|                   0|                   0|                  13|                   8|                   6|                  11|                   0|                   0|                   0|                   0|                   0|                   0|                   0|                   0|                   0|                   3|                   7|                   5|                   0|                   0|                   0|                   0|                   0|                   7|                   9|                  22|d4|Nf6|c4|g6|Nc3|...|\n",
            "|3a8c5a5e-804a-431...|     16|           8|      Svidler, Peter|      c5|c7c5|         c7|       c5|    P|Black|r1bq1rk1/pp2ppbp/...|       0|            0|             0|                     0|           0|                       0|         15|         15|               7|               7|                1|                1|                 2|                 2|                 2|                 2|               2|               2|                       1|                       1|                   4|                   6|                   2|                   3|                   0|                   0|                   0|                   0|                  13|                   8|                   6|                  11|                   0|                   0|                   0|                   0|                   0|                   0|                   0|                   0|                   1|                   3|                   6|                   5|                   0|                   0|                   0|                   0|                   1|                   7|                   8|                  22|d4|Nf6|c4|g6|Nc3|...|\n",
            "|3a8c5a5e-804a-431...|     17|           9|Aleksandrov, Aleksej|      d5|d4d5|         d4|       d5|    P|White|r1bq1rk1/pp2ppbp/...|       0|            0|             0|                     0|           0|                       0|         15|         15|               7|               7|                1|                1|                 2|                 2|                 2|                 2|               2|               2|                       1|                       1|                   4|                   6|                   2|                   2|                   1|                   0|                   0|                   0|                  13|                   8|                   6|                  10|                   1|                   0|                   0|                   0|                   0|                   0|                   0|                   0|                   1|                   3|                   6|                   5|                   0|                   0|                   0|                   0|                   1|                   7|                   8|                  22|d4|Nf6|c4|g6|Nc3|...|\n",
            "+--------------------+-------+------------+--------------------+--------+----+-----------+---------+-----+-----+--------------------+--------+-------------+--------------+----------------------+------------+------------------------+-----------+-----------+----------------+----------------+-----------------+-----------------+------------------+------------------+------------------+------------------+----------------+----------------+------------------------+------------------------+--------------------+--------------------+--------------------+--------------------+--------------------+--------------------+--------------------+--------------------+--------------------+--------------------+--------------------+--------------------+--------------------+--------------------+--------------------+--------------------+--------------------+--------------------+--------------------+--------------------+--------------------+--------------------+--------------------+--------------------+--------------------+--------------------+--------------------+--------------------+--------------------+--------------------+--------------------+--------------------+--------------------+\n",
            "only showing top 20 rows\n",
            "\n"
          ]
        }
      ]
    },
    {
      "cell_type": "markdown",
      "source": [
        "\n",
        "3. Most and Least Popular eco move in world championship history. Result attributes: eco, eco_name, number_of_occurences Final result will have only two rows"
      ],
      "metadata": {
        "id": "pXRRqrFZVHWF"
      }
    },
    {
      "cell_type": "code",
      "source": [
        "eco_codes.select(\"eco\",\"eco_name\").show(5)"
      ],
      "metadata": {
        "colab": {
          "base_uri": "https://localhost:8080/"
        },
        "id": "e5fEHXIcdC0y",
        "outputId": "2490a824-c0cc-42ae-a6d6-140f102ec5ef"
      },
      "execution_count": 23,
      "outputs": [
        {
          "output_type": "stream",
          "name": "stdout",
          "text": [
            "+---+--------------------+\n",
            "|eco|            eco_name|\n",
            "+---+--------------------+\n",
            "|A00|    Uncommon Opening|\n",
            "|A01|Nimzovich-Larsen ...|\n",
            "|A02|      Bird's Opening|\n",
            "|A03|      Bird's Opening|\n",
            "|A04|        Reti Opening|\n",
            "+---+--------------------+\n",
            "only showing top 5 rows\n",
            "\n"
          ]
        }
      ]
    },
    {
      "cell_type": "code",
      "source": [
        "eco_econames = eco_codes.select(\"eco\",\"eco_name\")"
      ],
      "metadata": {
        "id": "5tMkd7hsV_pQ"
      },
      "execution_count": 24,
      "outputs": []
    },
    {
      "cell_type": "code",
      "source": [
        "eco_econames.groupBy(\"eco_name\").count().show(10)"
      ],
      "metadata": {
        "colab": {
          "base_uri": "https://localhost:8080/"
        },
        "id": "-25ZQwUycrYa",
        "outputId": "ba2dd0e6-d465-40b1-ac06-6854295d2903"
      },
      "execution_count": 25,
      "outputs": [
        {
          "output_type": "stream",
          "name": "stdout",
          "text": [
            "+--------------------+-----+\n",
            "|            eco_name|count|\n",
            "+--------------------+-----+\n",
            "|   Grunfeld, Russian|    2|\n",
            "|Sicilian, Acceler...|    1|\n",
            "|       Three Knights|    1|\n",
            "|Ruy Lopez, Bird's...|    1|\n",
            "|King's Indian, Or...|    1|\n",
            "|King's Indian Def...|    1|\n",
            "|          Old Benoni|    1|\n",
            "|  Alekhine's Defense|    2|\n",
            "|    Sicilian, Alapin|    1|\n",
            "|Sicilian, Dragon,...|    1|\n",
            "+--------------------+-----+\n",
            "only showing top 10 rows\n",
            "\n"
          ]
        }
      ]
    },
    {
      "cell_type": "code",
      "source": [
        "chess_wc_history_game_info_pd['eco'].value_counts()"
      ],
      "metadata": {
        "colab": {
          "base_uri": "https://localhost:8080/"
        },
        "id": "SAi0p6WKTZDj",
        "outputId": "6ff3b6f3-26b1-4a39-f760-227de9c816ec"
      },
      "execution_count": 26,
      "outputs": [
        {
          "output_type": "execute_result",
          "data": {
            "text/plain": [
              "C42    64\n",
              "E15    56\n",
              "C88    46\n",
              "D37    44\n",
              "B90    38\n",
              "       ..\n",
              "B91     1\n",
              "A51     1\n",
              "C93     1\n",
              "E26     1\n",
              "C34     1\n",
              "Name: eco, Length: 412, dtype: int64"
            ]
          },
          "metadata": {},
          "execution_count": 26
        }
      ]
    },
    {
      "cell_type": "code",
      "source": [
        "chess_wc_history_game_info.groupBy(\"eco\").count().show(10)"
      ],
      "metadata": {
        "colab": {
          "base_uri": "https://localhost:8080/"
        },
        "id": "tgWhiaDKcOfP",
        "outputId": "c60fa82a-a1ee-4be3-b2fc-39a2a6fca2d9"
      },
      "execution_count": 27,
      "outputs": [
        {
          "output_type": "stream",
          "name": "stdout",
          "text": [
            "+---+-----+\n",
            "|eco|count|\n",
            "+---+-----+\n",
            "|B05|    3|\n",
            "|A23|    2|\n",
            "|E02|    5|\n",
            "|A47|    3|\n",
            "|D66|    2|\n",
            "|B34|    2|\n",
            "|E44|    1|\n",
            "|D81|    2|\n",
            "|B01|    9|\n",
            "|A65|    3|\n",
            "+---+-----+\n",
            "only showing top 10 rows\n",
            "\n"
          ]
        }
      ]
    },
    {
      "cell_type": "markdown",
      "source": [
        "4. Find the eco move with most winnings.\n",
        "Ps. Use this opening move in your next chess game🙂 Result attributes: eco, eco_name"
      ],
      "metadata": {
        "id": "8OmgSiJBV-qd"
      }
    },
    {
      "cell_type": "code",
      "source": [
        "chess_wc_history_game_info.select('eco').where(chess_wc_history_game_info.result == '1-0').show()"
      ],
      "metadata": {
        "colab": {
          "base_uri": "https://localhost:8080/"
        },
        "id": "5SGUgyWmdP5G",
        "outputId": "054e4228-7d5d-451b-fafe-f1c65c5dff45"
      },
      "execution_count": 28,
      "outputs": [
        {
          "output_type": "stream",
          "name": "stdout",
          "text": [
            "+---+\n",
            "|eco|\n",
            "+---+\n",
            "|D02|\n",
            "|C43|\n",
            "|C65|\n",
            "|B54|\n",
            "|C65|\n",
            "|D37|\n",
            "|B41|\n",
            "|C67|\n",
            "|D31|\n",
            "|D45|\n",
            "|E60|\n",
            "|B30|\n",
            "|D86|\n",
            "|E04|\n",
            "|E04|\n",
            "|D17|\n",
            "|E34|\n",
            "|E21|\n",
            "|E04|\n",
            "|C45|\n",
            "+---+\n",
            "only showing top 20 rows\n",
            "\n"
          ]
        }
      ]
    },
    {
      "cell_type": "code",
      "source": [
        "eco_move_with_most_winnings = chess_wc_history_game_info.select('eco').where(chess_wc_history_game_info.result == '1-0')"
      ],
      "metadata": {
        "id": "IRSLwbBxb0vD"
      },
      "execution_count": 29,
      "outputs": []
    },
    {
      "cell_type": "code",
      "source": [
        "eco_move_with_most_winnings.groupBy(\"eco\").count().show(10)"
      ],
      "metadata": {
        "colab": {
          "base_uri": "https://localhost:8080/"
        },
        "id": "bf3Goxtrb2c5",
        "outputId": "14ba96b4-25ae-42de-911f-2157106c5d81"
      },
      "execution_count": 30,
      "outputs": [
        {
          "output_type": "stream",
          "name": "stdout",
          "text": [
            "+---+-----+\n",
            "|eco|count|\n",
            "+---+-----+\n",
            "|A23|    1|\n",
            "|E02|    2|\n",
            "|D81|    1|\n",
            "|A47|    1|\n",
            "|B01|    4|\n",
            "|A65|    2|\n",
            "|D28|    2|\n",
            "|E56|    1|\n",
            "|C78|    6|\n",
            "|A46|    3|\n",
            "+---+-----+\n",
            "only showing top 10 rows\n",
            "\n"
          ]
        }
      ]
    },
    {
      "cell_type": "markdown",
      "source": [
        "\n",
        "5. Longest and shortest game ever played in a world championship in terms of move.\n",
        "Chess Funda: \"move\" is completed once both White and Black have played one turn. e.g If a game lasts 10 moves, both White and Black have played 10 moves)\n",
        "Result attributes: game_id, event, tournament_name, number_of_moves\n",
        "Final result will have only two rows"
      ],
      "metadata": {
        "id": "8fBwID3YWIwM"
      }
    },
    {
      "cell_type": "code",
      "source": [
        "chess_wc_history_game_info.show(2)"
      ],
      "metadata": {
        "colab": {
          "base_uri": "https://localhost:8080/"
        },
        "id": "5gdMQF40pz3W",
        "outputId": "70d263dd-ee7f-46d6-894a-1f41361e2f4d"
      },
      "execution_count": 31,
      "outputs": [
        {
          "output_type": "stream",
          "name": "stdout",
          "text": [
            "+--------------------+----------+--------+---------+-----------+-----+----------------+----------------+-------+---------+---------+-----------+-----------+------+----------+-----+---------+---------------------+---+--------------------+---------------+\n",
            "|             game_id|game_order|   event|     site|date_played|round|           white|           black| result|white_elo|black_elo|white_title|black_title|winner|winner_elo|loser|loser_elo|winner_loser_elo_diff|eco|        date_created|tournament_name|\n",
            "+--------------------+----------+--------+---------+-----------+-----+----------------+----------------+-------+---------+---------+-----------+-----------+------+----------+-----+---------+---------------------+---+--------------------+---------------+\n",
            "|86e0b7f5-7b94-4ae...|         1|WCh 2021|Dubai UAE| 2021.11.26|    1|Nepomniachtchi,I|       Carlsen,M|1/2-1/2|     2782|     2855|       null|       null|  draw|      null| draw|     null|                    0|C88|2022-07-22T22:33:...| WorldChamp2021|\n",
            "|dc4a10ab-54cf-49d...|         2|WCh 2021|Dubai UAE| 2021.11.27|    2|       Carlsen,M|Nepomniachtchi,I|1/2-1/2|     2855|     2782|       null|       null|  draw|      null| draw|     null|                    0|E06|2022-07-22T22:33:...| WorldChamp2021|\n",
            "+--------------------+----------+--------+---------+-----------+-----+----------------+----------------+-------+---------+---------+-----------+-----------+------+----------+-----+---------+---------------------+---+--------------------+---------------+\n",
            "only showing top 2 rows\n",
            "\n"
          ]
        }
      ]
    },
    {
      "cell_type": "code",
      "source": [
        "chess_wc_history_moves.show(2)"
      ],
      "metadata": {
        "colab": {
          "base_uri": "https://localhost:8080/"
        },
        "id": "pN8qZY4oqAx2",
        "outputId": "16fe1239-cdb8-422c-c969-31f828d99d59"
      },
      "execution_count": 32,
      "outputs": [
        {
          "output_type": "stream",
          "name": "stdout",
          "text": [
            "+--------------------+-------+------------+----------------+--------+----+-----------+---------+-----+-----+--------------------+--------+-------------+--------------+----------------------+------------+------------------------+-----------+-----------+----------------+----------------+-----------------+-----------------+------------------+------------------+------------------+------------------+----------------+----------------+------------------------+------------------------+--------------------+--------------------+--------------------+--------------------+--------------------+--------------------+--------------------+--------------------+--------------------+--------------------+--------------------+--------------------+--------------------+--------------------+--------------------+--------------------+--------------------+--------------------+--------------------+--------------------+--------------------+--------------------+--------------------+--------------------+--------------------+--------------------+--------------------+--------------------+--------------------+--------------------+--------------------+--------------------+-------------+\n",
            "|             game_id|move_no|move_no_pair|          player|notation|move|from_square|to_square|piece|color|                 fen|is_check|is_check_mate|is_fifty_moves|is_fivefold_repetition|is_game_over|is_insufficient_material|white_count|black_count|white_pawn_count|black_pawn_count|white_queen_count|black_queen_count|white_bishop_count|black_bishop_count|white_knight_count|black_knight_count|white_rook_count|black_rook_count|captured_score_for_white|captured_score_for_black|fen_row1_white_count|fen_row2_white_count|fen_row3_white_count|fen_row4_white_count|fen_row5_white_count|fen_row6_white_count|fen_row7_white_count|fen_row8_white_count|fen_row1_white_value|fen_row2_white_value|fen_row3_white_value|fen_row4_white_value|fen_row5_white_value|fen_row6_white_value|fen_row7_white_value|fen_row8_white_value|fen_row1_black_count|fen_row2_black_count|fen_row3_black_count|fen_row4_black_count|fen_row5_black_count|fen_row6_black_count|fen_row7_black_count|fen_row8_black_count|fen_row1_black_value|fen_row2_black_value|fen_row3_black_value|fen_row4_black_value|fen_row5_black_value|fen_row6_black_value|fen_row7_black_value|fen_row8_black_value|move_sequence|\n",
            "+--------------------+-------+------------+----------------+--------+----+-----------+---------+-----+-----+--------------------+--------+-------------+--------------+----------------------+------------+------------------------+-----------+-----------+----------------+----------------+-----------------+-----------------+------------------+------------------+------------------+------------------+----------------+----------------+------------------------+------------------------+--------------------+--------------------+--------------------+--------------------+--------------------+--------------------+--------------------+--------------------+--------------------+--------------------+--------------------+--------------------+--------------------+--------------------+--------------------+--------------------+--------------------+--------------------+--------------------+--------------------+--------------------+--------------------+--------------------+--------------------+--------------------+--------------------+--------------------+--------------------+--------------------+--------------------+--------------------+--------------------+-------------+\n",
            "|86e0b7f5-7b94-4ae...|      1|           1|Nepomniachtchi,I|      e4|e2e4|         e2|       e4|    P|White|rnbqkbnr/pppppppp...|       0|            0|             0|                     0|           0|                       0|         16|         16|               8|               8|                1|                1|                 2|                 2|                 2|                 2|               2|               2|                       0|                       0|                   8|                   7|                   0|                   1|                   0|                   0|                   0|                   0|                  31|                   7|                   0|                   1|                   0|                   0|                   0|                   0|                   0|                   0|                   0|                   0|                   0|                   0|                   8|                   8|                   0|                   0|                   0|                   0|                   0|                   0|                   8|                  31|           e4|\n",
            "|86e0b7f5-7b94-4ae...|      2|           1|       Carlsen,M|      e5|e7e5|         e7|       e5|    P|Black|rnbqkbnr/pppp1ppp...|       0|            0|             0|                     0|           0|                       0|         16|         16|               8|               8|                1|                1|                 2|                 2|                 2|                 2|               2|               2|                       0|                       0|                   8|                   7|                   0|                   1|                   0|                   0|                   0|                   0|                  31|                   7|                   0|                   1|                   0|                   0|                   0|                   0|                   0|                   0|                   0|                   0|                   1|                   0|                   7|                   8|                   0|                   0|                   0|                   0|                   1|                   0|                   7|                  31|        e4|e5|\n",
            "+--------------------+-------+------------+----------------+--------+----+-----------+---------+-----+-----+--------------------+--------+-------------+--------------+----------------------+------------+------------------------+-----------+-----------+----------------+----------------+-----------------+-----------------+------------------+------------------+------------------+------------------+----------------+----------------+------------------------+------------------------+--------------------+--------------------+--------------------+--------------------+--------------------+--------------------+--------------------+--------------------+--------------------+--------------------+--------------------+--------------------+--------------------+--------------------+--------------------+--------------------+--------------------+--------------------+--------------------+--------------------+--------------------+--------------------+--------------------+--------------------+--------------------+--------------------+--------------------+--------------------+--------------------+--------------------+--------------------+--------------------+-------------+\n",
            "only showing top 2 rows\n",
            "\n"
          ]
        }
      ]
    },
    {
      "cell_type": "code",
      "source": [
        "longestGameEverPlayed = chess_wc_history_moves.selectExpr(\"cast(move_no as int) move_no\").toPandas()"
      ],
      "metadata": {
        "id": "yw0DQS6svi3a"
      },
      "execution_count": 33,
      "outputs": []
    },
    {
      "cell_type": "code",
      "source": [
        "longestGameEverPlayed.max()"
      ],
      "metadata": {
        "colab": {
          "base_uri": "https://localhost:8080/"
        },
        "id": "n_N_NLomyj8u",
        "outputId": "83e0d9bf-54ae-499a-f767-5bd15ffb14b4"
      },
      "execution_count": 34,
      "outputs": [
        {
          "output_type": "execute_result",
          "data": {
            "text/plain": [
              "move_no    291\n",
              "dtype: int32"
            ]
          },
          "metadata": {},
          "execution_count": 34
        }
      ]
    },
    {
      "cell_type": "code",
      "source": [
        "shortestGameEverPlayed=longestGameEverPlayed.min()\n",
        "shortestGameEverPlayed"
      ],
      "metadata": {
        "colab": {
          "base_uri": "https://localhost:8080/"
        },
        "id": "b6UcrimIynxu",
        "outputId": "00bab858-2aaa-4405-b7ec-30f9a6006e0a"
      },
      "execution_count": 35,
      "outputs": [
        {
          "output_type": "execute_result",
          "data": {
            "text/plain": [
              "move_no    1\n",
              "dtype: int32"
            ]
          },
          "metadata": {},
          "execution_count": 35
        }
      ]
    },
    {
      "cell_type": "code",
      "source": [
        "chess_wc_history_moves.select('game_id','player').where(chess_wc_history_moves.move_no == 291 & 1).show()"
      ],
      "metadata": {
        "colab": {
          "base_uri": "https://localhost:8080/"
        },
        "id": "qhzVQYBa2fJa",
        "outputId": "bd6c5d8e-8e74-4e2e-8b72-8e8081f81b39"
      },
      "execution_count": 36,
      "outputs": [
        {
          "output_type": "stream",
          "name": "stdout",
          "text": [
            "+--------------------+----------------+\n",
            "|             game_id|          player|\n",
            "+--------------------+----------------+\n",
            "|86e0b7f5-7b94-4ae...|Nepomniachtchi,I|\n",
            "|dc4a10ab-54cf-49d...|       Carlsen,M|\n",
            "|f042ca37-8899-488...|Nepomniachtchi,I|\n",
            "|f70e4bbc-21e3-46f...|       Carlsen,M|\n",
            "|c941c323-308a-4c8...|Nepomniachtchi,I|\n",
            "|58e83255-93bb-4d5...|       Carlsen,M|\n",
            "|29181d93-73f4-4fb...|Nepomniachtchi,I|\n",
            "|8a4ccd8c-d437-429...|       Carlsen,M|\n",
            "|55a122db-27d1-495...|Nepomniachtchi,I|\n",
            "|1f900d18-5ea3-4f4...|       Carlsen,M|\n",
            "|c512a953-a341-47c...|Nepomniachtchi,I|\n",
            "|99d39a93-427e-4d1...|Caruana, Fabiano|\n",
            "|c87ceb3e-67a7-45d...| Carlsen, Magnus|\n",
            "|d50510ea-9c1a-460...|Caruana, Fabiano|\n",
            "|e899e16a-281e-41b...| Carlsen, Magnus|\n",
            "|59f8da88-fd21-405...|Caruana, Fabiano|\n",
            "|6dcc4b46-3155-47e...| Carlsen, Magnus|\n",
            "|c0c727cf-03ec-4b4...| Carlsen, Magnus|\n",
            "|4c14e044-cacc-405...|Caruana, Fabiano|\n",
            "|3f4eb26e-3cd1-43b...| Carlsen, Magnus|\n",
            "+--------------------+----------------+\n",
            "only showing top 20 rows\n",
            "\n"
          ]
        }
      ]
    },
    {
      "cell_type": "markdown",
      "source": [
        "7. Most and Least rated Player.\n",
        "Result attributes: player_name, elo\n",
        "Chess Funda: elo is the rating of the player in chess tournament. Final result will have only two rows"
      ],
      "metadata": {
        "id": "YywpKYtfWUi2"
      }
    },
    {
      "cell_type": "code",
      "source": [
        "Most_Least_Rated_Player = chess_wc_history_game_info.selectExpr(\"cast(winner_loser_elo_diff as int) winner_loser_elo_diff\").toPandas()"
      ],
      "metadata": {
        "id": "0D64AsXY1L1g"
      },
      "execution_count": 37,
      "outputs": []
    },
    {
      "cell_type": "code",
      "source": [
        "Most_Least_Rated_Player.max()"
      ],
      "metadata": {
        "colab": {
          "base_uri": "https://localhost:8080/"
        },
        "id": "jE_39YkD1ddm",
        "outputId": "fbec2f50-98a5-4556-86a6-315881dddc49"
      },
      "execution_count": 38,
      "outputs": [
        {
          "output_type": "execute_result",
          "data": {
            "text/plain": [
              "winner_loser_elo_diff    661.0\n",
              "dtype: float64"
            ]
          },
          "metadata": {},
          "execution_count": 38
        }
      ]
    },
    {
      "cell_type": "code",
      "source": [
        "Most_Least_Rated_Player.min()"
      ],
      "metadata": {
        "colab": {
          "base_uri": "https://localhost:8080/"
        },
        "id": "TJ0Aco2q1iLv",
        "outputId": "7b996119-ee73-4c39-ce9e-e7ca1035b88e"
      },
      "execution_count": 39,
      "outputs": [
        {
          "output_type": "execute_result",
          "data": {
            "text/plain": [
              "winner_loser_elo_diff   -402.0\n",
              "dtype: float64"
            ]
          },
          "metadata": {},
          "execution_count": 39
        }
      ]
    },
    {
      "cell_type": "code",
      "source": [
        "chess_wc_history_game_info.select('winner','loser').where(chess_wc_history_game_info.winner_loser_elo_diff == 661.0).show() #Most "
      ],
      "metadata": {
        "colab": {
          "base_uri": "https://localhost:8080/"
        },
        "id": "2-Lr2cL31-M_",
        "outputId": "4ad26565-37af-4837-e250-a3132b8b67ae"
      },
      "execution_count": 40,
      "outputs": [
        {
          "output_type": "stream",
          "name": "stdout",
          "text": [
            "+---------+---------+\n",
            "|   winner|    loser|\n",
            "+---------+---------+\n",
            "|Topalov,V|Abulhul,T|\n",
            "|Topalov,V|Abulhul,T|\n",
            "+---------+---------+\n",
            "\n"
          ]
        }
      ]
    },
    {
      "cell_type": "code",
      "source": [
        "chess_wc_history_game_info.select('winner','loser').where(chess_wc_history_game_info.winner_loser_elo_diff == -402.0).show() #Least"
      ],
      "metadata": {
        "colab": {
          "base_uri": "https://localhost:8080/"
        },
        "id": "GH9tLfvj2Lut",
        "outputId": "13ad48c2-b57a-499c-97fa-2c228452a68a"
      },
      "execution_count": 41,
      "outputs": [
        {
          "output_type": "stream",
          "name": "stdout",
          "text": [
            "+---------+-------+\n",
            "|   winner|  loser|\n",
            "+---------+-------+\n",
            "|Touzane,O|Anand,V|\n",
            "+---------+-------+\n",
            "\n"
          ]
        }
      ]
    },
    {
      "cell_type": "markdown",
      "source": [
        "\n",
        "8. 3rd Last Player with most Loss. Result attributes: player_name Final result will have only one row"
      ],
      "metadata": {
        "id": "wArNkb-BWZ2c"
      }
    },
    {
      "cell_type": "code",
      "source": [
        "chess_wc_history_game_info.select('loser').where(chess_wc_history_game_info.result == '0-1').show()"
      ],
      "metadata": {
        "colab": {
          "base_uri": "https://localhost:8080/"
        },
        "id": "Roswol2q5E1y",
        "outputId": "c76fe6d5-1cc9-437a-cd6b-a49d15642f9c"
      },
      "execution_count": 91,
      "outputs": [
        {
          "output_type": "stream",
          "name": "stdout",
          "text": [
            "+------------------+\n",
            "|             loser|\n",
            "+------------------+\n",
            "|  Nepomniachtchi,I|\n",
            "|  Nepomniachtchi,I|\n",
            "|   Carlsen, Magnus|\n",
            "|  Karjakin, Sergey|\n",
            "|Anand, Viswanathan|\n",
            "|Anand, Viswanathan|\n",
            "|         Topalov,V|\n",
            "|         Kramnik,V|\n",
            "|         Kramnik,V|\n",
            "|         Aronian,L|\n",
            "|         Aronian,L|\n",
            "|         Topalov,V|\n",
            "|         Kramnik,V|\n",
            "|         Kramnik,V|\n",
            "|         Polgar,Ju|\n",
            "|            Leko,P|\n",
            "|      Morozevich,A|\n",
            "|      Morozevich,A|\n",
            "|         Svidler,P|\n",
            "|         Polgar,Ju|\n",
            "+------------------+\n",
            "only showing top 20 rows\n",
            "\n"
          ]
        }
      ]
    },
    {
      "cell_type": "code",
      "source": [
        "chess_wc_history_game_info.select('loser').sort([chess_wc_history_game_info.result == '0-1'],\n",
        "               ascending = False).show(3)"
      ],
      "metadata": {
        "colab": {
          "base_uri": "https://localhost:8080/"
        },
        "id": "UNMkT9dObNoM",
        "outputId": "e9fce681-534b-4934-f834-0a76cc8c03de"
      },
      "execution_count": 104,
      "outputs": [
        {
          "output_type": "stream",
          "name": "stdout",
          "text": [
            "+----------------+\n",
            "|           loser|\n",
            "+----------------+\n",
            "|Nepomniachtchi,I|\n",
            "|Karjakin, Sergey|\n",
            "|Nepomniachtchi,I|\n",
            "+----------------+\n",
            "only showing top 3 rows\n",
            "\n"
          ]
        }
      ]
    },
    {
      "cell_type": "markdown",
      "source": [
        "\n",
        "9. How many times players with low rating won matches with their total win Count. Result attributes: player_name, win_count"
      ],
      "metadata": {
        "id": "EcqGqtqHWdVW"
      }
    },
    {
      "cell_type": "code",
      "source": [
        "chess_wc_history_game_info.groupBy(\"winner\").count().show(10)"
      ],
      "metadata": {
        "colab": {
          "base_uri": "https://localhost:8080/"
        },
        "id": "7UfK0KzeTdqK",
        "outputId": "ace7bc1b-4734-4269-dc70-74d9a2a78982"
      },
      "execution_count": 94,
      "outputs": [
        {
          "output_type": "stream",
          "name": "stdout",
          "text": [
            "+---------------+-----+\n",
            "|         winner|count|\n",
            "+---------------+-----+\n",
            "|Fridman, Daniel|    2|\n",
            "| Svidler, Peter|    4|\n",
            "|Alterman, Boris|    1|\n",
            "|     Ivanchuk,V|   12|\n",
            "| Andersson, Ulf|    5|\n",
            "|Jussupow, Artur|    1|\n",
            "|       Piket,Je|    3|\n",
            "| Van Wely, Loek|    4|\n",
            "|    Onischuk,Al|    1|\n",
            "|   Peng Xiaomin|    5|\n",
            "+---------------+-----+\n",
            "only showing top 10 rows\n",
            "\n"
          ]
        }
      ]
    },
    {
      "cell_type": "markdown",
      "source": [
        "\n",
        "10. Move Sequence for Each Player in a Match.\n",
        "Result attributes: game_id, player_name, move_sequence, move_count"
      ],
      "metadata": {
        "id": "TexdjI71Wif6"
      }
    },
    {
      "cell_type": "code",
      "source": [
        "chess_wc_history_moves.select('game_id','player','move_sequence','move_no').show()"
      ],
      "metadata": {
        "id": "GgaR9mSaWlgS",
        "colab": {
          "base_uri": "https://localhost:8080/"
        },
        "outputId": "11ec13b3-65bd-4bca-d70e-237792f9ee80"
      },
      "execution_count": 81,
      "outputs": [
        {
          "output_type": "stream",
          "name": "stdout",
          "text": [
            "+--------------------+----------------+--------------------+-------+\n",
            "|             game_id|          player|       move_sequence|move_no|\n",
            "+--------------------+----------------+--------------------+-------+\n",
            "|86e0b7f5-7b94-4ae...|Nepomniachtchi,I|                  e4|      1|\n",
            "|86e0b7f5-7b94-4ae...|       Carlsen,M|               e4|e5|      2|\n",
            "|86e0b7f5-7b94-4ae...|Nepomniachtchi,I|           e4|e5|Nf3|      3|\n",
            "|86e0b7f5-7b94-4ae...|       Carlsen,M|       e4|e5|Nf3|Nc6|      4|\n",
            "|86e0b7f5-7b94-4ae...|Nepomniachtchi,I|   e4|e5|Nf3|Nc6|Bb5|      5|\n",
            "|86e0b7f5-7b94-4ae...|       Carlsen,M|e4|e5|Nf3|Nc6|Bb5|a6|      6|\n",
            "|86e0b7f5-7b94-4ae...|Nepomniachtchi,I|e4|e5|Nf3|Nc6|Bb5...|      7|\n",
            "|86e0b7f5-7b94-4ae...|       Carlsen,M|e4|e5|Nf3|Nc6|Bb5...|      8|\n",
            "|86e0b7f5-7b94-4ae...|Nepomniachtchi,I|e4|e5|Nf3|Nc6|Bb5...|      9|\n",
            "|86e0b7f5-7b94-4ae...|       Carlsen,M|e4|e5|Nf3|Nc6|Bb5...|     10|\n",
            "|86e0b7f5-7b94-4ae...|Nepomniachtchi,I|e4|e5|Nf3|Nc6|Bb5...|     11|\n",
            "|86e0b7f5-7b94-4ae...|       Carlsen,M|e4|e5|Nf3|Nc6|Bb5...|     12|\n",
            "|86e0b7f5-7b94-4ae...|Nepomniachtchi,I|e4|e5|Nf3|Nc6|Bb5...|     13|\n",
            "|86e0b7f5-7b94-4ae...|       Carlsen,M|e4|e5|Nf3|Nc6|Bb5...|     14|\n",
            "|86e0b7f5-7b94-4ae...|Nepomniachtchi,I|e4|e5|Nf3|Nc6|Bb5...|     15|\n",
            "|86e0b7f5-7b94-4ae...|       Carlsen,M|e4|e5|Nf3|Nc6|Bb5...|     16|\n",
            "|86e0b7f5-7b94-4ae...|Nepomniachtchi,I|e4|e5|Nf3|Nc6|Bb5...|     17|\n",
            "|86e0b7f5-7b94-4ae...|       Carlsen,M|e4|e5|Nf3|Nc6|Bb5...|     18|\n",
            "|86e0b7f5-7b94-4ae...|Nepomniachtchi,I|e4|e5|Nf3|Nc6|Bb5...|     19|\n",
            "|86e0b7f5-7b94-4ae...|       Carlsen,M|e4|e5|Nf3|Nc6|Bb5...|     20|\n",
            "+--------------------+----------------+--------------------+-------+\n",
            "only showing top 20 rows\n",
            "\n"
          ]
        }
      ]
    },
    {
      "cell_type": "markdown",
      "source": [
        "\n",
        "11. Total Number of games where losing player has more Captured score than Winning player. Hint: Captured score is cumulative, i.e., for 3rd capture it will have score for 1, 2, and 3rd. Result attributes: total_number_of_games Final result will have only one row"
      ],
      "metadata": {
        "id": "9WHZdVJAWl-0"
      }
    },
    {
      "cell_type": "code",
      "source": [
        "chess_wc_history_game_info.select('loser', 'tournament_name', 'result').where(chess_wc_history_game_info.result == '0-1').groupBy().count().show()"
      ],
      "metadata": {
        "id": "9mDRcP2eWpEI",
        "colab": {
          "base_uri": "https://localhost:8080/"
        },
        "outputId": "e2ede9f6-78c4-4c26-afe8-d03a1217f78a"
      },
      "execution_count": 110,
      "outputs": [
        {
          "output_type": "stream",
          "name": "stdout",
          "text": [
            "+-----+\n",
            "|count|\n",
            "+-----+\n",
            "|  516|\n",
            "+-----+\n",
            "\n"
          ]
        }
      ]
    },
    {
      "cell_type": "markdown",
      "source": [
        "\n",
        "12. List All Perfect Tournament with Winner Name.\n",
        "Chess Funda: Perfect Tournament means a player has won all the matches excluding draw matches. e.g Player A has won 5 matches out of 7 Matches in tournament where 2 matches are draw and player B has won 0 matches)\n",
        "Result attributes: winner_name, tournament_name"
      ],
      "metadata": {
        "id": "qqa6k8SwWpfx"
      }
    },
    {
      "cell_type": "code",
      "source": [
        "chess_wc_history_game_info.select('winner', 'tournament_name', 'result').where(chess_wc_history_game_info.result == '1-0').show()"
      ],
      "metadata": {
        "id": "sCei8NMWWsif",
        "colab": {
          "base_uri": "https://localhost:8080/"
        },
        "outputId": "a7c6d9cb-1f79-49fa-fac6-ebdea729df1a"
      },
      "execution_count": 105,
      "outputs": [
        {
          "output_type": "stream",
          "name": "stdout",
          "text": [
            "+------------------+---------------+------+\n",
            "|            winner|tournament_name|result|\n",
            "+------------------+---------------+------+\n",
            "|         Carlsen,M| WorldChamp2021|   1-0|\n",
            "|         Carlsen,M| WorldChamp2021|   1-0|\n",
            "|   Carlsen, Magnus| WorldChamp2016|   1-0|\n",
            "|   Carlsen, Magnus| WorldChamp2016|   1-0|\n",
            "|   Carlsen, Magnus| WorldChamp2014|   1-0|\n",
            "|Anand, Viswanathan| WorldChamp2014|   1-0|\n",
            "|   Carlsen, Magnus| WorldChamp2014|   1-0|\n",
            "|   Carlsen, Magnus| WorldChamp2014|   1-0|\n",
            "|   Carlsen, Magnus| WorldChamp2013|   1-0|\n",
            "|         Gelfand,B| WorldChamp2012|   1-0|\n",
            "|           Anand,V| WorldChamp2012|   1-0|\n",
            "|Anand, Viswanathan| WorldChamp2012|   1-0|\n",
            "|         Topalov,V| WorldChamp2010|   1-0|\n",
            "|           Anand,V| WorldChamp2010|   1-0|\n",
            "|           Anand,V| WorldChamp2010|   1-0|\n",
            "|         Topalov,V| WorldChamp2010|   1-0|\n",
            "|           Anand,V| WorldChamp2008|   1-0|\n",
            "|         Kramnik,V| WorldChamp2008|   1-0|\n",
            "|         Kramnik,V| WorldChamp2007|   1-0|\n",
            "|      Morozevich,A| WorldChamp2007|   1-0|\n",
            "+------------------+---------------+------+\n",
            "only showing top 20 rows\n",
            "\n"
          ]
        }
      ]
    },
    {
      "cell_type": "markdown",
      "source": [
        "\n",
        "13. Player with highest winning ratio.\n",
        "Hint: Winning ratio: (Number of rounds won)/(Number of rounds played) Result attributes: player_name\n",
        "Final result will have only one row"
      ],
      "metadata": {
        "id": "xtGKvYVYWs-R"
      }
    },
    {
      "cell_type": "code",
      "source": [
        "chess_wc_history_game_info.show(2)"
      ],
      "metadata": {
        "id": "nHVcjR76Wxz1",
        "colab": {
          "base_uri": "https://localhost:8080/"
        },
        "outputId": "bdb57f18-9807-4f19-f0f6-789ed0134a1b"
      },
      "execution_count": 72,
      "outputs": [
        {
          "output_type": "stream",
          "name": "stdout",
          "text": [
            "+--------------------+----------+--------+---------+-----------+-----+----------------+----------------+-------+---------+---------+-----------+-----------+------+----------+-----+---------+---------------------+---+--------------------+---------------+\n",
            "|             game_id|game_order|   event|     site|date_played|round|           white|           black| result|white_elo|black_elo|white_title|black_title|winner|winner_elo|loser|loser_elo|winner_loser_elo_diff|eco|        date_created|tournament_name|\n",
            "+--------------------+----------+--------+---------+-----------+-----+----------------+----------------+-------+---------+---------+-----------+-----------+------+----------+-----+---------+---------------------+---+--------------------+---------------+\n",
            "|86e0b7f5-7b94-4ae...|         1|WCh 2021|Dubai UAE| 2021.11.26|    1|Nepomniachtchi,I|       Carlsen,M|1/2-1/2|     2782|     2855|       null|       null|  draw|      null| draw|     null|                    0|C88|2022-07-22T22:33:...| WorldChamp2021|\n",
            "|dc4a10ab-54cf-49d...|         2|WCh 2021|Dubai UAE| 2021.11.27|    2|       Carlsen,M|Nepomniachtchi,I|1/2-1/2|     2855|     2782|       null|       null|  draw|      null| draw|     null|                    0|E06|2022-07-22T22:33:...| WorldChamp2021|\n",
            "+--------------------+----------+--------+---------+-----------+-----+----------------+----------------+-------+---------+---------+-----------+-----------+------+----------+-----+---------+---------------------+---+--------------------+---------------+\n",
            "only showing top 2 rows\n",
            "\n"
          ]
        }
      ]
    },
    {
      "cell_type": "code",
      "source": [
        "chess_wc_history_game_info.select('winner', 'round', 'result').where(chess_wc_history_game_info.result == '1-0').show()"
      ],
      "metadata": {
        "colab": {
          "base_uri": "https://localhost:8080/"
        },
        "id": "6VBIqN0cPuhJ",
        "outputId": "a9576c01-b5d5-4740-def7-564ff19bcd96"
      },
      "execution_count": 65,
      "outputs": [
        {
          "output_type": "stream",
          "name": "stdout",
          "text": [
            "+------------------+-----+------+\n",
            "|            winner|round|result|\n",
            "+------------------+-----+------+\n",
            "|         Carlsen,M|    6|   1-0|\n",
            "|         Carlsen,M|    8|   1-0|\n",
            "|   Carlsen, Magnus|   10|   1-0|\n",
            "|   Carlsen, Magnus|    4|   1-0|\n",
            "|   Carlsen, Magnus|    2|   1-0|\n",
            "|Anand, Viswanathan|    3|   1-0|\n",
            "|   Carlsen, Magnus|    6|   1-0|\n",
            "|   Carlsen, Magnus|   11|   1-0|\n",
            "|   Carlsen, Magnus|    5|   1-0|\n",
            "|         Gelfand,B|    7|   1-0|\n",
            "|           Anand,V|    8|   1-0|\n",
            "|Anand, Viswanathan|    2|   1-0|\n",
            "|         Topalov,V|    1|   1-0|\n",
            "|           Anand,V|    2|   1-0|\n",
            "|           Anand,V|    4|   1-0|\n",
            "|         Topalov,V|    8|   1-0|\n",
            "|           Anand,V|    6|   1-0|\n",
            "|         Kramnik,V|   10|   1-0|\n",
            "|         Kramnik,V|    2|   1-0|\n",
            "|      Morozevich,A|    3|   1-0|\n",
            "+------------------+-----+------+\n",
            "only showing top 20 rows\n",
            "\n"
          ]
        }
      ]
    },
    {
      "cell_type": "code",
      "source": [
        "chess_wc_history_game_info.select('winner', 'round', 'result').where(chess_wc_history_game_info.round == '11').show()"
      ],
      "metadata": {
        "colab": {
          "base_uri": "https://localhost:8080/"
        },
        "id": "J6Tkyd47SmSf",
        "outputId": "49e785a1-1235-47f5-9c0b-c001d09c33db"
      },
      "execution_count": 68,
      "outputs": [
        {
          "output_type": "stream",
          "name": "stdout",
          "text": [
            "+---------------+-----+-------+\n",
            "|         winner|round| result|\n",
            "+---------------+-----+-------+\n",
            "|      Carlsen,M|   11|    0-1|\n",
            "|           draw|   11|1/2-1/2|\n",
            "|           draw|   11|1/2-1/2|\n",
            "|Carlsen, Magnus|   11|    1-0|\n",
            "|           draw|   11|1/2-1/2|\n",
            "|           draw|   11|1/2-1/2|\n",
            "|           draw|   11|1/2-1/2|\n",
            "|           draw|   11|1/2-1/2|\n",
            "|        Anand,V|   11|    1-0|\n",
            "|           draw|   11|1/2-1/2|\n",
            "|           draw|   11|1/2-1/2|\n",
            "|           draw|   11|1/2-1/2|\n",
            "|           draw|   11|1/2-1/2|\n",
            "|        Anand,V|   11|    1-0|\n",
            "|           draw|   11|1/2-1/2|\n",
            "|      Svidler,P|   11|    1-0|\n",
            "|           draw|   11|1/2-1/2|\n",
            "|           draw|   11|1/2-1/2|\n",
            "|           draw|   11|1/2-1/2|\n",
            "| Kasparov, Gary|   11|    0-1|\n",
            "+---------------+-----+-------+\n",
            "only showing top 20 rows\n",
            "\n"
          ]
        }
      ]
    },
    {
      "cell_type": "markdown",
      "source": [
        "\n",
        "14. Player who had given checkmate with Pawn. Note: Consider all events for this query Result attributes: player_name\n",
        "Final result will have only one row"
      ],
      "metadata": {
        "id": "m5dMEwiFWyZH"
      }
    },
    {
      "cell_type": "code",
      "source": [
        "chess_wc_history_moves.show(2)"
      ],
      "metadata": {
        "colab": {
          "base_uri": "https://localhost:8080/"
        },
        "id": "E3JrN0rrMd8L",
        "outputId": "85b33536-c281-4da9-da99-79d052351869"
      },
      "execution_count": 59,
      "outputs": [
        {
          "output_type": "stream",
          "name": "stdout",
          "text": [
            "+--------------------+-------+------------+----------------+--------+----+-----------+---------+-----+-----+--------------------+--------+-------------+--------------+----------------------+------------+------------------------+-----------+-----------+----------------+----------------+-----------------+-----------------+------------------+------------------+------------------+------------------+----------------+----------------+------------------------+------------------------+--------------------+--------------------+--------------------+--------------------+--------------------+--------------------+--------------------+--------------------+--------------------+--------------------+--------------------+--------------------+--------------------+--------------------+--------------------+--------------------+--------------------+--------------------+--------------------+--------------------+--------------------+--------------------+--------------------+--------------------+--------------------+--------------------+--------------------+--------------------+--------------------+--------------------+--------------------+--------------------+-------------+\n",
            "|             game_id|move_no|move_no_pair|          player|notation|move|from_square|to_square|piece|color|                 fen|is_check|is_check_mate|is_fifty_moves|is_fivefold_repetition|is_game_over|is_insufficient_material|white_count|black_count|white_pawn_count|black_pawn_count|white_queen_count|black_queen_count|white_bishop_count|black_bishop_count|white_knight_count|black_knight_count|white_rook_count|black_rook_count|captured_score_for_white|captured_score_for_black|fen_row1_white_count|fen_row2_white_count|fen_row3_white_count|fen_row4_white_count|fen_row5_white_count|fen_row6_white_count|fen_row7_white_count|fen_row8_white_count|fen_row1_white_value|fen_row2_white_value|fen_row3_white_value|fen_row4_white_value|fen_row5_white_value|fen_row6_white_value|fen_row7_white_value|fen_row8_white_value|fen_row1_black_count|fen_row2_black_count|fen_row3_black_count|fen_row4_black_count|fen_row5_black_count|fen_row6_black_count|fen_row7_black_count|fen_row8_black_count|fen_row1_black_value|fen_row2_black_value|fen_row3_black_value|fen_row4_black_value|fen_row5_black_value|fen_row6_black_value|fen_row7_black_value|fen_row8_black_value|move_sequence|\n",
            "+--------------------+-------+------------+----------------+--------+----+-----------+---------+-----+-----+--------------------+--------+-------------+--------------+----------------------+------------+------------------------+-----------+-----------+----------------+----------------+-----------------+-----------------+------------------+------------------+------------------+------------------+----------------+----------------+------------------------+------------------------+--------------------+--------------------+--------------------+--------------------+--------------------+--------------------+--------------------+--------------------+--------------------+--------------------+--------------------+--------------------+--------------------+--------------------+--------------------+--------------------+--------------------+--------------------+--------------------+--------------------+--------------------+--------------------+--------------------+--------------------+--------------------+--------------------+--------------------+--------------------+--------------------+--------------------+--------------------+--------------------+-------------+\n",
            "|86e0b7f5-7b94-4ae...|      1|           1|Nepomniachtchi,I|      e4|e2e4|         e2|       e4|    P|White|rnbqkbnr/pppppppp...|       0|            0|             0|                     0|           0|                       0|         16|         16|               8|               8|                1|                1|                 2|                 2|                 2|                 2|               2|               2|                       0|                       0|                   8|                   7|                   0|                   1|                   0|                   0|                   0|                   0|                  31|                   7|                   0|                   1|                   0|                   0|                   0|                   0|                   0|                   0|                   0|                   0|                   0|                   0|                   8|                   8|                   0|                   0|                   0|                   0|                   0|                   0|                   8|                  31|           e4|\n",
            "|86e0b7f5-7b94-4ae...|      2|           1|       Carlsen,M|      e5|e7e5|         e7|       e5|    P|Black|rnbqkbnr/pppp1ppp...|       0|            0|             0|                     0|           0|                       0|         16|         16|               8|               8|                1|                1|                 2|                 2|                 2|                 2|               2|               2|                       0|                       0|                   8|                   7|                   0|                   1|                   0|                   0|                   0|                   0|                  31|                   7|                   0|                   1|                   0|                   0|                   0|                   0|                   0|                   0|                   0|                   0|                   1|                   0|                   7|                   8|                   0|                   0|                   0|                   0|                   1|                   0|                   7|                  31|        e4|e5|\n",
            "+--------------------+-------+------------+----------------+--------+----+-----------+---------+-----+-----+--------------------+--------+-------------+--------------+----------------------+------------+------------------------+-----------+-----------+----------------+----------------+-----------------+-----------------+------------------+------------------+------------------+------------------+----------------+----------------+------------------------+------------------------+--------------------+--------------------+--------------------+--------------------+--------------------+--------------------+--------------------+--------------------+--------------------+--------------------+--------------------+--------------------+--------------------+--------------------+--------------------+--------------------+--------------------+--------------------+--------------------+--------------------+--------------------+--------------------+--------------------+--------------------+--------------------+--------------------+--------------------+--------------------+--------------------+--------------------+--------------------+--------------------+-------------+\n",
            "only showing top 2 rows\n",
            "\n"
          ]
        }
      ]
    },
    {
      "cell_type": "code",
      "source": [
        "chess_wc_history_moves.selectExpr(\"cast(is_check_mate as int) is_check_mate\")"
      ],
      "metadata": {
        "colab": {
          "base_uri": "https://localhost:8080/"
        },
        "id": "K75XAnN6Md5S",
        "outputId": "81643aac-f587-4022-a058-7e850ab63ae1"
      },
      "execution_count": 55,
      "outputs": [
        {
          "output_type": "execute_result",
          "data": {
            "text/plain": [
              "DataFrame[is_check_mate: int]"
            ]
          },
          "metadata": {},
          "execution_count": 55
        }
      ]
    },
    {
      "cell_type": "code",
      "source": [
        "chess_wc_history_moves.select('player','white_pawn_count','black_pawn_count','is_check_mate').where(chess_wc_history_moves.is_check_mate == 1).show()"
      ],
      "metadata": {
        "colab": {
          "base_uri": "https://localhost:8080/"
        },
        "id": "hlp03RQtMdWH",
        "outputId": "a81444c4-58fd-4112-f71d-8f6de51e725d"
      },
      "execution_count": 62,
      "outputs": [
        {
          "output_type": "stream",
          "name": "stdout",
          "text": [
            "+-------------------+----------------+----------------+-------------+\n",
            "|             player|white_pawn_count|black_pawn_count|is_check_mate|\n",
            "+-------------------+----------------+----------------+-------------+\n",
            "|         Nakamura,H|               1|               1|            1|\n",
            "|         Ciuksyte,D|               4|               4|            1|\n",
            "|           Paehtz,E|               5|               3|            1|\n",
            "|          Polgar,Ju|               5|               4|            1|\n",
            "|         Van Wely,L|               2|               4|            1|\n",
            "|        Movsesian,S|               4|               4|            1|\n",
            "|     Andersson, Ulf|               3|               3|            1|\n",
            "|Alekhine, Alexander|               4|               6|            1|\n",
            "+-------------------+----------------+----------------+-------------+\n",
            "\n"
          ]
        }
      ]
    },
    {
      "cell_type": "markdown",
      "source": [
        "\n",
        "15. List games where player has won game without queen. Result attributes: game_id, event, player_name\n"
      ],
      "metadata": {
        "id": "-dU6eVBASU0G"
      }
    },
    {
      "cell_type": "code",
      "source": [
        "chess_wc_history_moves.selectExpr(\"cast(white_queen_count as int) white_queen_count\")"
      ],
      "metadata": {
        "colab": {
          "base_uri": "https://localhost:8080/"
        },
        "id": "-AHbojS9KaN0",
        "outputId": "01278f62-f937-4a94-dcce-5c73e3df812b"
      },
      "execution_count": 49,
      "outputs": [
        {
          "output_type": "execute_result",
          "data": {
            "text/plain": [
              "DataFrame[white_queen_count: int]"
            ]
          },
          "metadata": {},
          "execution_count": 49
        }
      ]
    },
    {
      "cell_type": "code",
      "source": [
        "chess_wc_history_moves.selectExpr(\"cast(black_queen_count as int) black_queen_count\")"
      ],
      "metadata": {
        "colab": {
          "base_uri": "https://localhost:8080/"
        },
        "id": "i4Md-qZQLPaH",
        "outputId": "798db1e9-3271-40c7-a36c-310ecf0b7d5a"
      },
      "execution_count": 50,
      "outputs": [
        {
          "output_type": "execute_result",
          "data": {
            "text/plain": [
              "DataFrame[black_queen_count: int]"
            ]
          },
          "metadata": {},
          "execution_count": 50
        }
      ]
    },
    {
      "cell_type": "code",
      "source": [
        "chess_wc_history_moves.select('game_id','player').where(chess_wc_history_moves.white_queen_count == 0).show()"
      ],
      "metadata": {
        "colab": {
          "base_uri": "https://localhost:8080/"
        },
        "id": "WPz_Y9gsLdcl",
        "outputId": "99c1affc-4717-4fda-efab-b75d310287f9"
      },
      "execution_count": 51,
      "outputs": [
        {
          "output_type": "stream",
          "name": "stdout",
          "text": [
            "+--------------------+----------------+\n",
            "|             game_id|          player|\n",
            "+--------------------+----------------+\n",
            "|86e0b7f5-7b94-4ae...|       Carlsen,M|\n",
            "|86e0b7f5-7b94-4ae...|Nepomniachtchi,I|\n",
            "|86e0b7f5-7b94-4ae...|       Carlsen,M|\n",
            "|86e0b7f5-7b94-4ae...|Nepomniachtchi,I|\n",
            "|86e0b7f5-7b94-4ae...|       Carlsen,M|\n",
            "|86e0b7f5-7b94-4ae...|Nepomniachtchi,I|\n",
            "|86e0b7f5-7b94-4ae...|       Carlsen,M|\n",
            "|86e0b7f5-7b94-4ae...|Nepomniachtchi,I|\n",
            "|86e0b7f5-7b94-4ae...|       Carlsen,M|\n",
            "|86e0b7f5-7b94-4ae...|Nepomniachtchi,I|\n",
            "|86e0b7f5-7b94-4ae...|       Carlsen,M|\n",
            "|86e0b7f5-7b94-4ae...|Nepomniachtchi,I|\n",
            "|86e0b7f5-7b94-4ae...|       Carlsen,M|\n",
            "|86e0b7f5-7b94-4ae...|Nepomniachtchi,I|\n",
            "|86e0b7f5-7b94-4ae...|       Carlsen,M|\n",
            "|86e0b7f5-7b94-4ae...|Nepomniachtchi,I|\n",
            "|86e0b7f5-7b94-4ae...|       Carlsen,M|\n",
            "|86e0b7f5-7b94-4ae...|Nepomniachtchi,I|\n",
            "|86e0b7f5-7b94-4ae...|       Carlsen,M|\n",
            "|86e0b7f5-7b94-4ae...|Nepomniachtchi,I|\n",
            "+--------------------+----------------+\n",
            "only showing top 20 rows\n",
            "\n"
          ]
        }
      ]
    },
    {
      "cell_type": "code",
      "source": [
        "chess_wc_history_moves.select('game_id','player').where(chess_wc_history_moves.black_queen_count == 0).show()"
      ],
      "metadata": {
        "colab": {
          "base_uri": "https://localhost:8080/"
        },
        "id": "EA3YEHB6LdZo",
        "outputId": "730f9c0b-52d0-4b2a-f3c1-845b6bc647bf"
      },
      "execution_count": 52,
      "outputs": [
        {
          "output_type": "stream",
          "name": "stdout",
          "text": [
            "+--------------------+----------------+\n",
            "|             game_id|          player|\n",
            "+--------------------+----------------+\n",
            "|86e0b7f5-7b94-4ae...|Nepomniachtchi,I|\n",
            "|86e0b7f5-7b94-4ae...|       Carlsen,M|\n",
            "|86e0b7f5-7b94-4ae...|Nepomniachtchi,I|\n",
            "|86e0b7f5-7b94-4ae...|       Carlsen,M|\n",
            "|86e0b7f5-7b94-4ae...|Nepomniachtchi,I|\n",
            "|86e0b7f5-7b94-4ae...|       Carlsen,M|\n",
            "|86e0b7f5-7b94-4ae...|Nepomniachtchi,I|\n",
            "|86e0b7f5-7b94-4ae...|       Carlsen,M|\n",
            "|86e0b7f5-7b94-4ae...|Nepomniachtchi,I|\n",
            "|86e0b7f5-7b94-4ae...|       Carlsen,M|\n",
            "|86e0b7f5-7b94-4ae...|Nepomniachtchi,I|\n",
            "|86e0b7f5-7b94-4ae...|       Carlsen,M|\n",
            "|86e0b7f5-7b94-4ae...|Nepomniachtchi,I|\n",
            "|86e0b7f5-7b94-4ae...|       Carlsen,M|\n",
            "|86e0b7f5-7b94-4ae...|Nepomniachtchi,I|\n",
            "|86e0b7f5-7b94-4ae...|       Carlsen,M|\n",
            "|86e0b7f5-7b94-4ae...|Nepomniachtchi,I|\n",
            "|86e0b7f5-7b94-4ae...|       Carlsen,M|\n",
            "|86e0b7f5-7b94-4ae...|Nepomniachtchi,I|\n",
            "|86e0b7f5-7b94-4ae...|       Carlsen,M|\n",
            "+--------------------+----------------+\n",
            "only showing top 20 rows\n",
            "\n"
          ]
        }
      ]
    },
    {
      "cell_type": "code",
      "source": [],
      "metadata": {
        "id": "FAwu2JktLdUG"
      },
      "execution_count": null,
      "outputs": []
    },
    {
      "cell_type": "code",
      "source": [],
      "metadata": {
        "id": "6hbv3o-HLdLf"
      },
      "execution_count": null,
      "outputs": []
    }
  ]
}