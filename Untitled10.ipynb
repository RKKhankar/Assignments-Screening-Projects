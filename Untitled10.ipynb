{
  "nbformat": 4,
  "nbformat_minor": 0,
  "metadata": {
    "colab": {
      "provenance": [],
      "collapsed_sections": [],
      "mount_file_id": "1nGDDWS2cmrIPQGnnY2CRRPooRBxKFLua",
      "authorship_tag": "ABX9TyO66686XtemeDIaYsHxKccK",
      "include_colab_link": true
    },
    "kernelspec": {
      "name": "python3",
      "display_name": "Python 3"
    },
    "language_info": {
      "name": "python"
    },
    "accelerator": "GPU"
  },
  "cells": [
    {
      "cell_type": "markdown",
      "metadata": {
        "id": "view-in-github",
        "colab_type": "text"
      },
      "source": [
        "<a href=\"https://colab.research.google.com/github/RKKhankar/Assignments-Screening-Projects/blob/main/Untitled10.ipynb\" target=\"_parent\"><img src=\"https://colab.research.google.com/assets/colab-badge.svg\" alt=\"Open In Colab\"/></a>"
      ]
    },
    {
      "cell_type": "code",
      "source": [
        "!apt-get update -y"
      ],
      "metadata": {
        "colab": {
          "base_uri": "https://localhost:8080/"
        },
        "id": "DjyhGB-UJFNk",
        "outputId": "87205170-8c16-48b9-8eaf-f273fceb144e"
      },
      "execution_count": 1,
      "outputs": [
        {
          "output_type": "stream",
          "name": "stdout",
          "text": [
            "\r0% [Working]\r            \rGet:1 https://cloud.r-project.org/bin/linux/ubuntu bionic-cran40/ InRelease [3,626 B]\n",
            "\r0% [Connecting to archive.ubuntu.com] [Connecting to security.ubuntu.com (91.18\r0% [Connecting to archive.ubuntu.com] [Connecting to security.ubuntu.com (91.18\r0% [1 InRelease gpgv 3,626 B] [Connecting to archive.ubuntu.com] [Waiting for h\r                                                                               \rIgn:2 https://developer.download.nvidia.com/compute/machine-learning/repos/ubuntu1804/x86_64  InRelease\n",
            "\r0% [1 InRelease gpgv 3,626 B] [Connecting to archive.ubuntu.com] [Waiting for h\r                                                                               \rHit:3 https://developer.download.nvidia.com/compute/cuda/repos/ubuntu1804/x86_64  InRelease\n",
            "\r0% [1 InRelease gpgv 3,626 B] [Connecting to archive.ubuntu.com] [Waiting for h\r                                                                               \rHit:4 https://developer.download.nvidia.com/compute/machine-learning/repos/ubuntu1804/x86_64  Release\n",
            "\r0% [1 InRelease gpgv 3,626 B] [Connecting to archive.ubuntu.com] [Waiting for h\r                                                                               \rGet:5 http://security.ubuntu.com/ubuntu bionic-security InRelease [88.7 kB]\n",
            "Hit:6 http://archive.ubuntu.com/ubuntu bionic InRelease\n",
            "Get:7 http://archive.ubuntu.com/ubuntu bionic-updates InRelease [88.7 kB]\n",
            "Get:8 http://ppa.launchpad.net/c2d4u.team/c2d4u4.0+/ubuntu bionic InRelease [15.9 kB]\n",
            "Get:10 http://archive.ubuntu.com/ubuntu bionic-backports InRelease [83.3 kB]\n",
            "Hit:11 http://ppa.launchpad.net/cran/libgit2/ubuntu bionic InRelease\n",
            "Get:12 http://security.ubuntu.com/ubuntu bionic-security/universe amd64 Packages [1,551 kB]\n",
            "Get:13 http://archive.ubuntu.com/ubuntu bionic-updates/main amd64 Packages [3,444 kB]\n",
            "Get:14 http://ppa.launchpad.net/deadsnakes/ppa/ubuntu bionic InRelease [15.9 kB]\n",
            "Get:15 http://security.ubuntu.com/ubuntu bionic-security/restricted amd64 Packages [1,187 kB]\n",
            "Get:16 http://security.ubuntu.com/ubuntu bionic-security/main amd64 Packages [3,018 kB]\n",
            "Hit:17 http://ppa.launchpad.net/graphics-drivers/ppa/ubuntu bionic InRelease\n",
            "Get:18 http://archive.ubuntu.com/ubuntu bionic-updates/restricted amd64 Packages [1,227 kB]\n",
            "Get:19 http://archive.ubuntu.com/ubuntu bionic-updates/universe amd64 Packages [2,328 kB]\n",
            "Get:20 http://ppa.launchpad.net/c2d4u.team/c2d4u4.0+/ubuntu bionic/main Sources [2,164 kB]\n",
            "Get:21 http://ppa.launchpad.net/c2d4u.team/c2d4u4.0+/ubuntu bionic/main amd64 Packages [1,109 kB]\n",
            "Get:22 http://ppa.launchpad.net/deadsnakes/ppa/ubuntu bionic/main amd64 Packages [45.3 kB]\n",
            "Fetched 16.4 MB in 4s (3,663 kB/s)\n",
            "Reading package lists... Done\n"
          ]
        }
      ]
    },
    {
      "cell_type": "code",
      "source": [
        "from google.colab import drive\n",
        "drive.mount('/content/drive')"
      ],
      "metadata": {
        "colab": {
          "base_uri": "https://localhost:8080/"
        },
        "id": "Jsq73LnqJ7nf",
        "outputId": "6d15c69d-5c69-4d4a-ec2d-382f35957084"
      },
      "execution_count": 2,
      "outputs": [
        {
          "output_type": "stream",
          "name": "stdout",
          "text": [
            "Drive already mounted at /content/drive; to attempt to forcibly remount, call drive.mount(\"/content/drive\", force_remount=True).\n"
          ]
        }
      ]
    },
    {
      "cell_type": "code",
      "execution_count": 3,
      "metadata": {
        "id": "xn0904uiIPxk"
      },
      "outputs": [],
      "source": [
        "!apt-get install openjdk-8-jdk-headless -qq > /dev/null"
      ]
    },
    {
      "cell_type": "code",
      "source": [
        "!wget -q https://archive.apache.org/dist/spark/spark-3.1.2/spark-3.1.2-bin-hadoop2.7.tgz"
      ],
      "metadata": {
        "id": "Fq7Ps8pUIZBC"
      },
      "execution_count": null,
      "outputs": []
    },
    {
      "cell_type": "code",
      "source": [
        "!tar xf spark-3.1.2-bin-hadoop2.7.tgz"
      ],
      "metadata": {
        "id": "TrM8X69wIhuZ"
      },
      "execution_count": null,
      "outputs": []
    },
    {
      "cell_type": "code",
      "source": [
        "import os\n",
        "os.environ[\"JAVA_HOME\"] = \"/usr/lib/jvm/java-8-openjdk-amd64\"\n",
        "os.environ[\"SPARK_HOME\"] = \"/content/spark-3.1.2-bin-hadoop2.7\""
      ],
      "metadata": {
        "id": "9wot_GquJHyY"
      },
      "execution_count": null,
      "outputs": []
    },
    {
      "cell_type": "code",
      "source": [
        "!pip install -q findspark"
      ],
      "metadata": {
        "id": "frJuXeueJM2G"
      },
      "execution_count": 7,
      "outputs": []
    },
    {
      "cell_type": "code",
      "source": [
        "import findspark\n",
        "findspark.init()"
      ],
      "metadata": {
        "id": "VDg7TyQcQoOx"
      },
      "execution_count": 8,
      "outputs": []
    },
    {
      "cell_type": "code",
      "source": [
        "from pyspark.sql import SparkSession\n",
        "spark = (SparkSession\n",
        "  .builder\n",
        "  .appName(\"<app_name>\")\n",
        "  .getOrCreate())"
      ],
      "metadata": {
        "id": "fN2RjikYQt_U"
      },
      "execution_count": 9,
      "outputs": []
    },
    {
      "cell_type": "code",
      "source": [
        "chess_wc_history_game_info = spark.read.option(\n",
        "  'header', 'true').csv(\"/content/drive/MyDrive/DataGROKR/chess/chess_wc_history_game_info.csv\")"
      ],
      "metadata": {
        "id": "ckKZn3pCQ70o"
      },
      "execution_count": 16,
      "outputs": []
    },
    {
      "cell_type": "code",
      "source": [
        "chess_wc_history_moves = spark.read.option(\n",
        "  'header', 'true').csv(\"/content/drive/MyDrive/DataGROKR/chess/chess_wc_history_moves.csv\")"
      ],
      "metadata": {
        "id": "2EuYQZLvRclk"
      },
      "execution_count": 17,
      "outputs": []
    },
    {
      "cell_type": "code",
      "source": [
        "eco_codes = spark.read.option(\n",
        "  'header', 'true').csv(\"/content/drive/MyDrive/DataGROKR/chess/eco_codes.csv\")"
      ],
      "metadata": {
        "id": "eM9skTR3RhU7"
      },
      "execution_count": 18,
      "outputs": []
    },
    {
      "cell_type": "code",
      "source": [
        "chess_wc_history_game_info.show(100)"
      ],
      "metadata": {
        "colab": {
          "base_uri": "https://localhost:8080/"
        },
        "id": "ujiIApYuRri0",
        "outputId": "6243ec7d-b408-4da7-d4aa-1cd0bf6907ac"
      },
      "execution_count": 28,
      "outputs": [
        {
          "output_type": "stream",
          "name": "stdout",
          "text": [
            "+--------------------+----------+------------------+---------------+-----------+-----+------------------+------------------+-------+---------+---------+-----------+-----------+------------------+----------+------------------+---------+---------------------+---+--------------------+---------------+\n",
            "|             game_id|game_order|             event|           site|date_played|round|             white|             black| result|white_elo|black_elo|white_title|black_title|            winner|winner_elo|             loser|loser_elo|winner_loser_elo_diff|eco|        date_created|tournament_name|\n",
            "+--------------------+----------+------------------+---------------+-----------+-----+------------------+------------------+-------+---------+---------+-----------+-----------+------------------+----------+------------------+---------+---------------------+---+--------------------+---------------+\n",
            "|86e0b7f5-7b94-4ae...|         1|          WCh 2021|      Dubai UAE| 2021.11.26|    1|  Nepomniachtchi,I|         Carlsen,M|1/2-1/2|     2782|     2855|       null|       null|              draw|      null|              draw|     null|                    0|C88|2022-07-22T22:33:...| WorldChamp2021|\n",
            "|dc4a10ab-54cf-49d...|         2|          WCh 2021|      Dubai UAE| 2021.11.27|    2|         Carlsen,M|  Nepomniachtchi,I|1/2-1/2|     2855|     2782|       null|       null|              draw|      null|              draw|     null|                    0|E06|2022-07-22T22:33:...| WorldChamp2021|\n",
            "|f042ca37-8899-488...|         3|          WCh 2021|      Dubai UAE| 2021.11.28|    3|  Nepomniachtchi,I|         Carlsen,M|1/2-1/2|     2782|     2855|       null|       null|              draw|      null|              draw|     null|                    0|C88|2022-07-22T22:33:...| WorldChamp2021|\n",
            "|f70e4bbc-21e3-46f...|         4|          WCh 2021|      Dubai UAE| 2021.11.30|    4|         Carlsen,M|  Nepomniachtchi,I|1/2-1/2|     2855|     2782|       null|       null|              draw|      null|              draw|     null|                    0|C42|2022-07-22T22:33:...| WorldChamp2021|\n",
            "|c941c323-308a-4c8...|         5|          WCh 2021|      Dubai UAE| 2021.12.01|    5|  Nepomniachtchi,I|         Carlsen,M|1/2-1/2|     2782|     2855|       null|       null|              draw|      null|              draw|     null|                    0|C88|2022-07-22T22:33:...| WorldChamp2021|\n",
            "|58e83255-93bb-4d5...|         6|          WCh 2021|      Dubai UAE| 2021.12.03|    6|         Carlsen,M|  Nepomniachtchi,I|    1-0|     2855|     2782|       null|       null|         Carlsen,M|      2855|  Nepomniachtchi,I|     2782|                   73|D02|2022-07-22T22:33:...| WorldChamp2021|\n",
            "|29181d93-73f4-4fb...|         7|          WCh 2021|      Dubai UAE| 2021.12.04|    7|  Nepomniachtchi,I|         Carlsen,M|1/2-1/2|     2782|     2855|       null|       null|              draw|      null|              draw|     null|                    0|C88|2022-07-22T22:33:...| WorldChamp2021|\n",
            "|8a4ccd8c-d437-429...|         8|          WCh 2021|      Dubai UAE| 2021.12.05|    8|         Carlsen,M|  Nepomniachtchi,I|    1-0|     2855|     2782|       null|       null|         Carlsen,M|      2855|  Nepomniachtchi,I|     2782|                   73|C43|2022-07-22T22:33:...| WorldChamp2021|\n",
            "|55a122db-27d1-495...|         9|          WCh 2021|      Dubai UAE| 2021.12.07|    9|  Nepomniachtchi,I|         Carlsen,M|    0-1|     2782|     2855|       null|       null|         Carlsen,M|      2855|  Nepomniachtchi,I|     2782|                   73|A13|2022-07-22T22:33:...| WorldChamp2021|\n",
            "|1f900d18-5ea3-4f4...|        10|          WCh 2021|      Dubai UAE| 2021.12.08|   10|         Carlsen,M|  Nepomniachtchi,I|1/2-1/2|     2855|     2782|       null|       null|              draw|      null|              draw|     null|                    0|C42|2022-07-22T22:33:...| WorldChamp2021|\n",
            "|c512a953-a341-47c...|        11|          WCh 2021|      Dubai UAE| 2021.12.10|   11|  Nepomniachtchi,I|         Carlsen,M|    0-1|     2782|     2855|       null|       null|         Carlsen,M|      2855|  Nepomniachtchi,I|     2782|                   73|C50|2022-07-22T22:33:...| WorldChamp2021|\n",
            "|99d39a93-427e-4d1...|         1|          WCh 2018|     London ENG| 2018.11.09|    1|  Caruana, Fabiano|   Carlsen, Magnus|1/2-1/2|     2832|     2835|         GM|         GM|              draw|      null|              draw|     null|                    0|B31|2022-07-22T22:33:...| WorldChamp2018|\n",
            "|c87ceb3e-67a7-45d...|         2|          WCh 2018|     London ENG| 2018.11.10|    2|   Carlsen, Magnus|  Caruana, Fabiano|1/2-1/2|     2835|     2832|         GM|         GM|              draw|      null|              draw|     null|                    0|D37|2022-07-22T22:33:...| WorldChamp2018|\n",
            "|d50510ea-9c1a-460...|         3|          WCh 2018|     London ENG| 2018.11.12|    3|  Caruana, Fabiano|   Carlsen, Magnus|1/2-1/2|     2832|     2835|         GM|         GM|              draw|      null|              draw|     null|                    0|B31|2022-07-22T22:33:...| WorldChamp2018|\n",
            "|e899e16a-281e-41b...|         4|          WCh 2018|     London ENG| 2018.11.13|    4|   Carlsen, Magnus|  Caruana, Fabiano|1/2-1/2|     2835|     2832|         GM|         GM|              draw|      null|              draw|     null|                    0|A29|2022-07-22T22:33:...| WorldChamp2018|\n",
            "|59f8da88-fd21-405...|         5|          WCh 2018|     London ENG| 2018.11.15|    5|  Caruana, Fabiano|   Carlsen, Magnus|1/2-1/2|     2832|     2835|         GM|         GM|              draw|      null|              draw|     null|                    0|B31|2022-07-22T22:33:...| WorldChamp2018|\n",
            "|6dcc4b46-3155-47e...|         6|          WCh 2018|     London ENG| 2018.11.16|    6|   Carlsen, Magnus|  Caruana, Fabiano|1/2-1/2|     2835|     2832|         GM|         GM|              draw|      null|              draw|     null|                    0|C42|2022-07-22T22:33:...| WorldChamp2018|\n",
            "|c0c727cf-03ec-4b4...|         7|          WCh 2018|     London ENG| 2018.11.18|    7|   Carlsen, Magnus|  Caruana, Fabiano|1/2-1/2|     2835|     2832|         GM|         GM|              draw|      null|              draw|     null|                    0|D37|2022-07-22T22:33:...| WorldChamp2018|\n",
            "|4c14e044-cacc-405...|         8|          WCh 2018|     London ENG| 2018.11.19|    8|  Caruana, Fabiano|   Carlsen, Magnus|1/2-1/2|     2832|     2835|         GM|         GM|              draw|      null|              draw|     null|                    0|B33|2022-07-22T22:33:...| WorldChamp2018|\n",
            "|3f4eb26e-3cd1-43b...|         9|          WCh 2018|     London ENG| 2018.11.21|    9|   Carlsen, Magnus|  Caruana, Fabiano|1/2-1/2|     2835|     2832|         GM|         GM|              draw|      null|              draw|     null|                    0|A29|2022-07-22T22:33:...| WorldChamp2018|\n",
            "|80426171-4eab-42c...|        10|          WCh 2018|     London ENG| 2018.11.22|   10|  Caruana, Fabiano|   Carlsen, Magnus|1/2-1/2|     2832|     2835|         GM|         GM|              draw|      null|              draw|     null|                    0|B33|2022-07-22T22:33:...| WorldChamp2018|\n",
            "|b0966e7d-2ed0-424...|        11|          WCh 2018|     London ENG| 2018.11.24|   11|   Carlsen, Magnus|  Caruana, Fabiano|1/2-1/2|     2835|     2832|         GM|         GM|              draw|      null|              draw|     null|                    0|C42|2022-07-22T22:33:...| WorldChamp2018|\n",
            "|502a7bb2-0f35-4f8...|        12|          WCh 2018|     London ENG| 2018.11.26|   12|  Caruana, Fabiano|   Carlsen, Magnus|1/2-1/2|     2832|     2835|         GM|         GM|              draw|      null|              draw|     null|                    0|B33|2022-07-22T22:33:...| WorldChamp2018|\n",
            "|58fb76af-f6cb-46b...|         1|          WCh 2016|   New York USA| 2016.11.11|    1|   Carlsen, Magnus|  Karjakin, Sergey|1/2-1/2|     2853|     2772|         GM|         GM|              draw|      null|              draw|     null|                    0|A45|2022-07-22T22:33:...| WorldChamp2016|\n",
            "|11e22555-3894-46f...|         2|          WCh 2016|   New York USA| 2016.11.12|    2|  Karjakin, Sergey|   Carlsen, Magnus|1/2-1/2|     2772|     2853|         GM|         GM|              draw|      null|              draw|     null|                    0|C84|2022-07-22T22:33:...| WorldChamp2016|\n",
            "|efb0c89f-d8b8-462...|         3|          WCh 2016|   New York USA| 2016.11.14|    3|   Carlsen, Magnus|  Karjakin, Sergey|1/2-1/2|     2853|     2772|         GM|         GM|              draw|      null|              draw|     null|                    0|C67|2022-07-22T22:33:...| WorldChamp2016|\n",
            "|4df9087c-02a6-4d3...|         4|          WCh 2016|   New York USA| 2016.11.15|    4|  Karjakin, Sergey|   Carlsen, Magnus|1/2-1/2|     2772|     2853|         GM|         GM|              draw|      null|              draw|     null|                    0|C88|2022-07-22T22:33:...| WorldChamp2016|\n",
            "|7533e419-6934-401...|         5|          WCh 2016|   New York USA| 2016.11.17|    5|   Carlsen, Magnus|  Karjakin, Sergey|1/2-1/2|     2853|     2772|         GM|         GM|              draw|      null|              draw|     null|                    0|C50|2022-07-22T22:33:...| WorldChamp2016|\n",
            "|616c74a9-90fd-459...|         6|          WCh 2016|   New York USA| 2016.11.18|    6|  Karjakin, Sergey|   Carlsen, Magnus|1/2-1/2|     2772|     2853|         GM|         GM|              draw|      null|              draw|     null|                    0|C88|2022-07-22T22:33:...| WorldChamp2016|\n",
            "|e799e2c9-0168-44c...|         7|          WCh 2016|   New York USA| 2016.11.20|    7|  Karjakin, Sergey|   Carlsen, Magnus|1/2-1/2|     2772|     2853|         GM|         GM|              draw|      null|              draw|     null|                    0|D10|2022-07-22T22:33:...| WorldChamp2016|\n",
            "|8a49457a-7c11-436...|         8|          WCh 2016|   New York USA| 2016.11.21|    8|   Carlsen, Magnus|  Karjakin, Sergey|    0-1|     2853|     2772|         GM|         GM|  Karjakin, Sergey|      2772|   Carlsen, Magnus|     2853|                  -81|D05|2022-07-22T22:33:...| WorldChamp2016|\n",
            "|0f8cfb2e-19e0-4f3...|         9|          WCh 2016|   New York USA| 2016.11.23|    9|  Karjakin, Sergey|   Carlsen, Magnus|1/2-1/2|     2772|     2853|         GM|         GM|              draw|      null|              draw|     null|                    0|C78|2022-07-22T22:33:...| WorldChamp2016|\n",
            "|dea461a0-46b1-43e...|        10|          WCh 2016|   New York USA| 2016.11.24|   10|   Carlsen, Magnus|  Karjakin, Sergey|    1-0|     2853|     2772|         GM|         GM|   Carlsen, Magnus|      2853|  Karjakin, Sergey|     2772|                   81|C65|2022-07-22T22:33:...| WorldChamp2016|\n",
            "|77d0a4f6-77f6-4ab...|        11|          WCh 2016|   New York USA| 2016.11.26|   11|  Karjakin, Sergey|   Carlsen, Magnus|1/2-1/2|     2772|     2853|         GM|         GM|              draw|      null|              draw|     null|                    0|C84|2022-07-22T22:33:...| WorldChamp2016|\n",
            "|df7f5f8b-2e0a-490...|        12|          WCh 2016|   New York USA| 2016.11.28|   12|   Carlsen, Magnus|  Karjakin, Sergey|1/2-1/2|     2853|     2772|         GM|         GM|              draw|      null|              draw|     null|                    0|C67|2022-07-22T22:33:...| WorldChamp2016|\n",
            "|c7f4287c-2d08-435...|        13| WCh Rapid TB 2016|   New York USA| 2016.11.30|    1|  Karjakin, Sergey|   Carlsen, Magnus|1/2-1/2|     2772|     2853|         GM|         GM|              draw|      null|              draw|     null|                    0|C84|2022-07-22T22:33:...| WorldChamp2016|\n",
            "|12f67983-3075-411...|        14| WCh Rapid TB 2016|   New York USA| 2016.11.30|    2|   Carlsen, Magnus|  Karjakin, Sergey|1/2-1/2|     2853|     2772|         GM|         GM|              draw|      null|              draw|     null|                    0|C50|2022-07-22T22:33:...| WorldChamp2016|\n",
            "|96cea9d3-9ded-432...|        15| WCh Rapid TB 2016|   New York USA| 2016.11.30|    3|  Karjakin, Sergey|   Carlsen, Magnus|    0-1|     2772|     2853|         GM|         GM|   Carlsen, Magnus|      2853|  Karjakin, Sergey|     2772|                   81|C84|2022-07-22T22:33:...| WorldChamp2016|\n",
            "|69954db6-8a4e-43d...|        16| WCh Rapid TB 2016|   New York USA| 2016.11.30|    4|   Carlsen, Magnus|  Karjakin, Sergey|    1-0|     2853|     2772|         GM|         GM|   Carlsen, Magnus|      2853|  Karjakin, Sergey|     2772|                   81|B54|2022-07-22T22:33:...| WorldChamp2016|\n",
            "|0e4eb891-9065-4eb...|         1|          WCh 2014|      Sochi RUS| 2014.11.08|    1|Anand, Viswanathan|   Carlsen, Magnus|1/2-1/2|     2792|     2863|         GM|         GM|              draw|      null|              draw|     null|                    0|D85|2022-07-22T22:33:...| WorldChamp2014|\n",
            "|c6da46fc-4ed5-4e6...|         2|          WCh 2014|      Sochi RUS| 2014.11.09|    2|   Carlsen, Magnus|Anand, Viswanathan|    1-0|     2863|     2792|         GM|         GM|   Carlsen, Magnus|      2863|Anand, Viswanathan|     2792|                   71|C65|2022-07-22T22:33:...| WorldChamp2014|\n",
            "|e8e1e55d-e0d2-467...|         3|          WCh 2014|      Sochi RUS| 2014.11.11|    3|Anand, Viswanathan|   Carlsen, Magnus|    1-0|     2792|     2863|         GM|         GM|Anand, Viswanathan|      2792|   Carlsen, Magnus|     2863|                  -71|D37|2022-07-22T22:33:...| WorldChamp2014|\n",
            "|af9915f7-4513-434...|         4|          WCh 2014|      Sochi RUS| 2014.11.12|    4|   Carlsen, Magnus|Anand, Viswanathan|1/2-1/2|     2863|     2792|         GM|         GM|              draw|      null|              draw|     null|                    0|B40|2022-07-22T22:33:...| WorldChamp2014|\n",
            "|1d93facb-1371-4e9...|         5|          WCh 2014|      Sochi RUS| 2014.11.14|    5|Anand, Viswanathan|   Carlsen, Magnus|1/2-1/2|     2792|     2863|         GM|         GM|              draw|      null|              draw|     null|                    0|E15|2022-07-22T22:33:...| WorldChamp2014|\n",
            "|8abc1978-ec05-4b0...|         6|          WCh 2014|      Sochi RUS| 2014.11.15|    6|   Carlsen, Magnus|Anand, Viswanathan|    1-0|     2863|     2792|         GM|         GM|   Carlsen, Magnus|      2863|Anand, Viswanathan|     2792|                   71|B41|2022-07-22T22:33:...| WorldChamp2014|\n",
            "|ed4f54c2-4e7f-443...|         7|          WCh 2014|      Sochi RUS| 2014.11.17|    7|   Carlsen, Magnus|Anand, Viswanathan|1/2-1/2|     2863|     2792|         GM|         GM|              draw|      null|              draw|     null|                    0|C67|2022-07-22T22:33:...| WorldChamp2014|\n",
            "|88aef64f-e523-4f1...|         8|          WCh 2014|      Sochi RUS| 2014.11.18|    8|Anand, Viswanathan|   Carlsen, Magnus|1/2-1/2|     2792|     2863|         GM|         GM|              draw|      null|              draw|     null|                    0|D37|2022-07-22T22:33:...| WorldChamp2014|\n",
            "|a848a967-5d00-4f1...|         9|          WCh 2014|      Sochi RUS| 2014.11.20|    9|   Carlsen, Magnus|Anand, Viswanathan|1/2-1/2|     2863|     2792|         GM|         GM|              draw|      null|              draw|     null|                    0|C67|2022-07-22T22:33:...| WorldChamp2014|\n",
            "|27f4b8c8-276e-425...|        10|          WCh 2014|      Sochi RUS| 2014.11.21|   10|Anand, Viswanathan|   Carlsen, Magnus|1/2-1/2|     2792|     2863|         GM|         GM|              draw|      null|              draw|     null|                    0|D97|2022-07-22T22:33:...| WorldChamp2014|\n",
            "|456d0e77-8b7a-447...|        11|          WCh 2014|      Sochi RUS| 2014.11.23|   11|   Carlsen, Magnus|Anand, Viswanathan|    1-0|     2863|     2792|         GM|         GM|   Carlsen, Magnus|      2863|Anand, Viswanathan|     2792|                   71|C67|2022-07-22T22:33:...| WorldChamp2014|\n",
            "|327df706-f8f0-414...|         1|          WCh 2013|    Chennai IND| 2013.11.09|    1|   Carlsen, Magnus|Anand, Viswanathan|1/2-1/2|     2870|     2775|         GM|         GM|              draw|      null|              draw|     null|                    0|A07|2022-07-22T22:33:...| WorldChamp2013|\n",
            "|d4404736-f9ce-4a9...|         2|          WCh 2013|    Chennai IND| 2013.11.10|    2|Anand, Viswanathan|   Carlsen, Magnus|1/2-1/2|     2775|     2870|         GM|         GM|              draw|      null|              draw|     null|                    0|B18|2022-07-22T22:33:...| WorldChamp2013|\n",
            "|db1187f4-d6a9-40d...|         3|          WCh 2013|    Chennai IND| 2013.11.12|    3|   Carlsen, Magnus|Anand, Viswanathan|1/2-1/2|     2870|     2775|         GM|         GM|              draw|      null|              draw|     null|                    0|A07|2022-07-22T22:33:...| WorldChamp2013|\n",
            "|50b40521-1aab-40d...|         4|          WCh 2013|    Chennai IND| 2013.11.13|    4|Anand, Viswanathan|   Carlsen, Magnus|1/2-1/2|     2775|     2870|         GM|         GM|              draw|      null|              draw|     null|                    0|C67|2022-07-22T22:33:...| WorldChamp2013|\n",
            "|8ddb538f-20e7-423...|         5|          WCh 2013|    Chennai IND| 2013.11.15|    5|   Carlsen, Magnus|Anand, Viswanathan|    1-0|     2870|     2775|         GM|         GM|   Carlsen, Magnus|      2870|Anand, Viswanathan|     2775|                   95|D31|2022-07-22T22:33:...| WorldChamp2013|\n",
            "|e92208c7-2a0d-4be...|         6|          WCh 2013|    Chennai IND| 2013.11.16|    6|Anand, Viswanathan|   Carlsen, Magnus|    0-1|     2775|     2870|         GM|         GM|   Carlsen, Magnus|      2870|Anand, Viswanathan|     2775|                   95|C65|2022-07-22T22:33:...| WorldChamp2013|\n",
            "|b9daec0d-31c0-4c3...|         7|          WCh 2013|    Chennai IND| 2013.11.18|    7|Anand, Viswanathan|   Carlsen, Magnus|1/2-1/2|     2775|     2870|         GM|         GM|              draw|      null|              draw|     null|                    0|C65|2022-07-22T22:33:...| WorldChamp2013|\n",
            "|b6139c7f-d497-404...|         8|          WCh 2013|    Chennai IND| 2013.11.19|    8|   Carlsen, Magnus|Anand, Viswanathan|1/2-1/2|     2870|     2775|         GM|         GM|              draw|      null|              draw|     null|                    0|C67|2022-07-22T22:33:...| WorldChamp2013|\n",
            "|7a60a3e9-2e4d-48a...|         9|          WCh 2013|    Chennai IND| 2013.11.21|    9|Anand, Viswanathan|   Carlsen, Magnus|    0-1|     2775|     2870|         GM|         GM|   Carlsen, Magnus|      2870|Anand, Viswanathan|     2775|                   95|E25|2022-07-22T22:33:...| WorldChamp2013|\n",
            "|c2ec09a7-f827-4fc...|        10|          WCh 2013|    Chennai IND| 2013.11.22|   10|   Carlsen, Magnus|Anand, Viswanathan|1/2-1/2|     2870|     2775|         GM|         GM|              draw|      null|              draw|     null|                    0|B51|2022-07-22T22:33:...| WorldChamp2013|\n",
            "|b58fde14-2f17-49e...|         1|          WCh 2012|     Moscow RUS| 2012.05.11|    1|           Anand,V|         Gelfand,B|1/2-1/2|     2791|     2727|       null|       null|              draw|      null|              draw|     null|                    0|D85|2022-07-22T22:33:...| WorldChamp2012|\n",
            "|1c014b78-1c59-4bb...|         2|          WCh 2012|     Moscow RUS| 2012.05.12|    2|         Gelfand,B|           Anand,V|1/2-1/2|     2727|     2791|       null|       null|              draw|      null|              draw|     null|                    0|D45|2022-07-22T22:33:...| WorldChamp2012|\n",
            "|a20ae5c9-e63a-474...|         3|          WCh 2012|     Moscow RUS| 2012.05.14|    3|           Anand,V|         Gelfand,B|1/2-1/2|     2791|     2727|       null|       null|              draw|      null|              draw|     null|                    0|D70|2022-07-22T22:33:...| WorldChamp2012|\n",
            "|a8324357-f37c-48a...|         4|          WCh 2012|     Moscow RUS| 2012.05.15|    4|         Gelfand,B|           Anand,V|1/2-1/2|     2727|     2791|       null|       null|              draw|      null|              draw|     null|                    0|D45|2022-07-22T22:33:...| WorldChamp2012|\n",
            "|f76f65a5-baf5-42d...|         5|          WCh 2012|     Moscow RUS| 2012.05.17|    5|           Anand,V|         Gelfand,B|1/2-1/2|     2791|     2727|       null|       null|              draw|      null|              draw|     null|                    0|B33|2022-07-22T22:33:...| WorldChamp2012|\n",
            "|722ad4e2-f15c-415...|         6|          WCh 2012|     Moscow RUS| 2012.05.18|    6|         Gelfand,B|           Anand,V|1/2-1/2|     2727|     2791|       null|       null|              draw|      null|              draw|     null|                    0|D45|2022-07-22T22:33:...| WorldChamp2012|\n",
            "|85f912a4-3e0a-4ab...|         7|          WCh 2012|     Moscow RUS| 2012.05.20|    7|         Gelfand,B|           Anand,V|    1-0|     2727|     2791|       null|       null|         Gelfand,B|      2727|           Anand,V|     2791|                  -64|D45|2022-07-22T22:33:...| WorldChamp2012|\n",
            "|646031d8-05e7-40b...|         8|          WCh 2012|     Moscow RUS| 2012.05.21|    8|           Anand,V|         Gelfand,B|    1-0|     2791|     2727|       null|       null|           Anand,V|      2791|         Gelfand,B|     2727|                   64|E60|2022-07-22T22:33:...| WorldChamp2012|\n",
            "|ed0ebea7-8cac-4ac...|         9|          WCh 2012|     Moscow RUS| 2012.05.23|    9|         Gelfand,B|           Anand,V|1/2-1/2|     2727|     2791|       null|       null|              draw|      null|              draw|     null|                    0|E54|2022-07-22T22:33:...| WorldChamp2012|\n",
            "|fcfa665c-574c-433...|        10|          WCh 2012|     Moscow RUS| 2012.05.24|   10|           Anand,V|         Gelfand,B|1/2-1/2|     2791|     2727|       null|       null|              draw|      null|              draw|     null|                    0|B30|2022-07-22T22:33:...| WorldChamp2012|\n",
            "|8201c40a-a80f-4c9...|        11|          WCh 2012|     Moscow RUS| 2012.05.26|   11|         Gelfand,B|           Anand,V|1/2-1/2|     2727|     2791|       null|       null|              draw|      null|              draw|     null|                    0|E54|2022-07-22T22:33:...| WorldChamp2012|\n",
            "|0765b835-139c-48b...|        12|          WCh 2012|     Moscow RUS| 2012.05.28|   12|Anand, Viswanathan|    Gelfand, Boris|1/2-1/2|     2799|     2739|       null|       null|              draw|      null|              draw|     null|                    0|B30|2022-07-22T22:33:...| WorldChamp2012|\n",
            "|8005e860-fe54-486...|        13|WCh Rapid Tiebreak|     Moscow RUS| 2012.05.30|    1|    Gelfand, Boris|Anand, Viswanathan|1/2-1/2|     2727|     2791|         GM|         GM|              draw|      null|              draw|     null|                    0|D45|2022-07-22T22:33:...| WorldChamp2012|\n",
            "|a9e346b5-0066-40c...|        14|WCh Rapid Tiebreak|     Moscow RUS| 2012.05.30|    2|Anand, Viswanathan|    Gelfand, Boris|    1-0|     2791|     2727|         GM|         GM|Anand, Viswanathan|      2791|    Gelfand, Boris|     2727|                   64|B30|2022-07-22T22:33:...| WorldChamp2012|\n",
            "|646eca9f-789f-45b...|        15|WCh Rapid Tiebreak|     Moscow RUS| 2012.05.30|    3|    Gelfand, Boris|Anand, Viswanathan|1/2-1/2|     2727|     2791|         GM|         GM|              draw|      null|              draw|     null|                    0|D12|2022-07-22T22:33:...| WorldChamp2012|\n",
            "|b75c3fe2-421e-476...|        16|WCh Rapid Tiebreak|     Moscow RUS| 2012.05.30|    4|Anand, Viswanathan|    Gelfand, Boris|1/2-1/2|     2791|     2727|         GM|         GM|              draw|      null|              draw|     null|                    0|B51|2022-07-22T22:33:...| WorldChamp2012|\n",
            "|427df540-ad7e-4c7...|         1|               WCh|      Sofia BUL| 2010.04.24|    1|         Topalov,V|           Anand,V|    1-0|     2805|     2787|       null|       null|         Topalov,V|      2805|           Anand,V|     2787|                   18|D86|2022-07-22T22:33:...| WorldChamp2010|\n",
            "|600bf35b-8d76-4b2...|         2|               WCh|      Sofia BUL| 2010.04.25|    2|           Anand,V|         Topalov,V|    1-0|     2787|     2805|       null|       null|           Anand,V|      2787|         Topalov,V|     2805|                  -18|E04|2022-07-22T22:33:...| WorldChamp2010|\n",
            "|e47f413d-3024-482...|         3|               WCh|      Sofia BUL| 2010.04.27|    3|         Topalov,V|           Anand,V|1/2-1/2|     2805|     2787|       null|       null|              draw|      null|              draw|     null|                    0|D17|2022-07-22T22:33:...| WorldChamp2010|\n",
            "|16ebe3b8-9be4-480...|         4|               WCh|      Sofia BUL| 2010.04.28|    4|           Anand,V|         Topalov,V|    1-0|     2787|     2805|       null|       null|           Anand,V|      2787|         Topalov,V|     2805|                  -18|E04|2022-07-22T22:33:...| WorldChamp2010|\n",
            "|0717e74e-ab15-441...|         5|               WCh|      Sofia BUL| 2010.04.30|    5|         Topalov,V|           Anand,V|1/2-1/2|     2805|     2787|       null|       null|              draw|      null|              draw|     null|                    0|D17|2022-07-22T22:33:...| WorldChamp2010|\n",
            "|3fdb392f-a26b-471...|         6|               WCh|      Sofia BUL| 2010.05.01|    6|           Anand,V|         Topalov,V|1/2-1/2|     2787|     2805|       null|       null|              draw|      null|              draw|     null|                    0|E04|2022-07-22T22:33:...| WorldChamp2010|\n",
            "|5e8d1656-a47c-493...|         7|               WCh|      Sofia BUL| 2010.05.03|    7|           Anand,V|         Topalov,V|1/2-1/2|     2787|     2805|       null|       null|              draw|      null|              draw|     null|                    0|E10|2022-07-22T22:33:...| WorldChamp2010|\n",
            "|b65310bb-688c-48e...|         8|               WCh|      Sofia BUL| 2010.05.04|    8|         Topalov,V|           Anand,V|    1-0|     2805|     2787|       null|       null|         Topalov,V|      2805|           Anand,V|     2787|                   18|D17|2022-07-22T22:33:...| WorldChamp2010|\n",
            "|ce5a236a-65e8-4a2...|         9|               WCh|      Sofia BUL| 2010.05.06|    9|           Anand,V|         Topalov,V|1/2-1/2|     2787|     2805|       null|       null|              draw|      null|              draw|     null|                    0|E53|2022-07-22T22:33:...| WorldChamp2010|\n",
            "|b0fe6981-167d-4e8...|        10|               WCh|      Sofia BUL| 2010.05.07|   10|         Topalov,V|           Anand,V|1/2-1/2|     2805|     2787|       null|       null|              draw|      null|              draw|     null|                    0|D86|2022-07-22T22:33:...| WorldChamp2010|\n",
            "|28d814a8-8d79-4fe...|        11|               WCh|      Sofia BUL| 2010.05.09|   11|           Anand,V|         Topalov,V|1/2-1/2|     2787|     2805|       null|       null|              draw|      null|              draw|     null|                    0|A29|2022-07-22T22:33:...| WorldChamp2010|\n",
            "|ea47c6eb-4f55-451...|        12|               WCh|      Sofia BUL| 2010.05.11|   12|         Topalov,V|           Anand,V|    0-1|     2805|     2787|       null|       null|           Anand,V|      2787|         Topalov,V|     2805|                  -18|D56|2022-07-22T22:33:...| WorldChamp2010|\n",
            "|6de618ea-f59c-409...|         1|               WCh|       Bonn GER| 2008.10.14|    1|         Kramnik,V|           Anand,V|1/2-1/2|     2772|     2783|       null|       null|              draw|      null|              draw|     null|                    0|D14|2022-07-22T22:33:...| WorldChamp2008|\n",
            "|ae62e069-3c39-4e5...|         2|               WCh|       Bonn GER| 2008.10.15|    2|           Anand,V|         Kramnik,V|1/2-1/2|     2783|     2772|       null|       null|              draw|      null|              draw|     null|                    0|E25|2022-07-22T22:33:...| WorldChamp2008|\n",
            "|a6b644db-a698-40d...|         3|               WCh|       Bonn GER| 2008.10.17|    3|         Kramnik,V|           Anand,V|    0-1|     2772|     2783|       null|       null|           Anand,V|      2783|         Kramnik,V|     2772|                   11|D49|2022-07-22T22:33:...| WorldChamp2008|\n",
            "|42a8e586-f1ad-4e8...|         4|               WCh|       Bonn GER| 2008.10.18|    4|           Anand,V|         Kramnik,V|1/2-1/2|     2783|     2772|       null|       null|              draw|      null|              draw|     null|                    0|D37|2022-07-22T22:33:...| WorldChamp2008|\n",
            "|6b297a34-5c06-4a3...|         5|               WCh|       Bonn GER| 2008.10.20|    5|         Kramnik,V|           Anand,V|    0-1|     2772|     2783|       null|       null|           Anand,V|      2783|         Kramnik,V|     2772|                   11|D49|2022-07-22T22:33:...| WorldChamp2008|\n",
            "|12a5a2d1-76fe-4c2...|         6|               WCh|       Bonn GER| 2008.10.21|    6|           Anand,V|         Kramnik,V|    1-0|     2783|     2772|       null|       null|           Anand,V|      2783|         Kramnik,V|     2772|                   11|E34|2022-07-22T22:33:...| WorldChamp2008|\n",
            "|825fbc4c-7197-4ac...|         7|               WCh|       Bonn GER| 2008.10.23|    7|           Anand,V|         Kramnik,V|1/2-1/2|     2783|     2772|       null|       null|              draw|      null|              draw|     null|                    0|D19|2022-07-22T22:33:...| WorldChamp2008|\n",
            "|26574721-31b6-419...|         8|               WCh|       Bonn GER| 2008.10.24|    8|         Kramnik,V|           Anand,V|1/2-1/2|     2772|     2783|       null|       null|              draw|      null|              draw|     null|                    0|D39|2022-07-22T22:33:...| WorldChamp2008|\n",
            "|69a97ac5-a044-464...|         9|               WCh|       Bonn GER| 2008.10.26|    9|           Anand,V|         Kramnik,V|1/2-1/2|     2783|     2772|       null|       null|              draw|      null|              draw|     null|                    0|D43|2022-07-22T22:33:...| WorldChamp2008|\n",
            "|1ca01243-5234-410...|        10|               WCh|       Bonn GER| 2008.10.27|   10|         Kramnik,V|           Anand,V|    1-0|     2772|     2783|       null|       null|         Kramnik,V|      2772|           Anand,V|     2783|                  -11|E21|2022-07-22T22:33:...| WorldChamp2008|\n",
            "|edb81d2b-049d-466...|        11|               WCh|       Bonn GER| 2008.10.29|   11|           Anand,V|         Kramnik,V|1/2-1/2|     2783|     2772|       null|       null|              draw|      null|              draw|     null|                    0|B96|2022-07-22T22:33:...| WorldChamp2008|\n",
            "|16fe7591-a560-4c2...|         1|               WCh|Mexico City MEX| 2007.09.13|    1|         Kramnik,V|         Svidler,P|1/2-1/2|     2769|     2735|       null|       null|              draw|      null|              draw|     null|                    0|D43|2022-07-22T22:33:...| WorldChamp2007|\n",
            "+--------------------+----------+------------------+---------------+-----------+-----+------------------+------------------+-------+---------+---------+-----------+-----------+------------------+----------+------------------+---------+---------------------+---+--------------------+---------------+\n",
            "only showing top 100 rows\n",
            "\n"
          ]
        }
      ]
    },
    {
      "cell_type": "code",
      "source": [
        "chess_wc_history_moves.show(10)\n"
      ],
      "metadata": {
        "colab": {
          "base_uri": "https://localhost:8080/"
        },
        "id": "2dWZh17ISGFO",
        "outputId": "39f5585a-a454-4a47-db8f-6bcde6fd0f96"
      },
      "execution_count": 34,
      "outputs": [
        {
          "output_type": "stream",
          "name": "stdout",
          "text": [
            "+--------------------+-------+------------+----------------+--------+----+-----------+---------+-----+-----+--------------------+--------+-------------+--------------+----------------------+------------+------------------------+-----------+-----------+----------------+----------------+-----------------+-----------------+------------------+------------------+------------------+------------------+----------------+----------------+------------------------+------------------------+--------------------+--------------------+--------------------+--------------------+--------------------+--------------------+--------------------+--------------------+--------------------+--------------------+--------------------+--------------------+--------------------+--------------------+--------------------+--------------------+--------------------+--------------------+--------------------+--------------------+--------------------+--------------------+--------------------+--------------------+--------------------+--------------------+--------------------+--------------------+--------------------+--------------------+--------------------+--------------------+--------------------+\n",
            "|             game_id|move_no|move_no_pair|          player|notation|move|from_square|to_square|piece|color|                 fen|is_check|is_check_mate|is_fifty_moves|is_fivefold_repetition|is_game_over|is_insufficient_material|white_count|black_count|white_pawn_count|black_pawn_count|white_queen_count|black_queen_count|white_bishop_count|black_bishop_count|white_knight_count|black_knight_count|white_rook_count|black_rook_count|captured_score_for_white|captured_score_for_black|fen_row1_white_count|fen_row2_white_count|fen_row3_white_count|fen_row4_white_count|fen_row5_white_count|fen_row6_white_count|fen_row7_white_count|fen_row8_white_count|fen_row1_white_value|fen_row2_white_value|fen_row3_white_value|fen_row4_white_value|fen_row5_white_value|fen_row6_white_value|fen_row7_white_value|fen_row8_white_value|fen_row1_black_count|fen_row2_black_count|fen_row3_black_count|fen_row4_black_count|fen_row5_black_count|fen_row6_black_count|fen_row7_black_count|fen_row8_black_count|fen_row1_black_value|fen_row2_black_value|fen_row3_black_value|fen_row4_black_value|fen_row5_black_value|fen_row6_black_value|fen_row7_black_value|fen_row8_black_value|       move_sequence|\n",
            "+--------------------+-------+------------+----------------+--------+----+-----------+---------+-----+-----+--------------------+--------+-------------+--------------+----------------------+------------+------------------------+-----------+-----------+----------------+----------------+-----------------+-----------------+------------------+------------------+------------------+------------------+----------------+----------------+------------------------+------------------------+--------------------+--------------------+--------------------+--------------------+--------------------+--------------------+--------------------+--------------------+--------------------+--------------------+--------------------+--------------------+--------------------+--------------------+--------------------+--------------------+--------------------+--------------------+--------------------+--------------------+--------------------+--------------------+--------------------+--------------------+--------------------+--------------------+--------------------+--------------------+--------------------+--------------------+--------------------+--------------------+--------------------+\n",
            "|86e0b7f5-7b94-4ae...|      1|           1|Nepomniachtchi,I|      e4|e2e4|         e2|       e4|    P|White|rnbqkbnr/pppppppp...|       0|            0|             0|                     0|           0|                       0|         16|         16|               8|               8|                1|                1|                 2|                 2|                 2|                 2|               2|               2|                       0|                       0|                   8|                   7|                   0|                   1|                   0|                   0|                   0|                   0|                  31|                   7|                   0|                   1|                   0|                   0|                   0|                   0|                   0|                   0|                   0|                   0|                   0|                   0|                   8|                   8|                   0|                   0|                   0|                   0|                   0|                   0|                   8|                  31|                  e4|\n",
            "|86e0b7f5-7b94-4ae...|      2|           1|       Carlsen,M|      e5|e7e5|         e7|       e5|    P|Black|rnbqkbnr/pppp1ppp...|       0|            0|             0|                     0|           0|                       0|         16|         16|               8|               8|                1|                1|                 2|                 2|                 2|                 2|               2|               2|                       0|                       0|                   8|                   7|                   0|                   1|                   0|                   0|                   0|                   0|                  31|                   7|                   0|                   1|                   0|                   0|                   0|                   0|                   0|                   0|                   0|                   0|                   1|                   0|                   7|                   8|                   0|                   0|                   0|                   0|                   1|                   0|                   7|                  31|               e4|e5|\n",
            "|86e0b7f5-7b94-4ae...|      3|           2|Nepomniachtchi,I|     Nf3|g1f3|         g1|       f3|    N|White|rnbqkbnr/pppp1ppp...|       0|            0|             0|                     0|           0|                       0|         16|         16|               8|               8|                1|                1|                 2|                 2|                 2|                 2|               2|               2|                       0|                       0|                   7|                   7|                   1|                   1|                   0|                   0|                   0|                   0|                  28|                   7|                   3|                   1|                   0|                   0|                   0|                   0|                   0|                   0|                   0|                   0|                   1|                   0|                   7|                   8|                   0|                   0|                   0|                   0|                   1|                   0|                   7|                  31|           e4|e5|Nf3|\n",
            "|86e0b7f5-7b94-4ae...|      4|           2|       Carlsen,M|     Nc6|b8c6|         b8|       c6|    N|Black|r1bqkbnr/pppp1ppp...|       0|            0|             0|                     0|           0|                       0|         16|         16|               8|               8|                1|                1|                 2|                 2|                 2|                 2|               2|               2|                       0|                       0|                   7|                   7|                   1|                   1|                   0|                   0|                   0|                   0|                  28|                   7|                   3|                   1|                   0|                   0|                   0|                   0|                   0|                   0|                   0|                   0|                   1|                   1|                   7|                   7|                   0|                   0|                   0|                   0|                   1|                   3|                   7|                  28|       e4|e5|Nf3|Nc6|\n",
            "|86e0b7f5-7b94-4ae...|      5|           3|Nepomniachtchi,I|     Bb5|f1b5|         f1|       b5|    B|White|r1bqkbnr/pppp1ppp...|       0|            0|             0|                     0|           0|                       0|         16|         16|               8|               8|                1|                1|                 2|                 2|                 2|                 2|               2|               2|                       0|                       0|                   6|                   7|                   1|                   1|                   1|                   0|                   0|                   0|                  25|                   7|                   3|                   1|                   3|                   0|                   0|                   0|                   0|                   0|                   0|                   0|                   1|                   1|                   7|                   7|                   0|                   0|                   0|                   0|                   1|                   3|                   7|                  28|   e4|e5|Nf3|Nc6|Bb5|\n",
            "|86e0b7f5-7b94-4ae...|      6|           3|       Carlsen,M|      a6|a7a6|         a7|       a6|    P|Black|r1bqkbnr/1ppp1ppp...|       0|            0|             0|                     0|           0|                       0|         16|         16|               8|               8|                1|                1|                 2|                 2|                 2|                 2|               2|               2|                       0|                       0|                   6|                   7|                   1|                   1|                   1|                   0|                   0|                   0|                  25|                   7|                   3|                   1|                   3|                   0|                   0|                   0|                   0|                   0|                   0|                   0|                   1|                   2|                   6|                   7|                   0|                   0|                   0|                   0|                   1|                   4|                   6|                  28|e4|e5|Nf3|Nc6|Bb5|a6|\n",
            "|86e0b7f5-7b94-4ae...|      7|           4|Nepomniachtchi,I|     Ba4|b5a4|         b5|       a4|    B|White|r1bqkbnr/1ppp1ppp...|       0|            0|             0|                     0|           0|                       0|         16|         16|               8|               8|                1|                1|                 2|                 2|                 2|                 2|               2|               2|                       0|                       0|                   6|                   7|                   1|                   2|                   0|                   0|                   0|                   0|                  25|                   7|                   3|                   4|                   0|                   0|                   0|                   0|                   0|                   0|                   0|                   0|                   1|                   2|                   6|                   7|                   0|                   0|                   0|                   0|                   1|                   4|                   6|                  28|e4|e5|Nf3|Nc6|Bb5...|\n",
            "|86e0b7f5-7b94-4ae...|      8|           4|       Carlsen,M|     Nf6|g8f6|         g8|       f6|    N|Black|r1bqkb1r/1ppp1ppp...|       0|            0|             0|                     0|           0|                       0|         16|         16|               8|               8|                1|                1|                 2|                 2|                 2|                 2|               2|               2|                       0|                       0|                   6|                   7|                   1|                   2|                   0|                   0|                   0|                   0|                  25|                   7|                   3|                   4|                   0|                   0|                   0|                   0|                   0|                   0|                   0|                   0|                   1|                   3|                   6|                   6|                   0|                   0|                   0|                   0|                   1|                   7|                   6|                  25|e4|e5|Nf3|Nc6|Bb5...|\n",
            "|86e0b7f5-7b94-4ae...|      9|           5|Nepomniachtchi,I|     O-O|e1g1|         e1|       g1|    K|White|r1bqkb1r/1ppp1ppp...|       0|            0|             0|                     0|           0|                       0|         16|         16|               8|               8|                1|                1|                 2|                 2|                 2|                 2|               2|               2|                       0|                       0|                   6|                   7|                   1|                   2|                   0|                   0|                   0|                   0|                  25|                   7|                   3|                   4|                   0|                   0|                   0|                   0|                   0|                   0|                   0|                   0|                   1|                   3|                   6|                   6|                   0|                   0|                   0|                   0|                   1|                   7|                   6|                  25|e4|e5|Nf3|Nc6|Bb5...|\n",
            "|86e0b7f5-7b94-4ae...|     10|           5|       Carlsen,M|     Be7|f8e7|         f8|       e7|    B|Black|r1bqk2r/1pppbppp/...|       0|            0|             0|                     0|           0|                       0|         16|         16|               8|               8|                1|                1|                 2|                 2|                 2|                 2|               2|               2|                       0|                       0|                   6|                   7|                   1|                   2|                   0|                   0|                   0|                   0|                  25|                   7|                   3|                   4|                   0|                   0|                   0|                   0|                   0|                   0|                   0|                   0|                   1|                   3|                   7|                   5|                   0|                   0|                   0|                   0|                   1|                   7|                   9|                  22|e4|e5|Nf3|Nc6|Bb5...|\n",
            "+--------------------+-------+------------+----------------+--------+----+-----------+---------+-----+-----+--------------------+--------+-------------+--------------+----------------------+------------+------------------------+-----------+-----------+----------------+----------------+-----------------+-----------------+------------------+------------------+------------------+------------------+----------------+----------------+------------------------+------------------------+--------------------+--------------------+--------------------+--------------------+--------------------+--------------------+--------------------+--------------------+--------------------+--------------------+--------------------+--------------------+--------------------+--------------------+--------------------+--------------------+--------------------+--------------------+--------------------+--------------------+--------------------+--------------------+--------------------+--------------------+--------------------+--------------------+--------------------+--------------------+--------------------+--------------------+--------------------+--------------------+--------------------+\n",
            "only showing top 10 rows\n",
            "\n"
          ]
        }
      ]
    },
    {
      "cell_type": "code",
      "source": [
        "eco_codes.show(50)"
      ],
      "metadata": {
        "colab": {
          "base_uri": "https://localhost:8080/"
        },
        "id": "Ir1JnN_CSF6q",
        "outputId": "0558e000-6238-4e04-86fb-ebbcd373dd88"
      },
      "execution_count": 29,
      "outputs": [
        {
          "output_type": "stream",
          "name": "stdout",
          "text": [
            "+---+--------------------+--------------------+--------+---------+\n",
            "|eco|            eco_name|         eco_example|eco_type|eco_group|\n",
            "+---+--------------------+--------------------+--------+---------+\n",
            "|A00|    Uncommon Opening|  1 g4, a3, h3, etc.|       A|    Flank|\n",
            "|A01|Nimzovich-Larsen ...|                1 b3|       A|    Flank|\n",
            "|A02|      Bird's Opening|                1 f4|       A|    Flank|\n",
            "|A03|      Bird's Opening|             1 f4 d5|       A|    Flank|\n",
            "|A04|        Reti Opening|               1 Nf3|       A|    Flank|\n",
            "|A05|        Reti Opening|           1 Nf3 Nf6|       A|    Flank|\n",
            "|A06|        Reti Opening|            1 Nf3 d5|       A|    Flank|\n",
            "|A07|King's Indian Attack|       1 Nf3 d5 2 g3|       A|    Flank|\n",
            "|A08|King's Indian Attack|1 Nf3 d5 2 g3 c5 ...|       A|    Flank|\n",
            "|A09|        Reti Opening|       1 Nf3 d5 2 c4|       A|    Flank|\n",
            "|A10|             English|                1 c4|       A|    Flank|\n",
            "|A11|English, Caro-Kan...|             1 c4 c6|       A|    Flank|\n",
            "|A12|     English with b3|1 c4 c6 2 Nf3 d5 ...|       A|    Flank|\n",
            "|A13|             English|             1 c4 e6|       A|    Flank|\n",
            "|A14|             English|1 c4 e6 2 Nf3 d5 ...|       A|    Flank|\n",
            "|A15|             English|            1 c4 Nf6|       A|    Flank|\n",
            "|A16|             English|      1 c4 Nf6 2 Nc3|       A|    Flank|\n",
            "|A17|             English|   1 c4 Nf6 2 Nc3 e6|       A|    Flank|\n",
            "|A18|English, Mikenas-...|1 c4 Nf6 2 Nc3 e6...|       A|    Flank|\n",
            "|A19|English, Mikenas-...|1 c4 Nf6 2 Nc3 e6...|       A|    Flank|\n",
            "|A20|             English|             1 c4 e5|       A|    Flank|\n",
            "|A21|             English|       1 c4 e5 2 Nc3|       A|    Flank|\n",
            "|A22|             English|   1 c4 e5 2 Nc3 Nf6|       A|    Flank|\n",
            "|A23|English, Bremen S...|1 c4 e5 2 Nc3 Nf6...|       A|    Flank|\n",
            "|A24|English, Bremen S...|1 c4 e5 2 Nc3 Nf6...|       A|    Flank|\n",
            "|A25|             English|   1 c4 e5 2 Nc3 Nc6|       A|    Flank|\n",
            "|A26|             English|1 c4 e5 2 Nc3 Nc6...|       A|    Flank|\n",
            "|A27|English, Three Kn...|1 c4 e5 2 Nc3 Nc6...|       A|    Flank|\n",
            "|A28|             English|1 c4 e5 2 Nc3 Nc6...|       A|    Flank|\n",
            "|A29|English, Four Kni...|1 c4 e5 2 Nc3 Nc6...|       A|    Flank|\n",
            "|A30|English, Symmetrical|             1 c4 c5|       A|    Flank|\n",
            "|A31|English, Symmetri...|1 c4 c5 2 Nf3 Nf6...|       A|    Flank|\n",
            "|A32|English, Symmetri...|1 c4 c5 2 Nf3 Nf6...|       A|    Flank|\n",
            "|A33|English, Symmetrical|1 c4 c5 2 Nf3 Nf6...|       A|    Flank|\n",
            "|A34|English, Symmetrical|       1 c4 c5 2 Nc3|       A|    Flank|\n",
            "|A35|English, Symmetrical|   1 c4 c5 2 Nc3 Nc6|       A|    Flank|\n",
            "|A36|             English|1 c4 c5 2 Nc3 Nc6...|       A|    Flank|\n",
            "|A37|English, Symmetrical|1 c4 c5 2 Nc3 Nc6...|       A|    Flank|\n",
            "|A38|English, Symmetrical|1 c4 c5 2 Nc3 Nc6...|       A|    Flank|\n",
            "|A39|English, Symmetri...|1 c4 c5 2 Nc3 Nc6...|       A|    Flank|\n",
            "|A40|   Queen's Pawn Game|                1 d4|       A|    Flank|\n",
            "|A41|Queen's Pawn Game...|             1 d4 d6|       A|    Flank|\n",
            "|A42|Modern Defense, A...|1 d4 d6 2 c4 g6 3...|       A|    Flank|\n",
            "|A43|          Old Benoni|             1 d4 c5|       A|    Flank|\n",
            "|A44|  Old Benoni Defense|     1 d4 c5 2 d5 e5|       A|    Flank|\n",
            "|A45|   Queen's Pawn Game|            1 d4 Nf6|       A|    Flank|\n",
            "|A46|   Queen's Pawn Game|      1 d4 Nf6 2 Nf3|       A|    Flank|\n",
            "|A47|      Queen's Indian|   1 d4 Nf6 2 Nf3 b6|       A|    Flank|\n",
            "|A48|       King's Indian|   1 d4 Nf6 2 Nf3 g6|       A|    Flank|\n",
            "|A49|King's Indian, Fi...|1 d4 Nf6 2 Nf3 g6...|       A|    Flank|\n",
            "+---+--------------------+--------------------+--------+---------+\n",
            "only showing top 50 rows\n",
            "\n"
          ]
        }
      ]
    },
    {
      "cell_type": "markdown",
      "source": [
        "1. List of Winners of Each World champions Trophy Hint: Total Result of all rounds of Tournament for that player is considered as that player's Score/Result.\n",
        "\n",
        "Result attributes: winner, tournament_name\n"
      ],
      "metadata": {
        "id": "9FsfG0cKSmE4"
      }
    },
    {
      "cell_type": "code",
      "source": [
        "chess_wc_history_game_info.filter(chess_wc_history_game_info.result == '1-0').show()"
      ],
      "metadata": {
        "colab": {
          "base_uri": "https://localhost:8080/"
        },
        "id": "i8nUK3EaS-PU",
        "outputId": "0a925df6-a06e-44a9-d825-70948302a26d"
      },
      "execution_count": 25,
      "outputs": [
        {
          "output_type": "stream",
          "name": "stdout",
          "text": [
            "+--------------------+----------+------------------+---------------+-----------+-----+------------------+------------------+------+---------+---------+-----------+-----------+------------------+----------+------------------+---------+---------------------+---+--------------------+---------------+\n",
            "|             game_id|game_order|             event|           site|date_played|round|             white|             black|result|white_elo|black_elo|white_title|black_title|            winner|winner_elo|             loser|loser_elo|winner_loser_elo_diff|eco|        date_created|tournament_name|\n",
            "+--------------------+----------+------------------+---------------+-----------+-----+------------------+------------------+------+---------+---------+-----------+-----------+------------------+----------+------------------+---------+---------------------+---+--------------------+---------------+\n",
            "|58e83255-93bb-4d5...|         6|          WCh 2021|      Dubai UAE| 2021.12.03|    6|         Carlsen,M|  Nepomniachtchi,I|   1-0|     2855|     2782|       null|       null|         Carlsen,M|      2855|  Nepomniachtchi,I|     2782|                   73|D02|2022-07-22T22:33:...| WorldChamp2021|\n",
            "|8a4ccd8c-d437-429...|         8|          WCh 2021|      Dubai UAE| 2021.12.05|    8|         Carlsen,M|  Nepomniachtchi,I|   1-0|     2855|     2782|       null|       null|         Carlsen,M|      2855|  Nepomniachtchi,I|     2782|                   73|C43|2022-07-22T22:33:...| WorldChamp2021|\n",
            "|dea461a0-46b1-43e...|        10|          WCh 2016|   New York USA| 2016.11.24|   10|   Carlsen, Magnus|  Karjakin, Sergey|   1-0|     2853|     2772|         GM|         GM|   Carlsen, Magnus|      2853|  Karjakin, Sergey|     2772|                   81|C65|2022-07-22T22:33:...| WorldChamp2016|\n",
            "|69954db6-8a4e-43d...|        16| WCh Rapid TB 2016|   New York USA| 2016.11.30|    4|   Carlsen, Magnus|  Karjakin, Sergey|   1-0|     2853|     2772|         GM|         GM|   Carlsen, Magnus|      2853|  Karjakin, Sergey|     2772|                   81|B54|2022-07-22T22:33:...| WorldChamp2016|\n",
            "|c6da46fc-4ed5-4e6...|         2|          WCh 2014|      Sochi RUS| 2014.11.09|    2|   Carlsen, Magnus|Anand, Viswanathan|   1-0|     2863|     2792|         GM|         GM|   Carlsen, Magnus|      2863|Anand, Viswanathan|     2792|                   71|C65|2022-07-22T22:33:...| WorldChamp2014|\n",
            "|e8e1e55d-e0d2-467...|         3|          WCh 2014|      Sochi RUS| 2014.11.11|    3|Anand, Viswanathan|   Carlsen, Magnus|   1-0|     2792|     2863|         GM|         GM|Anand, Viswanathan|      2792|   Carlsen, Magnus|     2863|                  -71|D37|2022-07-22T22:33:...| WorldChamp2014|\n",
            "|8abc1978-ec05-4b0...|         6|          WCh 2014|      Sochi RUS| 2014.11.15|    6|   Carlsen, Magnus|Anand, Viswanathan|   1-0|     2863|     2792|         GM|         GM|   Carlsen, Magnus|      2863|Anand, Viswanathan|     2792|                   71|B41|2022-07-22T22:33:...| WorldChamp2014|\n",
            "|456d0e77-8b7a-447...|        11|          WCh 2014|      Sochi RUS| 2014.11.23|   11|   Carlsen, Magnus|Anand, Viswanathan|   1-0|     2863|     2792|         GM|         GM|   Carlsen, Magnus|      2863|Anand, Viswanathan|     2792|                   71|C67|2022-07-22T22:33:...| WorldChamp2014|\n",
            "|8ddb538f-20e7-423...|         5|          WCh 2013|    Chennai IND| 2013.11.15|    5|   Carlsen, Magnus|Anand, Viswanathan|   1-0|     2870|     2775|         GM|         GM|   Carlsen, Magnus|      2870|Anand, Viswanathan|     2775|                   95|D31|2022-07-22T22:33:...| WorldChamp2013|\n",
            "|85f912a4-3e0a-4ab...|         7|          WCh 2012|     Moscow RUS| 2012.05.20|    7|         Gelfand,B|           Anand,V|   1-0|     2727|     2791|       null|       null|         Gelfand,B|      2727|           Anand,V|     2791|                  -64|D45|2022-07-22T22:33:...| WorldChamp2012|\n",
            "|646031d8-05e7-40b...|         8|          WCh 2012|     Moscow RUS| 2012.05.21|    8|           Anand,V|         Gelfand,B|   1-0|     2791|     2727|       null|       null|           Anand,V|      2791|         Gelfand,B|     2727|                   64|E60|2022-07-22T22:33:...| WorldChamp2012|\n",
            "|a9e346b5-0066-40c...|        14|WCh Rapid Tiebreak|     Moscow RUS| 2012.05.30|    2|Anand, Viswanathan|    Gelfand, Boris|   1-0|     2791|     2727|         GM|         GM|Anand, Viswanathan|      2791|    Gelfand, Boris|     2727|                   64|B30|2022-07-22T22:33:...| WorldChamp2012|\n",
            "|427df540-ad7e-4c7...|         1|               WCh|      Sofia BUL| 2010.04.24|    1|         Topalov,V|           Anand,V|   1-0|     2805|     2787|       null|       null|         Topalov,V|      2805|           Anand,V|     2787|                   18|D86|2022-07-22T22:33:...| WorldChamp2010|\n",
            "|600bf35b-8d76-4b2...|         2|               WCh|      Sofia BUL| 2010.04.25|    2|           Anand,V|         Topalov,V|   1-0|     2787|     2805|       null|       null|           Anand,V|      2787|         Topalov,V|     2805|                  -18|E04|2022-07-22T22:33:...| WorldChamp2010|\n",
            "|16ebe3b8-9be4-480...|         4|               WCh|      Sofia BUL| 2010.04.28|    4|           Anand,V|         Topalov,V|   1-0|     2787|     2805|       null|       null|           Anand,V|      2787|         Topalov,V|     2805|                  -18|E04|2022-07-22T22:33:...| WorldChamp2010|\n",
            "|b65310bb-688c-48e...|         8|               WCh|      Sofia BUL| 2010.05.04|    8|         Topalov,V|           Anand,V|   1-0|     2805|     2787|       null|       null|         Topalov,V|      2805|           Anand,V|     2787|                   18|D17|2022-07-22T22:33:...| WorldChamp2010|\n",
            "|12a5a2d1-76fe-4c2...|         6|               WCh|       Bonn GER| 2008.10.21|    6|           Anand,V|         Kramnik,V|   1-0|     2783|     2772|       null|       null|           Anand,V|      2783|         Kramnik,V|     2772|                   11|E34|2022-07-22T22:33:...| WorldChamp2008|\n",
            "|1ca01243-5234-410...|        10|               WCh|       Bonn GER| 2008.10.27|   10|         Kramnik,V|           Anand,V|   1-0|     2772|     2783|       null|       null|         Kramnik,V|      2772|           Anand,V|     2783|                  -11|E21|2022-07-22T22:33:...| WorldChamp2008|\n",
            "|5b6e61ed-7d35-47f...|         8|               WCh|Mexico City MEX| 2007.09.14|    2|         Kramnik,V|      Morozevich,A|   1-0|     2769|     2758|       null|       null|         Kramnik,V|      2769|      Morozevich,A|     2758|                   11|E04|2022-07-22T22:33:...| WorldChamp2007|\n",
            "|ea56e15d-339f-4cb...|         9|               WCh|Mexico City MEX| 2007.09.15|    3|      Morozevich,A|         Svidler,P|   1-0|     2758|     2735|       null|       null|      Morozevich,A|      2758|         Svidler,P|     2735|                   23|C45|2022-07-22T22:33:...| WorldChamp2007|\n",
            "+--------------------+----------+------------------+---------------+-----------+-----+------------------+------------------+------+---------+---------+-----------+-----------+------------------+----------+------------------+---------+---------------------+---+--------------------+---------------+\n",
            "only showing top 20 rows\n",
            "\n"
          ]
        }
      ]
    },
    {
      "cell_type": "code",
      "source": [
        "chess_wc_history_game_info.select('winner').where(chess_wc_history_game_info.result == '1-0').show()"
      ],
      "metadata": {
        "colab": {
          "base_uri": "https://localhost:8080/"
        },
        "id": "mZQMX5PlYqgf",
        "outputId": "954bf960-e9cd-4a69-d8b8-573165322aaa"
      },
      "execution_count": 32,
      "outputs": [
        {
          "output_type": "stream",
          "name": "stdout",
          "text": [
            "+------------------+\n",
            "|            winner|\n",
            "+------------------+\n",
            "|         Carlsen,M|\n",
            "|         Carlsen,M|\n",
            "|   Carlsen, Magnus|\n",
            "|   Carlsen, Magnus|\n",
            "|   Carlsen, Magnus|\n",
            "|Anand, Viswanathan|\n",
            "|   Carlsen, Magnus|\n",
            "|   Carlsen, Magnus|\n",
            "|   Carlsen, Magnus|\n",
            "|         Gelfand,B|\n",
            "|           Anand,V|\n",
            "|Anand, Viswanathan|\n",
            "|         Topalov,V|\n",
            "|           Anand,V|\n",
            "|           Anand,V|\n",
            "|         Topalov,V|\n",
            "|           Anand,V|\n",
            "|         Kramnik,V|\n",
            "|         Kramnik,V|\n",
            "|      Morozevich,A|\n",
            "+------------------+\n",
            "only showing top 20 rows\n",
            "\n"
          ]
        }
      ]
    },
    {
      "cell_type": "markdown",
      "source": [
        "2. List of Players with number of times they have won Tournament in descending order(Max to min). Result attributes: player_name, number_of_wins"
      ],
      "metadata": {
        "id": "vMxGysK9USqM"
      }
    },
    {
      "cell_type": "code",
      "source": [
        "chess_wc_history_moves.filter(chess_wc_history_moves.is_check_mate == '0').show()"
      ],
      "metadata": {
        "colab": {
          "base_uri": "https://localhost:8080/"
        },
        "id": "JQG6I1wubNxP",
        "outputId": "131905ce-cd4a-4685-e2fb-7e533020e5df"
      },
      "execution_count": 42,
      "outputs": [
        {
          "output_type": "stream",
          "name": "stdout",
          "text": [
            "+--------------------+-------+------------+----------------+--------+----+-----------+---------+-----+-----+--------------------+--------+-------------+--------------+----------------------+------------+------------------------+-----------+-----------+----------------+----------------+-----------------+-----------------+------------------+------------------+------------------+------------------+----------------+----------------+------------------------+------------------------+--------------------+--------------------+--------------------+--------------------+--------------------+--------------------+--------------------+--------------------+--------------------+--------------------+--------------------+--------------------+--------------------+--------------------+--------------------+--------------------+--------------------+--------------------+--------------------+--------------------+--------------------+--------------------+--------------------+--------------------+--------------------+--------------------+--------------------+--------------------+--------------------+--------------------+--------------------+--------------------+--------------------+\n",
            "|             game_id|move_no|move_no_pair|          player|notation|move|from_square|to_square|piece|color|                 fen|is_check|is_check_mate|is_fifty_moves|is_fivefold_repetition|is_game_over|is_insufficient_material|white_count|black_count|white_pawn_count|black_pawn_count|white_queen_count|black_queen_count|white_bishop_count|black_bishop_count|white_knight_count|black_knight_count|white_rook_count|black_rook_count|captured_score_for_white|captured_score_for_black|fen_row1_white_count|fen_row2_white_count|fen_row3_white_count|fen_row4_white_count|fen_row5_white_count|fen_row6_white_count|fen_row7_white_count|fen_row8_white_count|fen_row1_white_value|fen_row2_white_value|fen_row3_white_value|fen_row4_white_value|fen_row5_white_value|fen_row6_white_value|fen_row7_white_value|fen_row8_white_value|fen_row1_black_count|fen_row2_black_count|fen_row3_black_count|fen_row4_black_count|fen_row5_black_count|fen_row6_black_count|fen_row7_black_count|fen_row8_black_count|fen_row1_black_value|fen_row2_black_value|fen_row3_black_value|fen_row4_black_value|fen_row5_black_value|fen_row6_black_value|fen_row7_black_value|fen_row8_black_value|       move_sequence|\n",
            "+--------------------+-------+------------+----------------+--------+----+-----------+---------+-----+-----+--------------------+--------+-------------+--------------+----------------------+------------+------------------------+-----------+-----------+----------------+----------------+-----------------+-----------------+------------------+------------------+------------------+------------------+----------------+----------------+------------------------+------------------------+--------------------+--------------------+--------------------+--------------------+--------------------+--------------------+--------------------+--------------------+--------------------+--------------------+--------------------+--------------------+--------------------+--------------------+--------------------+--------------------+--------------------+--------------------+--------------------+--------------------+--------------------+--------------------+--------------------+--------------------+--------------------+--------------------+--------------------+--------------------+--------------------+--------------------+--------------------+--------------------+--------------------+\n",
            "|86e0b7f5-7b94-4ae...|      1|           1|Nepomniachtchi,I|      e4|e2e4|         e2|       e4|    P|White|rnbqkbnr/pppppppp...|       0|            0|             0|                     0|           0|                       0|         16|         16|               8|               8|                1|                1|                 2|                 2|                 2|                 2|               2|               2|                       0|                       0|                   8|                   7|                   0|                   1|                   0|                   0|                   0|                   0|                  31|                   7|                   0|                   1|                   0|                   0|                   0|                   0|                   0|                   0|                   0|                   0|                   0|                   0|                   8|                   8|                   0|                   0|                   0|                   0|                   0|                   0|                   8|                  31|                  e4|\n",
            "|86e0b7f5-7b94-4ae...|      2|           1|       Carlsen,M|      e5|e7e5|         e7|       e5|    P|Black|rnbqkbnr/pppp1ppp...|       0|            0|             0|                     0|           0|                       0|         16|         16|               8|               8|                1|                1|                 2|                 2|                 2|                 2|               2|               2|                       0|                       0|                   8|                   7|                   0|                   1|                   0|                   0|                   0|                   0|                  31|                   7|                   0|                   1|                   0|                   0|                   0|                   0|                   0|                   0|                   0|                   0|                   1|                   0|                   7|                   8|                   0|                   0|                   0|                   0|                   1|                   0|                   7|                  31|               e4|e5|\n",
            "|86e0b7f5-7b94-4ae...|      3|           2|Nepomniachtchi,I|     Nf3|g1f3|         g1|       f3|    N|White|rnbqkbnr/pppp1ppp...|       0|            0|             0|                     0|           0|                       0|         16|         16|               8|               8|                1|                1|                 2|                 2|                 2|                 2|               2|               2|                       0|                       0|                   7|                   7|                   1|                   1|                   0|                   0|                   0|                   0|                  28|                   7|                   3|                   1|                   0|                   0|                   0|                   0|                   0|                   0|                   0|                   0|                   1|                   0|                   7|                   8|                   0|                   0|                   0|                   0|                   1|                   0|                   7|                  31|           e4|e5|Nf3|\n",
            "|86e0b7f5-7b94-4ae...|      4|           2|       Carlsen,M|     Nc6|b8c6|         b8|       c6|    N|Black|r1bqkbnr/pppp1ppp...|       0|            0|             0|                     0|           0|                       0|         16|         16|               8|               8|                1|                1|                 2|                 2|                 2|                 2|               2|               2|                       0|                       0|                   7|                   7|                   1|                   1|                   0|                   0|                   0|                   0|                  28|                   7|                   3|                   1|                   0|                   0|                   0|                   0|                   0|                   0|                   0|                   0|                   1|                   1|                   7|                   7|                   0|                   0|                   0|                   0|                   1|                   3|                   7|                  28|       e4|e5|Nf3|Nc6|\n",
            "|86e0b7f5-7b94-4ae...|      5|           3|Nepomniachtchi,I|     Bb5|f1b5|         f1|       b5|    B|White|r1bqkbnr/pppp1ppp...|       0|            0|             0|                     0|           0|                       0|         16|         16|               8|               8|                1|                1|                 2|                 2|                 2|                 2|               2|               2|                       0|                       0|                   6|                   7|                   1|                   1|                   1|                   0|                   0|                   0|                  25|                   7|                   3|                   1|                   3|                   0|                   0|                   0|                   0|                   0|                   0|                   0|                   1|                   1|                   7|                   7|                   0|                   0|                   0|                   0|                   1|                   3|                   7|                  28|   e4|e5|Nf3|Nc6|Bb5|\n",
            "|86e0b7f5-7b94-4ae...|      6|           3|       Carlsen,M|      a6|a7a6|         a7|       a6|    P|Black|r1bqkbnr/1ppp1ppp...|       0|            0|             0|                     0|           0|                       0|         16|         16|               8|               8|                1|                1|                 2|                 2|                 2|                 2|               2|               2|                       0|                       0|                   6|                   7|                   1|                   1|                   1|                   0|                   0|                   0|                  25|                   7|                   3|                   1|                   3|                   0|                   0|                   0|                   0|                   0|                   0|                   0|                   1|                   2|                   6|                   7|                   0|                   0|                   0|                   0|                   1|                   4|                   6|                  28|e4|e5|Nf3|Nc6|Bb5|a6|\n",
            "|86e0b7f5-7b94-4ae...|      7|           4|Nepomniachtchi,I|     Ba4|b5a4|         b5|       a4|    B|White|r1bqkbnr/1ppp1ppp...|       0|            0|             0|                     0|           0|                       0|         16|         16|               8|               8|                1|                1|                 2|                 2|                 2|                 2|               2|               2|                       0|                       0|                   6|                   7|                   1|                   2|                   0|                   0|                   0|                   0|                  25|                   7|                   3|                   4|                   0|                   0|                   0|                   0|                   0|                   0|                   0|                   0|                   1|                   2|                   6|                   7|                   0|                   0|                   0|                   0|                   1|                   4|                   6|                  28|e4|e5|Nf3|Nc6|Bb5...|\n",
            "|86e0b7f5-7b94-4ae...|      8|           4|       Carlsen,M|     Nf6|g8f6|         g8|       f6|    N|Black|r1bqkb1r/1ppp1ppp...|       0|            0|             0|                     0|           0|                       0|         16|         16|               8|               8|                1|                1|                 2|                 2|                 2|                 2|               2|               2|                       0|                       0|                   6|                   7|                   1|                   2|                   0|                   0|                   0|                   0|                  25|                   7|                   3|                   4|                   0|                   0|                   0|                   0|                   0|                   0|                   0|                   0|                   1|                   3|                   6|                   6|                   0|                   0|                   0|                   0|                   1|                   7|                   6|                  25|e4|e5|Nf3|Nc6|Bb5...|\n",
            "|86e0b7f5-7b94-4ae...|      9|           5|Nepomniachtchi,I|     O-O|e1g1|         e1|       g1|    K|White|r1bqkb1r/1ppp1ppp...|       0|            0|             0|                     0|           0|                       0|         16|         16|               8|               8|                1|                1|                 2|                 2|                 2|                 2|               2|               2|                       0|                       0|                   6|                   7|                   1|                   2|                   0|                   0|                   0|                   0|                  25|                   7|                   3|                   4|                   0|                   0|                   0|                   0|                   0|                   0|                   0|                   0|                   1|                   3|                   6|                   6|                   0|                   0|                   0|                   0|                   1|                   7|                   6|                  25|e4|e5|Nf3|Nc6|Bb5...|\n",
            "|86e0b7f5-7b94-4ae...|     10|           5|       Carlsen,M|     Be7|f8e7|         f8|       e7|    B|Black|r1bqk2r/1pppbppp/...|       0|            0|             0|                     0|           0|                       0|         16|         16|               8|               8|                1|                1|                 2|                 2|                 2|                 2|               2|               2|                       0|                       0|                   6|                   7|                   1|                   2|                   0|                   0|                   0|                   0|                  25|                   7|                   3|                   4|                   0|                   0|                   0|                   0|                   0|                   0|                   0|                   0|                   1|                   3|                   7|                   5|                   0|                   0|                   0|                   0|                   1|                   7|                   9|                  22|e4|e5|Nf3|Nc6|Bb5...|\n",
            "|86e0b7f5-7b94-4ae...|     11|           6|Nepomniachtchi,I|     Re1|f1e1|         f1|       e1|    R|White|r1bqk2r/1pppbppp/...|       0|            0|             0|                     0|           0|                       0|         16|         16|               8|               8|                1|                1|                 2|                 2|                 2|                 2|               2|               2|                       0|                       0|                   6|                   7|                   1|                   2|                   0|                   0|                   0|                   0|                  25|                   7|                   3|                   4|                   0|                   0|                   0|                   0|                   0|                   0|                   0|                   0|                   1|                   3|                   7|                   5|                   0|                   0|                   0|                   0|                   1|                   7|                   9|                  22|e4|e5|Nf3|Nc6|Bb5...|\n",
            "|86e0b7f5-7b94-4ae...|     12|           6|       Carlsen,M|      b5|b7b5|         b7|       b5|    P|Black|r1bqk2r/2ppbppp/p...|       0|            0|             0|                     0|           0|                       0|         16|         16|               8|               8|                1|                1|                 2|                 2|                 2|                 2|               2|               2|                       0|                       0|                   6|                   7|                   1|                   2|                   0|                   0|                   0|                   0|                  25|                   7|                   3|                   4|                   0|                   0|                   0|                   0|                   0|                   0|                   0|                   0|                   2|                   3|                   6|                   5|                   0|                   0|                   0|                   0|                   2|                   7|                   8|                  22|e4|e5|Nf3|Nc6|Bb5...|\n",
            "|86e0b7f5-7b94-4ae...|     13|           7|Nepomniachtchi,I|     Bb3|a4b3|         a4|       b3|    B|White|r1bqk2r/2ppbppp/p...|       0|            0|             0|                     0|           0|                       0|         16|         16|               8|               8|                1|                1|                 2|                 2|                 2|                 2|               2|               2|                       0|                       0|                   6|                   7|                   2|                   1|                   0|                   0|                   0|                   0|                  25|                   7|                   6|                   1|                   0|                   0|                   0|                   0|                   0|                   0|                   0|                   0|                   2|                   3|                   6|                   5|                   0|                   0|                   0|                   0|                   2|                   7|                   8|                  22|e4|e5|Nf3|Nc6|Bb5...|\n",
            "|86e0b7f5-7b94-4ae...|     14|           7|       Carlsen,M|     O-O|e8g8|         e8|       g8|    K|Black|r1bq1rk1/2ppbppp/...|       0|            0|             0|                     0|           0|                       0|         16|         16|               8|               8|                1|                1|                 2|                 2|                 2|                 2|               2|               2|                       0|                       0|                   6|                   7|                   2|                   1|                   0|                   0|                   0|                   0|                  25|                   7|                   6|                   1|                   0|                   0|                   0|                   0|                   0|                   0|                   0|                   0|                   2|                   3|                   6|                   5|                   0|                   0|                   0|                   0|                   2|                   7|                   8|                  22|e4|e5|Nf3|Nc6|Bb5...|\n",
            "|86e0b7f5-7b94-4ae...|     15|           8|Nepomniachtchi,I|      h3|h2h3|         h2|       h3|    P|White|r1bq1rk1/2ppbppp/...|       0|            0|             0|                     0|           0|                       0|         16|         16|               8|               8|                1|                1|                 2|                 2|                 2|                 2|               2|               2|                       0|                       0|                   6|                   6|                   3|                   1|                   0|                   0|                   0|                   0|                  25|                   6|                   7|                   1|                   0|                   0|                   0|                   0|                   0|                   0|                   0|                   0|                   2|                   3|                   6|                   5|                   0|                   0|                   0|                   0|                   2|                   7|                   8|                  22|e4|e5|Nf3|Nc6|Bb5...|\n",
            "|86e0b7f5-7b94-4ae...|     16|           8|       Carlsen,M|     Na5|c6a5|         c6|       a5|    N|Black|r1bq1rk1/2ppbppp/...|       0|            0|             0|                     0|           0|                       0|         16|         16|               8|               8|                1|                1|                 2|                 2|                 2|                 2|               2|               2|                       0|                       0|                   6|                   6|                   3|                   1|                   0|                   0|                   0|                   0|                  25|                   6|                   7|                   1|                   0|                   0|                   0|                   0|                   0|                   0|                   0|                   0|                   3|                   2|                   6|                   5|                   0|                   0|                   0|                   0|                   5|                   4|                   8|                  22|e4|e5|Nf3|Nc6|Bb5...|\n",
            "|86e0b7f5-7b94-4ae...|     17|           9|Nepomniachtchi,I|    Nxe5|f3e5|         f3|       e5|    N|White|r1bq1rk1/2ppbppp/...|       0|            0|             0|                     0|           0|                       0|         16|         15|               8|               7|                1|                1|                 2|                 2|                 2|                 2|               2|               2|                       1|                       0|                   6|                   6|                   2|                   1|                   1|                   0|                   0|                   0|                  25|                   6|                   4|                   1|                   3|                   0|                   0|                   0|                   0|                   0|                   0|                   0|                   2|                   2|                   6|                   5|                   0|                   0|                   0|                   0|                   4|                   4|                   8|                  22|e4|e5|Nf3|Nc6|Bb5...|\n",
            "|86e0b7f5-7b94-4ae...|     18|           9|       Carlsen,M|    Nxb3|a5b3|         a5|       b3|    N|Black|r1bq1rk1/2ppbppp/...|       0|            0|             0|                     0|           0|                       0|         15|         15|               8|               7|                1|                1|                 1|                 2|                 2|                 2|               2|               2|                       1|                       3|                   6|                   6|                   1|                   1|                   1|                   0|                   0|                   0|                  25|                   6|                   1|                   1|                   3|                   0|                   0|                   0|                   0|                   0|                   1|                   0|                   1|                   2|                   6|                   5|                   0|                   0|                   3|                   0|                   1|                   4|                   8|                  22|e4|e5|Nf3|Nc6|Bb5...|\n",
            "|86e0b7f5-7b94-4ae...|     19|          10|Nepomniachtchi,I|    axb3|a2b3|         a2|       b3|    P|White|r1bq1rk1/2ppbppp/...|       0|            0|             0|                     0|           0|                       0|         15|         14|               8|               7|                1|                1|                 1|                 2|                 2|                 1|               2|               2|                       4|                       3|                   6|                   5|                   2|                   1|                   1|                   0|                   0|                   0|                  25|                   5|                   2|                   1|                   3|                   0|                   0|                   0|                   0|                   0|                   0|                   0|                   1|                   2|                   6|                   5|                   0|                   0|                   0|                   0|                   1|                   4|                   8|                  22|e4|e5|Nf3|Nc6|Bb5...|\n",
            "|86e0b7f5-7b94-4ae...|     20|          10|       Carlsen,M|     Bb7|c8b7|         c8|       b7|    B|Black|r2q1rk1/1bppbppp/...|       0|            0|             0|                     0|           0|                       0|         15|         14|               8|               7|                1|                1|                 1|                 2|                 2|                 1|               2|               2|                       4|                       3|                   6|                   5|                   2|                   1|                   1|                   0|                   0|                   0|                  25|                   5|                   2|                   1|                   3|                   0|                   0|                   0|                   0|                   0|                   0|                   0|                   1|                   2|                   7|                   4|                   0|                   0|                   0|                   0|                   1|                   4|                  11|                  19|e4|e5|Nf3|Nc6|Bb5...|\n",
            "+--------------------+-------+------------+----------------+--------+----+-----------+---------+-----+-----+--------------------+--------+-------------+--------------+----------------------+------------+------------------------+-----------+-----------+----------------+----------------+-----------------+-----------------+------------------+------------------+------------------+------------------+----------------+----------------+------------------------+------------------------+--------------------+--------------------+--------------------+--------------------+--------------------+--------------------+--------------------+--------------------+--------------------+--------------------+--------------------+--------------------+--------------------+--------------------+--------------------+--------------------+--------------------+--------------------+--------------------+--------------------+--------------------+--------------------+--------------------+--------------------+--------------------+--------------------+--------------------+--------------------+--------------------+--------------------+--------------------+--------------------+--------------------+\n",
            "only showing top 20 rows\n",
            "\n"
          ]
        }
      ]
    },
    {
      "cell_type": "code",
      "source": [
        "chess_wc_history_moves.select('player').where(chess_wc_history_moves.is_check_mate == '0').show()"
      ],
      "metadata": {
        "colab": {
          "base_uri": "https://localhost:8080/"
        },
        "id": "HZ_9c3pQUQwe",
        "outputId": "9f1610dd-6ee0-475d-c1ae-66d06dd9f5d4"
      },
      "execution_count": 50,
      "outputs": [
        {
          "output_type": "stream",
          "name": "stdout",
          "text": [
            "+----------------+\n",
            "|          player|\n",
            "+----------------+\n",
            "|Nepomniachtchi,I|\n",
            "|       Carlsen,M|\n",
            "|Nepomniachtchi,I|\n",
            "|       Carlsen,M|\n",
            "|Nepomniachtchi,I|\n",
            "|       Carlsen,M|\n",
            "|Nepomniachtchi,I|\n",
            "|       Carlsen,M|\n",
            "|Nepomniachtchi,I|\n",
            "|       Carlsen,M|\n",
            "|Nepomniachtchi,I|\n",
            "|       Carlsen,M|\n",
            "|Nepomniachtchi,I|\n",
            "|       Carlsen,M|\n",
            "|Nepomniachtchi,I|\n",
            "|       Carlsen,M|\n",
            "|Nepomniachtchi,I|\n",
            "|       Carlsen,M|\n",
            "|Nepomniachtchi,I|\n",
            "|       Carlsen,M|\n",
            "+----------------+\n",
            "only showing top 20 rows\n",
            "\n"
          ]
        }
      ]
    },
    {
      "cell_type": "code",
      "source": [
        "s = chess_wc_history_moves.select('player').where(chess_wc_history_moves.is_check_mate == '1').show()"
      ],
      "metadata": {
        "colab": {
          "base_uri": "https://localhost:8080/"
        },
        "id": "n5sWvLxDcM62",
        "outputId": "649a0fe9-ad49-426d-d1d8-cca0a4199447"
      },
      "execution_count": 57,
      "outputs": [
        {
          "output_type": "stream",
          "name": "stdout",
          "text": [
            "+-------------------+\n",
            "|             player|\n",
            "+-------------------+\n",
            "|         Nakamura,H|\n",
            "|         Ciuksyte,D|\n",
            "|           Paehtz,E|\n",
            "|          Polgar,Ju|\n",
            "|         Van Wely,L|\n",
            "|        Movsesian,S|\n",
            "|     Andersson, Ulf|\n",
            "|Alekhine, Alexander|\n",
            "+-------------------+\n",
            "\n"
          ]
        }
      ]
    },
    {
      "cell_type": "code",
      "source": [
        "chess_wc_history_moves.sort([chess_wc_history_moves.is_check_mate == '0'],\n",
        "               ascending = False).show()"
      ],
      "metadata": {
        "colab": {
          "base_uri": "https://localhost:8080/"
        },
        "id": "lB73MzUvdGQ1",
        "outputId": "7df9e294-1b8c-4690-eadb-b1338344bce9"
      },
      "execution_count": 54,
      "outputs": [
        {
          "output_type": "stream",
          "name": "stdout",
          "text": [
            "+--------------------+-------+------------+--------------------+--------+----+-----------+---------+-----+-----+--------------------+--------+-------------+--------------+----------------------+------------+------------------------+-----------+-----------+----------------+----------------+-----------------+-----------------+------------------+------------------+------------------+------------------+----------------+----------------+------------------------+------------------------+--------------------+--------------------+--------------------+--------------------+--------------------+--------------------+--------------------+--------------------+--------------------+--------------------+--------------------+--------------------+--------------------+--------------------+--------------------+--------------------+--------------------+--------------------+--------------------+--------------------+--------------------+--------------------+--------------------+--------------------+--------------------+--------------------+--------------------+--------------------+--------------------+--------------------+--------------------+--------------------+--------------------+\n",
            "|             game_id|move_no|move_no_pair|              player|notation|move|from_square|to_square|piece|color|                 fen|is_check|is_check_mate|is_fifty_moves|is_fivefold_repetition|is_game_over|is_insufficient_material|white_count|black_count|white_pawn_count|black_pawn_count|white_queen_count|black_queen_count|white_bishop_count|black_bishop_count|white_knight_count|black_knight_count|white_rook_count|black_rook_count|captured_score_for_white|captured_score_for_black|fen_row1_white_count|fen_row2_white_count|fen_row3_white_count|fen_row4_white_count|fen_row5_white_count|fen_row6_white_count|fen_row7_white_count|fen_row8_white_count|fen_row1_white_value|fen_row2_white_value|fen_row3_white_value|fen_row4_white_value|fen_row5_white_value|fen_row6_white_value|fen_row7_white_value|fen_row8_white_value|fen_row1_black_count|fen_row2_black_count|fen_row3_black_count|fen_row4_black_count|fen_row5_black_count|fen_row6_black_count|fen_row7_black_count|fen_row8_black_count|fen_row1_black_value|fen_row2_black_value|fen_row3_black_value|fen_row4_black_value|fen_row5_black_value|fen_row6_black_value|fen_row7_black_value|fen_row8_black_value|       move_sequence|\n",
            "+--------------------+-------+------------+--------------------+--------+----+-----------+---------+-----+-----+--------------------+--------+-------------+--------------+----------------------+------------+------------------------+-----------+-----------+----------------+----------------+-----------------+-----------------+------------------+------------------+------------------+------------------+----------------+----------------+------------------------+------------------------+--------------------+--------------------+--------------------+--------------------+--------------------+--------------------+--------------------+--------------------+--------------------+--------------------+--------------------+--------------------+--------------------+--------------------+--------------------+--------------------+--------------------+--------------------+--------------------+--------------------+--------------------+--------------------+--------------------+--------------------+--------------------+--------------------+--------------------+--------------------+--------------------+--------------------+--------------------+--------------------+--------------------+\n",
            "|146a2130-85c6-444...|     92|          46|       Sokolov, Ivan|    Qa1+|e5a1|         e5|       a1|    Q|Black|4B1k1/4rp1p/R2p2p...|       1|            0|             0|                     0|           0|                       0|         10|          9|               5|               4|                1|                1|                 1|                 1|                 0|                 1|               2|               1|                      15|                      12|                   1|                   2|                   3|                   1|                   1|                   1|                   0|                   1|                   0|                   2|                  11|                   1|                   5|                   5|                   0|                   3|                   1|                   1|                   1|                   0|                   0|                   2|                   3|                   1|                   9|                   3|                   3|                   0|                   0|                   2|                   7|                   0|e4|e5|Nf3|Nf6|Nxe...|\n",
            "|146a2130-85c6-444...|     93|          47|      Shirov, Alexei|     Kd2|e1d2|         e1|       d2|    K|White|4B1k1/4rp1p/R2p2p...|       0|            0|             0|                     0|           0|                       0|         10|          9|               5|               4|                1|                1|                 1|                 1|                 0|                 1|               2|               1|                      15|                      12|                   0|                   3|                   3|                   1|                   1|                   1|                   0|                   1|                   0|                   2|                  11|                   1|                   5|                   5|                   0|                   3|                   1|                   1|                   1|                   0|                   0|                   2|                   3|                   1|                   9|                   3|                   3|                   0|                   0|                   2|                   7|                   0|e4|e5|Nf3|Nf6|Nxe...|\n",
            "|146a2130-85c6-444...|     94|          47|       Sokolov, Ivan|    Qb2+|a1b2|         a1|       b2|    Q|Black|4B1k1/4rp1p/R2p2p...|       1|            0|             0|                     0|           0|                       0|         10|          9|               5|               4|                1|                1|                 1|                 1|                 0|                 1|               2|               1|                      15|                      12|                   0|                   3|                   3|                   1|                   1|                   1|                   0|                   1|                   0|                   2|                  11|                   1|                   5|                   5|                   0|                   3|                   0|                   2|                   1|                   0|                   0|                   2|                   3|                   1|                   0|                  12|                   3|                   0|                   0|                   2|                   7|                   0|e4|e5|Nf3|Nf6|Nxe...|\n",
            "|3a8c5a5e-804a-431...|      1|           1|Aleksandrov, Aleksej|      d4|d2d4|         d2|       d4|    P|White|rnbqkbnr/pppppppp...|       0|            0|             0|                     0|           0|                       0|         16|         16|               8|               8|                1|                1|                 2|                 2|                 2|                 2|               2|               2|                       0|                       0|                   8|                   7|                   0|                   1|                   0|                   0|                   0|                   0|                  31|                   7|                   0|                   1|                   0|                   0|                   0|                   0|                   0|                   0|                   0|                   0|                   0|                   0|                   8|                   8|                   0|                   0|                   0|                   0|                   0|                   0|                   8|                  31|                  d4|\n",
            "|3a8c5a5e-804a-431...|      2|           1|      Svidler, Peter|     Nf6|g8f6|         g8|       f6|    N|Black|rnbqkb1r/pppppppp...|       0|            0|             0|                     0|           0|                       0|         16|         16|               8|               8|                1|                1|                 2|                 2|                 2|                 2|               2|               2|                       0|                       0|                   8|                   7|                   0|                   1|                   0|                   0|                   0|                   0|                  31|                   7|                   0|                   1|                   0|                   0|                   0|                   0|                   0|                   0|                   0|                   0|                   0|                   1|                   8|                   7|                   0|                   0|                   0|                   0|                   0|                   3|                   8|                  28|              d4|Nf6|\n",
            "|3a8c5a5e-804a-431...|      3|           2|Aleksandrov, Aleksej|      c4|c2c4|         c2|       c4|    P|White|rnbqkb1r/pppppppp...|       0|            0|             0|                     0|           0|                       0|         16|         16|               8|               8|                1|                1|                 2|                 2|                 2|                 2|               2|               2|                       0|                       0|                   8|                   6|                   0|                   2|                   0|                   0|                   0|                   0|                  31|                   6|                   0|                   2|                   0|                   0|                   0|                   0|                   0|                   0|                   0|                   0|                   0|                   1|                   8|                   7|                   0|                   0|                   0|                   0|                   0|                   3|                   8|                  28|           d4|Nf6|c4|\n",
            "|3a8c5a5e-804a-431...|      4|           2|      Svidler, Peter|      g6|g7g6|         g7|       g6|    P|Black|rnbqkb1r/pppppp1p...|       0|            0|             0|                     0|           0|                       0|         16|         16|               8|               8|                1|                1|                 2|                 2|                 2|                 2|               2|               2|                       0|                       0|                   8|                   6|                   0|                   2|                   0|                   0|                   0|                   0|                  31|                   6|                   0|                   2|                   0|                   0|                   0|                   0|                   0|                   0|                   0|                   0|                   0|                   2|                   7|                   7|                   0|                   0|                   0|                   0|                   0|                   4|                   7|                  28|        d4|Nf6|c4|g6|\n",
            "|3a8c5a5e-804a-431...|      5|           3|Aleksandrov, Aleksej|     Nc3|b1c3|         b1|       c3|    N|White|rnbqkb1r/pppppp1p...|       0|            0|             0|                     0|           0|                       0|         16|         16|               8|               8|                1|                1|                 2|                 2|                 2|                 2|               2|               2|                       0|                       0|                   7|                   6|                   1|                   2|                   0|                   0|                   0|                   0|                  28|                   6|                   3|                   2|                   0|                   0|                   0|                   0|                   0|                   0|                   0|                   0|                   0|                   2|                   7|                   7|                   0|                   0|                   0|                   0|                   0|                   4|                   7|                  28|    d4|Nf6|c4|g6|Nc3|\n",
            "|3a8c5a5e-804a-431...|      6|           3|      Svidler, Peter|      d5|d7d5|         d7|       d5|    P|Black|rnbqkb1r/ppp1pp1p...|       0|            0|             0|                     0|           0|                       0|         16|         16|               8|               8|                1|                1|                 2|                 2|                 2|                 2|               2|               2|                       0|                       0|                   7|                   6|                   1|                   2|                   0|                   0|                   0|                   0|                  28|                   6|                   3|                   2|                   0|                   0|                   0|                   0|                   0|                   0|                   0|                   0|                   1|                   2|                   6|                   7|                   0|                   0|                   0|                   0|                   1|                   4|                   6|                  28| d4|Nf6|c4|g6|Nc3|d5|\n",
            "|3a8c5a5e-804a-431...|      7|           4|Aleksandrov, Aleksej|     Nf3|g1f3|         g1|       f3|    N|White|rnbqkb1r/ppp1pp1p...|       0|            0|             0|                     0|           0|                       0|         16|         16|               8|               8|                1|                1|                 2|                 2|                 2|                 2|               2|               2|                       0|                       0|                   6|                   6|                   2|                   2|                   0|                   0|                   0|                   0|                  25|                   6|                   6|                   2|                   0|                   0|                   0|                   0|                   0|                   0|                   0|                   0|                   1|                   2|                   6|                   7|                   0|                   0|                   0|                   0|                   1|                   4|                   6|                  28|d4|Nf6|c4|g6|Nc3|...|\n",
            "|3a8c5a5e-804a-431...|      8|           4|      Svidler, Peter|     Bg7|f8g7|         f8|       g7|    B|Black|rnbqk2r/ppp1ppbp/...|       0|            0|             0|                     0|           0|                       0|         16|         16|               8|               8|                1|                1|                 2|                 2|                 2|                 2|               2|               2|                       0|                       0|                   6|                   6|                   2|                   2|                   0|                   0|                   0|                   0|                  25|                   6|                   6|                   2|                   0|                   0|                   0|                   0|                   0|                   0|                   0|                   0|                   1|                   2|                   7|                   6|                   0|                   0|                   0|                   0|                   1|                   4|                   9|                  25|d4|Nf6|c4|g6|Nc3|...|\n",
            "|3a8c5a5e-804a-431...|      9|           5|Aleksandrov, Aleksej|     Qb3|d1b3|         d1|       b3|    Q|White|rnbqk2r/ppp1ppbp/...|       0|            0|             0|                     0|           0|                       0|         16|         16|               8|               8|                1|                1|                 2|                 2|                 2|                 2|               2|               2|                       0|                       0|                   5|                   6|                   3|                   2|                   0|                   0|                   0|                   0|                  16|                   6|                  15|                   2|                   0|                   0|                   0|                   0|                   0|                   0|                   0|                   0|                   1|                   2|                   7|                   6|                   0|                   0|                   0|                   0|                   1|                   4|                   9|                  25|d4|Nf6|c4|g6|Nc3|...|\n",
            "|3a8c5a5e-804a-431...|     10|           5|      Svidler, Peter|    dxc4|d5c4|         d5|       c4|    P|Black|rnbqk2r/ppp1ppbp/...|       0|            0|             0|                     0|           0|                       0|         15|         16|               7|               8|                1|                1|                 2|                 2|                 2|                 2|               2|               2|                       0|                       1|                   5|                   6|                   3|                   1|                   0|                   0|                   0|                   0|                  16|                   6|                  15|                   1|                   0|                   0|                   0|                   0|                   0|                   0|                   0|                   1|                   0|                   2|                   7|                   6|                   0|                   0|                   0|                   1|                   0|                   4|                   9|                  25|d4|Nf6|c4|g6|Nc3|...|\n",
            "|3a8c5a5e-804a-431...|     11|           6|Aleksandrov, Aleksej|    Qxc4|b3c4|         b3|       c4|    Q|White|rnbqk2r/ppp1ppbp/...|       0|            0|             0|                     0|           0|                       0|         15|         15|               7|               7|                1|                1|                 2|                 2|                 2|                 2|               2|               2|                       1|                       1|                   5|                   6|                   2|                   2|                   0|                   0|                   0|                   0|                  16|                   6|                   6|                  10|                   0|                   0|                   0|                   0|                   0|                   0|                   0|                   0|                   0|                   2|                   7|                   6|                   0|                   0|                   0|                   0|                   0|                   4|                   9|                  25|d4|Nf6|c4|g6|Nc3|...|\n",
            "|3a8c5a5e-804a-431...|     12|           6|      Svidler, Peter|     O-O|e8g8|         e8|       g8|    K|Black|rnbq1rk1/ppp1ppbp...|       0|            0|             0|                     0|           0|                       0|         15|         15|               7|               7|                1|                1|                 2|                 2|                 2|                 2|               2|               2|                       1|                       1|                   5|                   6|                   2|                   2|                   0|                   0|                   0|                   0|                  16|                   6|                   6|                  10|                   0|                   0|                   0|                   0|                   0|                   0|                   0|                   0|                   0|                   2|                   7|                   6|                   0|                   0|                   0|                   0|                   0|                   4|                   9|                  25|d4|Nf6|c4|g6|Nc3|...|\n",
            "|3a8c5a5e-804a-431...|     13|           7|Aleksandrov, Aleksej|      e4|e2e4|         e2|       e4|    P|White|rnbq1rk1/ppp1ppbp...|       0|            0|             0|                     0|           0|                       0|         15|         15|               7|               7|                1|                1|                 2|                 2|                 2|                 2|               2|               2|                       1|                       1|                   5|                   5|                   2|                   3|                   0|                   0|                   0|                   0|                  16|                   5|                   6|                  11|                   0|                   0|                   0|                   0|                   0|                   0|                   0|                   0|                   0|                   2|                   7|                   6|                   0|                   0|                   0|                   0|                   0|                   4|                   9|                  25|d4|Nf6|c4|g6|Nc3|...|\n",
            "|3a8c5a5e-804a-431...|     14|           7|      Svidler, Peter|     Na6|b8a6|         b8|       a6|    N|Black|r1bq1rk1/ppp1ppbp...|       0|            0|             0|                     0|           0|                       0|         15|         15|               7|               7|                1|                1|                 2|                 2|                 2|                 2|               2|               2|                       1|                       1|                   5|                   5|                   2|                   3|                   0|                   0|                   0|                   0|                  16|                   5|                   6|                  11|                   0|                   0|                   0|                   0|                   0|                   0|                   0|                   0|                   0|                   3|                   7|                   5|                   0|                   0|                   0|                   0|                   0|                   7|                   9|                  22|d4|Nf6|c4|g6|Nc3|...|\n",
            "|3a8c5a5e-804a-431...|     15|           8|Aleksandrov, Aleksej|     Be2|f1e2|         f1|       e2|    B|White|r1bq1rk1/ppp1ppbp...|       0|            0|             0|                     0|           0|                       0|         15|         15|               7|               7|                1|                1|                 2|                 2|                 2|                 2|               2|               2|                       1|                       1|                   4|                   6|                   2|                   3|                   0|                   0|                   0|                   0|                  13|                   8|                   6|                  11|                   0|                   0|                   0|                   0|                   0|                   0|                   0|                   0|                   0|                   3|                   7|                   5|                   0|                   0|                   0|                   0|                   0|                   7|                   9|                  22|d4|Nf6|c4|g6|Nc3|...|\n",
            "|3a8c5a5e-804a-431...|     16|           8|      Svidler, Peter|      c5|c7c5|         c7|       c5|    P|Black|r1bq1rk1/pp2ppbp/...|       0|            0|             0|                     0|           0|                       0|         15|         15|               7|               7|                1|                1|                 2|                 2|                 2|                 2|               2|               2|                       1|                       1|                   4|                   6|                   2|                   3|                   0|                   0|                   0|                   0|                  13|                   8|                   6|                  11|                   0|                   0|                   0|                   0|                   0|                   0|                   0|                   0|                   1|                   3|                   6|                   5|                   0|                   0|                   0|                   0|                   1|                   7|                   8|                  22|d4|Nf6|c4|g6|Nc3|...|\n",
            "|3a8c5a5e-804a-431...|     17|           9|Aleksandrov, Aleksej|      d5|d4d5|         d4|       d5|    P|White|r1bq1rk1/pp2ppbp/...|       0|            0|             0|                     0|           0|                       0|         15|         15|               7|               7|                1|                1|                 2|                 2|                 2|                 2|               2|               2|                       1|                       1|                   4|                   6|                   2|                   2|                   1|                   0|                   0|                   0|                  13|                   8|                   6|                  10|                   1|                   0|                   0|                   0|                   0|                   0|                   0|                   0|                   1|                   3|                   6|                   5|                   0|                   0|                   0|                   0|                   1|                   7|                   8|                  22|d4|Nf6|c4|g6|Nc3|...|\n",
            "+--------------------+-------+------------+--------------------+--------+----+-----------+---------+-----+-----+--------------------+--------+-------------+--------------+----------------------+------------+------------------------+-----------+-----------+----------------+----------------+-----------------+-----------------+------------------+------------------+------------------+------------------+----------------+----------------+------------------------+------------------------+--------------------+--------------------+--------------------+--------------------+--------------------+--------------------+--------------------+--------------------+--------------------+--------------------+--------------------+--------------------+--------------------+--------------------+--------------------+--------------------+--------------------+--------------------+--------------------+--------------------+--------------------+--------------------+--------------------+--------------------+--------------------+--------------------+--------------------+--------------------+--------------------+--------------------+--------------------+--------------------+--------------------+\n",
            "only showing top 20 rows\n",
            "\n"
          ]
        }
      ]
    },
    {
      "cell_type": "markdown",
      "source": [
        "\n",
        "3. Most and Least Popular eco move in world championship history. Result attributes: eco, eco_name, number_of_occurences Final result will have only two rows"
      ],
      "metadata": {
        "id": "pXRRqrFZVHWF"
      }
    },
    {
      "cell_type": "code",
      "source": [
        "chess_wc_history_game_info.select(\"eco\").show()"
      ],
      "metadata": {
        "colab": {
          "base_uri": "https://localhost:8080/"
        },
        "id": "l1iJryJRgk3o",
        "outputId": "fab5084a-d4ac-44e4-e327-6ca9003f0366"
      },
      "execution_count": 68,
      "outputs": [
        {
          "output_type": "stream",
          "name": "stdout",
          "text": [
            "+---+\n",
            "|eco|\n",
            "+---+\n",
            "|C88|\n",
            "|E06|\n",
            "|C88|\n",
            "|C42|\n",
            "|C88|\n",
            "|D02|\n",
            "|C88|\n",
            "|C43|\n",
            "|A13|\n",
            "|C42|\n",
            "|C50|\n",
            "|B31|\n",
            "|D37|\n",
            "|B31|\n",
            "|A29|\n",
            "|B31|\n",
            "|C42|\n",
            "|D37|\n",
            "|B33|\n",
            "|A29|\n",
            "+---+\n",
            "only showing top 20 rows\n",
            "\n"
          ]
        }
      ]
    },
    {
      "cell_type": "code",
      "source": [
        "eco_codes.select(\"eco\",\"eco_name\").show()"
      ],
      "metadata": {
        "colab": {
          "base_uri": "https://localhost:8080/"
        },
        "id": "5tMkd7hsV_pQ",
        "outputId": "4f5f8c79-03fa-4f23-e9c8-e74658ee040c"
      },
      "execution_count": 65,
      "outputs": [
        {
          "output_type": "stream",
          "name": "stdout",
          "text": [
            "+---+--------------------+\n",
            "|eco|            eco_name|\n",
            "+---+--------------------+\n",
            "|A00|    Uncommon Opening|\n",
            "|A01|Nimzovich-Larsen ...|\n",
            "|A02|      Bird's Opening|\n",
            "|A03|      Bird's Opening|\n",
            "|A04|        Reti Opening|\n",
            "|A05|        Reti Opening|\n",
            "|A06|        Reti Opening|\n",
            "|A07|King's Indian Attack|\n",
            "|A08|King's Indian Attack|\n",
            "|A09|        Reti Opening|\n",
            "|A10|             English|\n",
            "|A11|English, Caro-Kan...|\n",
            "|A12|     English with b3|\n",
            "|A13|             English|\n",
            "|A14|             English|\n",
            "|A15|             English|\n",
            "|A16|             English|\n",
            "|A17|             English|\n",
            "|A18|English, Mikenas-...|\n",
            "|A19|English, Mikenas-...|\n",
            "+---+--------------------+\n",
            "only showing top 20 rows\n",
            "\n"
          ]
        }
      ]
    },
    {
      "cell_type": "code",
      "source": [
        "spark_df.groupBy('column_name').count().orderBy('count')\n"
      ],
      "metadata": {
        "id": "E3SRIPoxiPu6"
      },
      "execution_count": null,
      "outputs": []
    },
    {
      "cell_type": "markdown",
      "source": [
        "4. Find the eco move with most winnings.\n",
        "Ps. Use this opening move in your next chess game🙂 Result attributes: eco, eco_name"
      ],
      "metadata": {
        "id": "8OmgSiJBV-qd"
      }
    },
    {
      "cell_type": "code",
      "source": [],
      "metadata": {
        "id": "3vZyVn5qV-aG"
      },
      "execution_count": null,
      "outputs": []
    },
    {
      "cell_type": "markdown",
      "source": [
        "\n",
        "5. Longest and shortest game ever played in a world championship in terms of move.\n",
        "Chess Funda: \"move\" is completed once both White and Black have played one turn. e.g If a game lasts 10 moves, both White and Black have played 10 moves)\n",
        "Result attributes: game_id, event, tournament_name, number_of_moves\n",
        "Final result will have only two rows"
      ],
      "metadata": {
        "id": "8fBwID3YWIwM"
      }
    },
    {
      "cell_type": "code",
      "source": [],
      "metadata": {
        "id": "RZV4BUjlWNtN"
      },
      "execution_count": null,
      "outputs": []
    },
    {
      "cell_type": "markdown",
      "source": [
        "6. Shortest and Longest Draw game ever Played.\n",
        "Result attributes: game_id, event, tournament_name, number_of_moves Final result will have only two rows"
      ],
      "metadata": {
        "id": "bigfZ7iXWORv"
      }
    },
    {
      "cell_type": "code",
      "source": [],
      "metadata": {
        "id": "90kVMA6JWVVx"
      },
      "execution_count": null,
      "outputs": []
    },
    {
      "cell_type": "markdown",
      "source": [
        "7. Most and Least rated Player.\n",
        "Result attributes: player_name, elo\n",
        "Chess Funda: elo is the rating of the player in chess tournament. Final result will have only two rows"
      ],
      "metadata": {
        "id": "YywpKYtfWUi2"
      }
    },
    {
      "cell_type": "code",
      "source": [],
      "metadata": {
        "id": "9nx1KzjtWUGR"
      },
      "execution_count": null,
      "outputs": []
    },
    {
      "cell_type": "markdown",
      "source": [
        "\n",
        "8. 3rd Last Player with most Loss. Result attributes: player_name Final result will have only one row"
      ],
      "metadata": {
        "id": "wArNkb-BWZ2c"
      }
    },
    {
      "cell_type": "code",
      "source": [],
      "metadata": {
        "id": "j7xsriTVWc2j"
      },
      "execution_count": null,
      "outputs": []
    },
    {
      "cell_type": "markdown",
      "source": [
        "\n",
        "9. How many times players with low rating won matches with their total win Count. Result attributes: player_name, win_count"
      ],
      "metadata": {
        "id": "EcqGqtqHWdVW"
      }
    },
    {
      "cell_type": "code",
      "source": [],
      "metadata": {
        "id": "IdwMAi3oWiFb"
      },
      "execution_count": null,
      "outputs": []
    },
    {
      "cell_type": "markdown",
      "source": [
        "\n",
        "10. Move Sequence for Each Player in a Match.\n",
        "Result attributes: game_id, player_name, move_sequence, move_count"
      ],
      "metadata": {
        "id": "TexdjI71Wif6"
      }
    },
    {
      "cell_type": "code",
      "source": [],
      "metadata": {
        "id": "GgaR9mSaWlgS"
      },
      "execution_count": null,
      "outputs": []
    },
    {
      "cell_type": "markdown",
      "source": [
        "\n",
        "11. Total Number of games where losing player has more Captured score than Winning player. Hint: Captured score is cumulative, i.e., for 3rd capture it will have score for 1, 2, and 3rd. Result attributes: total_number_of_games Final result will have only one row"
      ],
      "metadata": {
        "id": "9WHZdVJAWl-0"
      }
    },
    {
      "cell_type": "code",
      "source": [],
      "metadata": {
        "id": "9mDRcP2eWpEI"
      },
      "execution_count": null,
      "outputs": []
    },
    {
      "cell_type": "markdown",
      "source": [
        "\n",
        "12. List All Perfect Tournament with Winner Name.\n",
        "Chess Funda: Perfect Tournament means a player has won all the matches excluding draw matches. e.g Player A has won 5 matches out of 7 Matches in tournament where 2 matches are draw and player B has won 0 matches)\n",
        "Result attributes: winner_name, tournament_name"
      ],
      "metadata": {
        "id": "qqa6k8SwWpfx"
      }
    },
    {
      "cell_type": "code",
      "source": [],
      "metadata": {
        "id": "sCei8NMWWsif"
      },
      "execution_count": null,
      "outputs": []
    },
    {
      "cell_type": "markdown",
      "source": [
        "\n",
        "13. Player with highest winning ratio.\n",
        "Hint: Winning ratio: (Number of rounds won)/(Number of rounds played) Result attributes: player_name\n",
        "Final result will have only one row"
      ],
      "metadata": {
        "id": "xtGKvYVYWs-R"
      }
    },
    {
      "cell_type": "code",
      "source": [],
      "metadata": {
        "id": "nHVcjR76Wxz1"
      },
      "execution_count": null,
      "outputs": []
    },
    {
      "cell_type": "markdown",
      "source": [
        "\n",
        "14. Player who had given checkmate with Pawn. Note: Consider all events for this query Result attributes: player_name\n",
        "Final result will have only one row"
      ],
      "metadata": {
        "id": "m5dMEwiFWyZH"
      }
    },
    {
      "cell_type": "code",
      "source": [],
      "metadata": {
        "id": "JLoLIufdWzj0"
      },
      "execution_count": null,
      "outputs": []
    },
    {
      "cell_type": "markdown",
      "source": [
        "\n",
        "15. List games where player has won game without queen. Result attributes: game_id, event, player_name\n"
      ],
      "metadata": {
        "id": "-dU6eVBASU0G"
      }
    },
    {
      "cell_type": "code",
      "source": [],
      "metadata": {
        "id": "-WpW_U0OSily"
      },
      "execution_count": null,
      "outputs": []
    }
  ]
}